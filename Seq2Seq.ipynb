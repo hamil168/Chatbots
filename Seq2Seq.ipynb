{
  "nbformat": 4,
  "nbformat_minor": 0,
  "metadata": {
    "colab": {
      "name": "Seq2Seq.ipynb",
      "version": "0.3.2",
      "provenance": [],
      "collapsed_sections": [],
      "include_colab_link": true
    },
    "kernelspec": {
      "name": "python3",
      "display_name": "Python 3"
    }
  },
  "cells": [
    {
      "cell_type": "markdown",
      "metadata": {
        "id": "view-in-github",
        "colab_type": "text"
      },
      "source": [
        "[View in Colaboratory](https://colab.research.google.com/github/hamil168/Chatbots/blob/master/Seq2Seq.ipynb)"
      ]
    },
    {
      "metadata": {
        "id": "n4oyS5PcJBxu",
        "colab_type": "code",
        "colab": {
          "base_uri": "https://localhost:8080/",
          "height": 34
        },
        "outputId": "c9837bf6-8ab0-4894-cd87-7dd2adf5c4ac"
      },
      "cell_type": "code",
      "source": [
        "# For a fresh Colab instance, clone fresh:\n",
        "!pip install -q xlrd\n",
        "!git clone https://github.com/hamil168/Chatbots"
      ],
      "execution_count": 1,
      "outputs": [
        {
          "output_type": "stream",
          "text": [
            "fatal: destination path 'Chatbots' already exists and is not an empty directory.\r\n"
          ],
          "name": "stdout"
        }
      ]
    },
    {
      "metadata": {
        "id": "Jw1qRtMF32Ke",
        "colab_type": "text"
      },
      "cell_type": "markdown",
      "source": [
        ""
      ]
    },
    {
      "metadata": {
        "id": "nGvvfIY0JCyk",
        "colab_type": "code",
        "colab": {
          "base_uri": "https://localhost:8080/",
          "height": 34
        },
        "outputId": "d2822110-eb95-492a-e2e5-dd9d2f92e1a0"
      },
      "cell_type": "code",
      "source": [
        "# Change to Colab directory:\n",
        "cd Chatbots/"
      ],
      "execution_count": 1,
      "outputs": [
        {
          "output_type": "stream",
          "text": [
            "/content/Chatbots\n"
          ],
          "name": "stdout"
        }
      ]
    },
    {
      "metadata": {
        "id": "D7PTpdU00-eR",
        "colab_type": "code",
        "colab": {
          "base_uri": "https://localhost:8080/",
          "height": 70
        },
        "outputId": "ad2634e3-e645-463e-a846-18eac0b8c62e"
      },
      "cell_type": "code",
      "source": [
        "# For an existing Colab instance, pull from master, uncomment this:\n",
        "\n",
        "!git pull https://github.com/hamil168/Chatbots master"
      ],
      "execution_count": 2,
      "outputs": [
        {
          "output_type": "stream",
          "text": [
            "From https://github.com/hamil168/Chatbots\r\n",
            " * branch            master     -> FETCH_HEAD\r\n",
            "Already up-to-date.\r\n"
          ],
          "name": "stdout"
        }
      ]
    },
    {
      "metadata": {
        "id": "oWBAHK8kWX26",
        "colab_type": "code",
        "colab": {
          "base_uri": "https://localhost:8080/",
          "height": 70
        },
        "outputId": "d53a6010-d396-438f-8dcd-dd0996927e60"
      },
      "cell_type": "code",
      "source": [
        "# Files as they appear in the repo clone\n",
        "ls"
      ],
      "execution_count": 3,
      "outputs": [
        {
          "output_type": "stream",
          "text": [
            "Cornell Movie Script Database EDA.ipynb  Preproc.ipynb  README.md\r\n",
            "movie_conversations.txt                  preproc.py     Seq2Seq.ipynb\r\n",
            "movie_lines.txt                          \u001b[0m\u001b[01;34m__pycache__\u001b[0m/\r\n"
          ],
          "name": "stdout"
        }
      ]
    },
    {
      "metadata": {
        "id": "86Muxioq5zlF",
        "colab_type": "code",
        "colab": {}
      },
      "cell_type": "code",
      "source": [
        "import numpy as np\n",
        "import tensorflow as tf\n",
        "import time\n",
        "import re"
      ],
      "execution_count": 0,
      "outputs": []
    },
    {
      "metadata": {
        "id": "nvAgspuguXRa",
        "colab_type": "code",
        "colab": {}
      },
      "cell_type": "code",
      "source": [
        "#!python preproc.py\n",
        "from preproc import *"
      ],
      "execution_count": 0,
      "outputs": []
    },
    {
      "metadata": {
        "id": "i3IZHUqE1hXD",
        "colab_type": "code",
        "colab": {}
      },
      "cell_type": "code",
      "source": [
        "lines = open('movie_lines.txt', encoding = 'utf-8', errors = 'ignore').read().split('\\n')\n",
        "conversations = open('movie_conversations.txt', encoding = 'utf-8', errors = 'ignore').read().split('\\n')"
      ],
      "execution_count": 0,
      "outputs": []
    },
    {
      "metadata": {
        "id": "Mq2OEcQEZMU3",
        "colab_type": "code",
        "colab": {}
      },
      "cell_type": "code",
      "source": [
        "id2l, cid, questions, answers, clean_questions, clean_answers, word2count, sorted_clean_questions, sorted_clean_answers = preproc_steps(lines,conversations)\n",
        "\n",
        "questionswords2int, answerswords2int = map_questions_and_answers_to_integers(w2c)"
      ],
      "execution_count": 0,
      "outputs": []
    },
    {
      "metadata": {
        "id": "76YSZQggcUGp",
        "colab_type": "code",
        "colab": {
          "base_uri": "https://localhost:8080/",
          "height": 105
        },
        "outputId": "39060196-7ab3-4767-ddda-f48831f83363"
      },
      "cell_type": "code",
      "source": [
        "conversations[0:5]"
      ],
      "execution_count": 51,
      "outputs": [
        {
          "output_type": "execute_result",
          "data": {
            "text/plain": [
              "[\"u0 +++$+++ u2 +++$+++ m0 +++$+++ ['L194', 'L195', 'L196', 'L197']\",\n",
              " \"u0 +++$+++ u2 +++$+++ m0 +++$+++ ['L198', 'L199']\",\n",
              " \"u0 +++$+++ u2 +++$+++ m0 +++$+++ ['L200', 'L201', 'L202', 'L203']\",\n",
              " \"u0 +++$+++ u2 +++$+++ m0 +++$+++ ['L204', 'L205', 'L206']\",\n",
              " \"u0 +++$+++ u2 +++$+++ m0 +++$+++ ['L207', 'L208']\"]"
            ]
          },
          "metadata": {
            "tags": []
          },
          "execution_count": 51
        }
      ]
    },
    {
      "metadata": {
        "id": "wB9CHeplaNlf",
        "colab_type": "code",
        "colab": {
          "base_uri": "https://localhost:8080/",
          "height": 87
        },
        "outputId": "aea51c29-c407-4acf-fca7-744d7ba0710a"
      },
      "cell_type": "code",
      "source": [
        "get_conversations_ids(conversations[0:5])"
      ],
      "execution_count": 52,
      "outputs": [
        {
          "output_type": "execute_result",
          "data": {
            "text/plain": [
              "[['L194', 'L195', 'L196', 'L197'],\n",
              " ['L198', 'L199'],\n",
              " ['L200', 'L201', 'L202', 'L203'],\n",
              " ['L204', 'L205', 'L206']]"
            ]
          },
          "metadata": {
            "tags": []
          },
          "execution_count": 52
        }
      ]
    },
    {
      "metadata": {
        "id": "JHKO_vKW7sCL",
        "colab_type": "code",
        "colab": {
          "base_uri": "https://localhost:8080/",
          "height": 90
        },
        "outputId": "f8a5c72f-f294-4e77-a065-2384e6cff0bc"
      },
      "cell_type": "code",
      "source": [
        "print(questions[0:3])\n",
        "print(clean_questions[0:3])\n",
        "print(sorted_clean_questions[0:3])"
      ],
      "execution_count": 53,
      "outputs": [
        {
          "output_type": "stream",
          "text": [
            "['Can we make this quick?  Roxanne Korrine and Andrew Barrett are having an incredibly horrendous public break- up on the quad.  Again.', \"Well, I thought we'd start with pronunciation, if that's okay with you.\", 'Not the hacking and gagging and spitting part.  Please.']\n",
            "['can we make this quick  roxanne korrine and andrew barrett are having an incredibly horrendous public break up on the quad  again', 'well i thought we would start with pronunciation if that is okay with you', 'not the hacking and gagging and spitting part  please']\n",
            "[[48], [63], [124]]\n"
          ],
          "name": "stdout"
        }
      ]
    },
    {
      "metadata": {
        "id": "28kMPJR05Y8m",
        "colab_type": "code",
        "colab": {}
      },
      "cell_type": "code",
      "source": [
        "# Create placeholder for inputs and the targets\n",
        "# in TF, all variables are tensors\n",
        "# need to go from NP --> TF tensors\n",
        "# need placeholders for every TF variables inputs and targets\n",
        "\n",
        "def model_inputs():\n",
        "  #inputs and targets are 2D matrices\n",
        "  inputs = tf.placeholder(tf.int32, [None, None], name = 'inputs') \n",
        "  targets = tf.placeholder(tf.int32, [None, None], name = 'targets')\n",
        "  keep_prob = tf.placeholder(tf.float32, name = 'dropout_rate') #dropout\n",
        "  \n",
        "  lr = tf.placeholder(tf.float32, name = 'learning_rate')\n",
        "  \n",
        "  encoder_sequence_length = tf.placeholder(tf.int32, (None, ), name='encoder_seq_len')\n",
        "  decoder_sequence_length = tf.placeholder(tf.int32, (None, ), name='decoder_seq_len')\n",
        "  max_sequence_length = tf.reduce_max(decoder_seq_len, name='max_seq_len')\n",
        "  \n",
        "  return inputs, targets, keep_prob, encoder_sequence_length, decoder_sequence_length, max_sequence_length"
      ],
      "execution_count": 0,
      "outputs": []
    },
    {
      "metadata": {
        "id": "vcPkYl7184NK",
        "colab_type": "code",
        "colab": {}
      },
      "cell_type": "code",
      "source": [
        "# Create encoder RNN layer\n",
        "def encoder_rnn(rnn_inputs, rnn_size, num_layers, keep_prob, sequence_length):\n",
        "  \n",
        "  \n",
        "  # LSTM cell class\n",
        "  # rnn_size: number of input tensors\n",
        "  # sequence_length: length of each question in the atch\n",
        "  \n",
        "  \n",
        "  def cell(units, rate):\n",
        "    layer = tf.contrib.rnn.BasicLSTMCell(rnn_size)\n",
        "    return tf.contrib.rnn.DropoutWrapper(layer, rate)\n",
        "\n",
        "  encoder_cell_fw = tf.contrib.rnn.MultiRNNCell([cell(rnn_size, keep_prob) for _ in range(num_layers)])\n",
        "  encoder_cell_bw = tf.contrib.rnn.MultiRNNCell([cell(rnn_size, keep_prob) for _ in range(num_layers)])\n",
        "\n",
        "  \n",
        "  # bidirection rnn function (creates dynamic bidirectional network)\n",
        "  # builds independent forward and backward rnn\n",
        "  # need ot make sure the ends match\n",
        "  # (first element is encoder_output)\n",
        "  encoder_outputs, encoder_states = tf.nn.bidirectional_dynamic_rnn(cell_fw = encoder_cell_fw,\n",
        "                                                   cell_bw = encoder_cell_bw,\n",
        "                                                   inputs = rnn_inputs,\n",
        "                                                   sequence_length = sequence_length,\n",
        "                                                   dtype = tf.float32)\n",
        "  \n",
        "  return encoder_outputs, encoder_states\n"
      ],
      "execution_count": 0,
      "outputs": []
    },
    {
      "metadata": {
        "id": "R3v5y5YB6lHv",
        "colab_type": "code",
        "colab": {}
      },
      "cell_type": "code",
      "source": [
        "# preprocessing the targets\n",
        "# need batches, \n",
        "# need each to start with <SOS> token\n",
        "\n",
        "def preprocess_decoder_inputs(targets, word2int_dict, batch_size):\n",
        "  \"\"\"\n",
        "\n",
        "  Prepares the decoder inputs (i.e. the 'targets') for use\n",
        "     \n",
        "     Inputs: \n",
        "        targets: the input for the decoder for training.\n",
        "        word2int_dict: one of the dictionaries used to map a word to its integer\n",
        "        batch_size: size of each batch for model training\n",
        "        \n",
        "     Outputs:\n",
        "        preprocessed_targets: the processed version of the decoder inputs\n",
        "  \n",
        "  \"\"\"\n",
        "  \n",
        "  # Using <SOS> for \"start of string\", create a tensor with one per batch element\n",
        "  left_side = tf.fill([batch_size, 1], word2int_dict['<SOS>'])\n",
        "    \n",
        "  # Take the targets and remove the last member of each sample (it is blank)\n",
        "  right_side = tf.strided_slice(targets, [0,0], [batch_size, -1], [1,1])\n",
        "  \n",
        "  # Add the <SOS> to the left side of every target phrase\n",
        "  preprocessed_targets = tf.concat([left_side, right_side], 1)\n",
        "  \n",
        "  return preprocessed_targets"
      ],
      "execution_count": 0,
      "outputs": []
    },
    {
      "metadata": {
        "id": "XrO9rYaxfuUc",
        "colab_type": "text"
      },
      "cell_type": "markdown",
      "source": [
        "### Attention\n",
        "- (warning for later, when I add Beam Search) **NOTE** If you are using the `BeamSearchDecoder` with a cell wrapped in\n",
        "`AttentionWrapper`\n",
        "- will also need to return here with DeviceWrapper for multiple GPUs"
      ]
    },
    {
      "metadata": {
        "id": "Po14wIN5hQLz",
        "colab_type": "code",
        "colab": {}
      },
      "cell_type": "code",
      "source": [
        "def decoder(encoder_state, decoder_cell, decoder_inputs, \n",
        "            vocabulary_size, decoder_sequence_length, max_sequence_length,\n",
        "            word2id_dict, batch_size, keep_prob):  #dropout?\n",
        "  \n",
        "  \n",
        "  embedding_layer = tf.Variable(tf.random_uniform([vocabulary_size, decoder_sequence_length]))\n",
        "  embeddings = tf.nn.embedding_lookup(embedding_layer, decoder_inputs)\n",
        "  \n",
        "  output_layer = Dense(vocab_size, kernel_initializer=tf.truncated_normal_initializer(0.0, 0.1))\n",
        "    \n",
        "  with tf.variable_scope('decoder'):\n",
        "  \n",
        "    # Get attention states\n",
        "    # shaped [batch_size, memory_max_time, memory_depth]\n",
        "    #attention_states = tf.zeros([batch_size, 1, decoder_cell.output_size])\n",
        "\n",
        "    # linear attention\n",
        "    #attention_mechanism = tf.contrib.seq2seq.BahdanauAttention(num_units = decoder_cell.output_size, \n",
        "                                                               #memory = attention_states\n",
        "\n",
        "    # 256 look up.\n",
        "    #attention_cell = tf.contrib.seq2seq.AttentionWrapper(decoder_cell, attention_mechanism)\n",
        "\n",
        "    train_helper = tf.contrib.seq2seq.TrainingHelper(decoder_inputs, sequence_length = decoder_sequence_length)\n",
        "\n",
        "    train_decoder = tf.contrib.seq2seq.BasicDecoder(cell = decoder_cell,\n",
        "                                             helper = train_helper,\n",
        "                                             initial_state = encoder_state[0])\n",
        "\n",
        "\n",
        "    # returns (final_outputs, final_state, final_sequence_lengths)\n",
        "    train_decoder_output, _, _ = tf.contrib.seq2seq.dynamic_decode(decoder = train_decoder,\n",
        "                                                             impute_finished = True,\n",
        "                                                             maximum_iterations = max_sequence_length)\n",
        "    ###########################\n",
        "    #decoder_output_dropout is handled in a attention wrapper function outside of this functinon                                                                \n",
        "                                                   \n",
        "  with tf.variable_scope('decoder', reuse=True):\n",
        "  \n",
        "    starting_id_vector = tf.tile(tf.constant([word_to_id['<SOS>']], dtype=tf.int32), [batch_size], name = 'starting_id_vector')                                               \n",
        "                                                   \n",
        "    infer_helper = tf.contrib.seq2seq.GreedyEmbeddingHelper(embedding_layer, \n",
        "                                                            starting_id_vector,\n",
        "                                                           word2id_dict['<EOS>'])                                                   \n",
        "\n",
        "    infer_decoder = tf.contrib.seq2seq.BasicDecoder(decoder_cell,\n",
        "                                                    helper = infer_helper,\n",
        "                                                    initial_state = encoder_state,\n",
        "                                                    output_layer=output_layer)\n",
        "\n",
        "\n",
        "    # returns (final_outputs, final_state, final_sequence_lengths)\n",
        "    infer_decoder_output, _, _ = tf.contrib.seq2seq.dynamic_decode(infer_decoder,\n",
        "                                                             impute_finished = True,\n",
        "                                                             maximum_iterations = max_sequence_length)\n",
        "    \n",
        "                                                   \n",
        "  return train_decoder_output, infer_decoder_output\n",
        "                                                   \n",
        "                                                   \n",
        "                                              \n",
        "  "
      ],
      "execution_count": 0,
      "outputs": []
    },
    {
      "metadata": {
        "id": "abZWRmkcs4ax",
        "colab_type": "text"
      },
      "cell_type": "markdown",
      "source": [
        "def decoder_rnn(decoder_embedded_input, decoder_embeddings_matrix, encoder_state, num_words, sequence_length, rnn_size, num_layers, word2int, keep_prob, batch_size):\n",
        "  with tf.variable_scope('decoding', reuse=tf.AUTO_REUSE) as decoding_scope:\n",
        "    lstm = tf.contrib.rnn.BasicLSTMCell(rnn_size)\n",
        "    lstm_dropout = tf.contrib.rnn.DropoutWrapper(lstm, input_keep_prob = keep_prob)\n",
        "    decoder_cell = tf.contrib.rnn.MultiRNNCell([lstm_dropout] * num_layers)\n",
        "    \n",
        "    weights = tf.truncated_normal_initializer(stddev = 0.1)\n",
        "    biases = tf.zeros_initializer()\n",
        "    \n",
        "    # create FCL\n",
        "    output_function = lambda x: tf.contrib.layers.fully_connected(x,\n",
        "                                                                 num_words,\n",
        "                                                                 None,\n",
        "                                                                 scope = decoding_scope,\n",
        "                                                                 weights_initializer = weights,\n",
        "                                                                 baises_initializer = biases)\n",
        "    \n",
        "    training_predictions = decode_training_set(encoder_state, decoder_cell,\n",
        "                                              decoder_embedded_input,\n",
        "                                              sequence_length,\n",
        "                                              decoding_scope,\n",
        "                                              output_function,\n",
        "                                              keep_prob,\n",
        "                                              batch_size)\n",
        "    \n",
        "    #decoding_scope.reuse_variables()\n",
        "    test_predictions = decode_test_set(encoder_state,\n",
        "                                      decoder_cell,\n",
        "                                      decoder_embeddings_matrix,\n",
        "                                      word2int['<SOS>'],\n",
        "                                      word2int['<EOS>'],\n",
        "                                      sequence_length - 1,  #exclude last token\n",
        "                                      num_words,\n",
        "                                      decoding_scope,\n",
        "                                      sequence_length,\n",
        "                                      output_function,\n",
        "                                      keep_prob,\n",
        "                                      batch_size)\n",
        "    \n",
        "    \n",
        "  return training_predictions, test_predictions    \n",
        "    "
      ]
    },
    {
      "metadata": {
        "id": "kZs76eWQcGGl",
        "colab_type": "code",
        "colab": {}
      },
      "cell_type": "code",
      "source": [
        "\n",
        "def attention_mechanism(rnn_size, keep_prob, encoder_outputs, encoder_states, encoder_sequence_length, batch_size):\n",
        "  \n",
        "  \n",
        "  def cell(units, probs):\n",
        "    layer = tf.contrib.rnn.BasicLSTMCell(units)\n",
        "    return tf.contrib.rnn.DropoutWrapper(layer, probs)\n",
        "  \n",
        "  decoder_cell = cell(rnn_size, keep_prob)\n",
        "  \n",
        "  attention_mechanism = tf.contrib.seq2seq.BahdanauAttention(rnn_size, \n",
        "                                                            encoder_outputs,\n",
        "                                                            encoder_sequence_length)\n",
        "  \n",
        "  decoder_cell_wrapped = tf.contrib.seq2seq.AttentionWrapper(decoder_cell,\n",
        "                                                            attention_mechanism,\n",
        "                                                            rnn_size / 2)\n",
        "  \n",
        "  attention_ought = decoder_cell_wrapped.zero_state(batch_size = batch_size, dtype = tf.float32)\n",
        "  \n",
        "  encoder_state_new = attention_ought.clone(cell_state = encoder_states[-1])\n",
        "  \n",
        "  return decoder_cell_wrapped, encoder_state_new\n",
        "  \n"
      ],
      "execution_count": 0,
      "outputs": []
    },
    {
      "metadata": {
        "id": "FCPYhwpPuABI",
        "colab_type": "code",
        "colab": {}
      },
      "cell_type": "code",
      "source": [
        "# Build the Model\n",
        "\n",
        "def seq2seq_model(inputs, targets, keep_prob, batch_size, sequence_length, answers_num_words, questions_num_words,\n",
        "                 encoder_embedding_size, decoder_embedding_size, rnn_size, num_layers, questionswords2int):\n",
        "  \n",
        "  encoder_embedded_input = tf.contrib.layers.embed_sequence(inputs,\n",
        "                                                           answers_num_words + 1,\n",
        "                                                           encoder_embedding_size,\n",
        "                                                           initializer = tf.random_uniform_initializer(0,1))\n",
        "  \n",
        "  encoder_state = encoder_rnn(encoder_embedded_input, rnn_size, num_layers, keep_prob, sequence_length)\n",
        "  \n",
        "  ## check here for nonetype\n",
        "  preprocessed_targets = preprocess_targets(targets, questionswords2int, batch_size)\n",
        "  \n",
        "  decoder_embeddings_matrix = tf.Variable(tf.random_uniform([questions_num_words + 1, decoder_embedding_size], 0, 1))\n",
        "  \n",
        "  decoder_embedded_input = tf.nn.embedding_lookup(decoder_embeddings_matrix, preprocessed_targets)\n",
        "  \n",
        "  ## check here for nonetype\n",
        "  training_predictions, test_predictions = decoder_rnn(decoder_embedded_input,\n",
        "                                                      decoder_embeddings_matrix,\n",
        "                                                      encoder_state,\n",
        "                                                      questions_num_words,\n",
        "                                                      sequence_length,\n",
        "                                                      rnn_size,\n",
        "                                                      num_layers,\n",
        "                                                      questionswords2int,\n",
        "                                                      keep_prob,\n",
        "                                                      batch_size)"
      ],
      "execution_count": 0,
      "outputs": []
    },
    {
      "metadata": {
        "id": "C3adoQBBzf9V",
        "colab_type": "code",
        "colab": {}
      },
      "cell_type": "code",
      "source": [
        "# Next up: hyper parameters\n",
        "epochs = 100\n",
        "batch_size = 64  # make bigger to make faster\n",
        "rnn_size = 512 \n",
        "num_layers = 3\n",
        "encoding_embedding_size = 512  # 512 col in embedding matrix\n",
        "decoding_embedding_size = 512\n",
        "learning_rate = 0.01\n",
        "learning_rate_decay = 0.9\n",
        "min_learning_rate = 0.0001\n",
        "#keep_prob = 0.5\n",
        "keep_probability = 0.5  # based on hinton paper '14'\n"
      ],
      "execution_count": 0,
      "outputs": []
    },
    {
      "metadata": {
        "id": "X8myMLVUn5vO",
        "colab_type": "code",
        "colab": {}
      },
      "cell_type": "code",
      "source": [
        "# Here for convenience if I need it\n",
        "session.close()"
      ],
      "execution_count": 0,
      "outputs": []
    },
    {
      "metadata": {
        "id": "TZ0V1uu-MoaL",
        "colab_type": "code",
        "colab": {}
      },
      "cell_type": "code",
      "source": [
        ""
      ],
      "execution_count": 0,
      "outputs": []
    },
    {
      "metadata": {
        "id": "Bz-fpTJ93AGQ",
        "colab_type": "code",
        "colab": {
          "base_uri": "https://localhost:8080/",
          "height": 1094
        },
        "outputId": "eedd290c-c1ba-4439-e9f6-125537f78cd2"
      },
      "cell_type": "code",
      "source": [
        "\n",
        "# define a TF session\n",
        "\n",
        "# reset graphs\n",
        "\n",
        "\n",
        "tf.reset_default_graph()\n",
        "session = tf.InteractiveSession()\n",
        "\n",
        "# load model inputs\n",
        "\n",
        "inputs, targets, lr, keep_prob = model_inputs()\n",
        "\n",
        "# sequence length\n",
        "#sequence_length = tf.placeholder(tf.int32, shape=(batch_size,), name = 'sequence_length')\n",
        "\n",
        "sequence_length = tf.placeholder_with_default(batch_size, (20,1), name = 'sequence_length')\n",
        "\n",
        "print(tf.shape(sequence_length, name = 'sequence_length_shape'))  # error sayings sequence_length is supposed to be a vector.\n",
        "\n",
        "# get shape of input tensor\n",
        "input_shape = tf.shape(inputs, name = 'input_shape')\n",
        "print(input_shape)                                   \n",
        "print(tf.shape(tf.reverse(inputs,[-1])))"
      ],
      "execution_count": 114,
      "outputs": [
        {
          "output_type": "stream",
          "text": [
            "/usr/local/lib/python3.6/dist-packages/tensorflow/python/client/session.py:1714: UserWarning: An interactive session is already active. This can cause out-of-memory errors in some cases. You must explicitly call `InteractiveSession.close()` to release resources held by the other session(s).\n",
            "  warnings.warn('An interactive session is already active. This can '\n"
          ],
          "name": "stderr"
        },
        {
          "output_type": "error",
          "ename": "ValueError",
          "evalue": "ignored",
          "traceback": [
            "\u001b[0;31m---------------------------------------------------------------------------\u001b[0m",
            "\u001b[0;31mInvalidArgumentError\u001b[0m                      Traceback (most recent call last)",
            "\u001b[0;32m/usr/local/lib/python3.6/dist-packages/tensorflow/python/framework/ops.py\u001b[0m in \u001b[0;36m_create_c_op\u001b[0;34m(graph, node_def, inputs, control_inputs)\u001b[0m\n\u001b[1;32m   1588\u001b[0m   \u001b[0;32mtry\u001b[0m\u001b[0;34m:\u001b[0m\u001b[0;34m\u001b[0m\u001b[0m\n\u001b[0;32m-> 1589\u001b[0;31m     \u001b[0mc_op\u001b[0m \u001b[0;34m=\u001b[0m \u001b[0mc_api\u001b[0m\u001b[0;34m.\u001b[0m\u001b[0mTF_FinishOperation\u001b[0m\u001b[0;34m(\u001b[0m\u001b[0mop_desc\u001b[0m\u001b[0;34m)\u001b[0m\u001b[0;34m\u001b[0m\u001b[0m\n\u001b[0m\u001b[1;32m   1590\u001b[0m   \u001b[0;32mexcept\u001b[0m \u001b[0merrors\u001b[0m\u001b[0;34m.\u001b[0m\u001b[0mInvalidArgumentError\u001b[0m \u001b[0;32mas\u001b[0m \u001b[0me\u001b[0m\u001b[0;34m:\u001b[0m\u001b[0;34m\u001b[0m\u001b[0m\n",
            "\u001b[0;31mInvalidArgumentError\u001b[0m: Shapes must be equal rank, but are 0 and 2 for 'sequence_length' (op: 'PlaceholderWithDefault') with input shapes: [].",
            "\nDuring handling of the above exception, another exception occurred:\n",
            "\u001b[0;31mValueError\u001b[0m                                Traceback (most recent call last)",
            "\u001b[0;32m<ipython-input-114-9ad44ac4ceb4>\u001b[0m in \u001b[0;36m<module>\u001b[0;34m()\u001b[0m\n\u001b[1;32m     11\u001b[0m \u001b[0;31m#sequence_length = tf.placeholder(tf.int32, shape=(batch_size,), name = 'sequence_length')\u001b[0m\u001b[0;34m\u001b[0m\u001b[0;34m\u001b[0m\u001b[0m\n\u001b[1;32m     12\u001b[0m \u001b[0;34m\u001b[0m\u001b[0m\n\u001b[0;32m---> 13\u001b[0;31m \u001b[0msequence_length\u001b[0m \u001b[0;34m=\u001b[0m \u001b[0mtf\u001b[0m\u001b[0;34m.\u001b[0m\u001b[0mplaceholder_with_default\u001b[0m\u001b[0;34m(\u001b[0m\u001b[0;36m25\u001b[0m\u001b[0;34m,\u001b[0m \u001b[0;34m(\u001b[0m\u001b[0;36m20\u001b[0m\u001b[0;34m,\u001b[0m\u001b[0;36m1\u001b[0m\u001b[0;34m)\u001b[0m\u001b[0;34m,\u001b[0m \u001b[0mname\u001b[0m \u001b[0;34m=\u001b[0m \u001b[0;34m'sequence_length'\u001b[0m\u001b[0;34m)\u001b[0m\u001b[0;34m\u001b[0m\u001b[0m\n\u001b[0m\u001b[1;32m     14\u001b[0m \u001b[0;34m\u001b[0m\u001b[0m\n\u001b[1;32m     15\u001b[0m \u001b[0mprint\u001b[0m\u001b[0;34m(\u001b[0m\u001b[0mtf\u001b[0m\u001b[0;34m.\u001b[0m\u001b[0mshape\u001b[0m\u001b[0;34m(\u001b[0m\u001b[0msequence_length\u001b[0m\u001b[0;34m,\u001b[0m \u001b[0mname\u001b[0m \u001b[0;34m=\u001b[0m \u001b[0;34m'sequence_length_shape'\u001b[0m\u001b[0;34m)\u001b[0m\u001b[0;34m)\u001b[0m  \u001b[0;31m# error sayings sequence_length is supposed to be a vector.\u001b[0m\u001b[0;34m\u001b[0m\u001b[0m\n",
            "\u001b[0;32m/usr/local/lib/python3.6/dist-packages/tensorflow/python/ops/gen_array_ops.py\u001b[0m in \u001b[0;36mplaceholder_with_default\u001b[0;34m(input, shape, name)\u001b[0m\n\u001b[1;32m   5050\u001b[0m     \u001b[0mshape\u001b[0m \u001b[0;34m=\u001b[0m \u001b[0m_execute\u001b[0m\u001b[0;34m.\u001b[0m\u001b[0mmake_shape\u001b[0m\u001b[0;34m(\u001b[0m\u001b[0mshape\u001b[0m\u001b[0;34m,\u001b[0m \u001b[0;34m\"shape\"\u001b[0m\u001b[0;34m)\u001b[0m\u001b[0;34m\u001b[0m\u001b[0m\n\u001b[1;32m   5051\u001b[0m     _, _, _op = _op_def_lib._apply_op_helper(\n\u001b[0;32m-> 5052\u001b[0;31m         \"PlaceholderWithDefault\", input=input, shape=shape, name=name)\n\u001b[0m\u001b[1;32m   5053\u001b[0m     \u001b[0m_result\u001b[0m \u001b[0;34m=\u001b[0m \u001b[0m_op\u001b[0m\u001b[0;34m.\u001b[0m\u001b[0moutputs\u001b[0m\u001b[0;34m[\u001b[0m\u001b[0;34m:\u001b[0m\u001b[0;34m]\u001b[0m\u001b[0;34m\u001b[0m\u001b[0m\n\u001b[1;32m   5054\u001b[0m     \u001b[0m_inputs_flat\u001b[0m \u001b[0;34m=\u001b[0m \u001b[0m_op\u001b[0m\u001b[0;34m.\u001b[0m\u001b[0minputs\u001b[0m\u001b[0;34m\u001b[0m\u001b[0m\n",
            "\u001b[0;32m/usr/local/lib/python3.6/dist-packages/tensorflow/python/framework/op_def_library.py\u001b[0m in \u001b[0;36m_apply_op_helper\u001b[0;34m(self, op_type_name, name, **keywords)\u001b[0m\n\u001b[1;32m    785\u001b[0m         op = g.create_op(op_type_name, inputs, output_types, name=scope,\n\u001b[1;32m    786\u001b[0m                          \u001b[0minput_types\u001b[0m\u001b[0;34m=\u001b[0m\u001b[0minput_types\u001b[0m\u001b[0;34m,\u001b[0m \u001b[0mattrs\u001b[0m\u001b[0;34m=\u001b[0m\u001b[0mattr_protos\u001b[0m\u001b[0;34m,\u001b[0m\u001b[0;34m\u001b[0m\u001b[0m\n\u001b[0;32m--> 787\u001b[0;31m                          op_def=op_def)\n\u001b[0m\u001b[1;32m    788\u001b[0m       \u001b[0;32mreturn\u001b[0m \u001b[0moutput_structure\u001b[0m\u001b[0;34m,\u001b[0m \u001b[0mop_def\u001b[0m\u001b[0;34m.\u001b[0m\u001b[0mis_stateful\u001b[0m\u001b[0;34m,\u001b[0m \u001b[0mop\u001b[0m\u001b[0;34m\u001b[0m\u001b[0m\n\u001b[1;32m    789\u001b[0m \u001b[0;34m\u001b[0m\u001b[0m\n",
            "\u001b[0;32m/usr/local/lib/python3.6/dist-packages/tensorflow/python/framework/ops.py\u001b[0m in \u001b[0;36mcreate_op\u001b[0;34m(self, op_type, inputs, dtypes, input_types, name, attrs, op_def, compute_shapes, compute_device)\u001b[0m\n\u001b[1;32m   3412\u001b[0m           \u001b[0minput_types\u001b[0m\u001b[0;34m=\u001b[0m\u001b[0minput_types\u001b[0m\u001b[0;34m,\u001b[0m\u001b[0;34m\u001b[0m\u001b[0m\n\u001b[1;32m   3413\u001b[0m           \u001b[0moriginal_op\u001b[0m\u001b[0;34m=\u001b[0m\u001b[0mself\u001b[0m\u001b[0;34m.\u001b[0m\u001b[0m_default_original_op\u001b[0m\u001b[0;34m,\u001b[0m\u001b[0;34m\u001b[0m\u001b[0m\n\u001b[0;32m-> 3414\u001b[0;31m           op_def=op_def)\n\u001b[0m\u001b[1;32m   3415\u001b[0m \u001b[0;34m\u001b[0m\u001b[0m\n\u001b[1;32m   3416\u001b[0m       \u001b[0;31m# Note: shapes are lazily computed with the C API enabled.\u001b[0m\u001b[0;34m\u001b[0m\u001b[0;34m\u001b[0m\u001b[0m\n",
            "\u001b[0;32m/usr/local/lib/python3.6/dist-packages/tensorflow/python/framework/ops.py\u001b[0m in \u001b[0;36m__init__\u001b[0;34m(self, node_def, g, inputs, output_types, control_inputs, input_types, original_op, op_def)\u001b[0m\n\u001b[1;32m   1754\u001b[0m           op_def, inputs, node_def.attr)\n\u001b[1;32m   1755\u001b[0m       self._c_op = _create_c_op(self._graph, node_def, grouped_inputs,\n\u001b[0;32m-> 1756\u001b[0;31m                                 control_input_ops)\n\u001b[0m\u001b[1;32m   1757\u001b[0m     \u001b[0;32melse\u001b[0m\u001b[0;34m:\u001b[0m\u001b[0;34m\u001b[0m\u001b[0m\n\u001b[1;32m   1758\u001b[0m       \u001b[0mself\u001b[0m\u001b[0;34m.\u001b[0m\u001b[0m_c_op\u001b[0m \u001b[0;34m=\u001b[0m \u001b[0;32mNone\u001b[0m\u001b[0;34m\u001b[0m\u001b[0m\n",
            "\u001b[0;32m/usr/local/lib/python3.6/dist-packages/tensorflow/python/framework/ops.py\u001b[0m in \u001b[0;36m_create_c_op\u001b[0;34m(graph, node_def, inputs, control_inputs)\u001b[0m\n\u001b[1;32m   1590\u001b[0m   \u001b[0;32mexcept\u001b[0m \u001b[0merrors\u001b[0m\u001b[0;34m.\u001b[0m\u001b[0mInvalidArgumentError\u001b[0m \u001b[0;32mas\u001b[0m \u001b[0me\u001b[0m\u001b[0;34m:\u001b[0m\u001b[0;34m\u001b[0m\u001b[0m\n\u001b[1;32m   1591\u001b[0m     \u001b[0;31m# Convert to ValueError for backwards compatibility.\u001b[0m\u001b[0;34m\u001b[0m\u001b[0;34m\u001b[0m\u001b[0m\n\u001b[0;32m-> 1592\u001b[0;31m     \u001b[0;32mraise\u001b[0m \u001b[0mValueError\u001b[0m\u001b[0;34m(\u001b[0m\u001b[0mstr\u001b[0m\u001b[0;34m(\u001b[0m\u001b[0me\u001b[0m\u001b[0;34m)\u001b[0m\u001b[0;34m)\u001b[0m\u001b[0;34m\u001b[0m\u001b[0m\n\u001b[0m\u001b[1;32m   1593\u001b[0m \u001b[0;34m\u001b[0m\u001b[0m\n\u001b[1;32m   1594\u001b[0m   \u001b[0;32mreturn\u001b[0m \u001b[0mc_op\u001b[0m\u001b[0;34m\u001b[0m\u001b[0m\n",
            "\u001b[0;31mValueError\u001b[0m: Shapes must be equal rank, but are 0 and 2 for 'sequence_length' (op: 'PlaceholderWithDefault') with input shapes: []."
          ]
        }
      ]
    },
    {
      "metadata": {
        "id": "KI4SpOLHohyc",
        "colab_type": "code",
        "colab": {
          "base_uri": "https://localhost:8080/",
          "height": 258
        },
        "outputId": "e4a2c242-53a6-46cd-9718-e97fe81015fb"
      },
      "cell_type": "code",
      "source": [
        "# Getting training and test predictions\n",
        "#CHECK THE REVERSE SEQUENCE PART LATER\n",
        "training_predictions, test_predictions = seq2seq_model(tf.reverse(inputs, [-1]), \n",
        "                                                       targets, keep_prob, batch_size, sequence_length, \n",
        "                                                       len(answerswords2int.items()), len(questionswords2int.items()), \n",
        "                                                       encoding_embedding_size, decoding_embedding_size, rnn_size,\n",
        "                                                       num_layers, questionswords2int)\n",
        "\n",
        "#reverse_sequence(inputs, sequence_length, seq_axis=-1, batch_axis = 0), "
      ],
      "execution_count": 113,
      "outputs": [
        {
          "output_type": "error",
          "ename": "TypeError",
          "evalue": "ignored",
          "traceback": [
            "\u001b[0;31m---------------------------------------------------------------------------\u001b[0m",
            "\u001b[0;31mTypeError\u001b[0m                                 Traceback (most recent call last)",
            "\u001b[0;32m<ipython-input-113-918ab7117f4c>\u001b[0m in \u001b[0;36m<module>\u001b[0;34m()\u001b[0m\n\u001b[1;32m      3\u001b[0m                                                        \u001b[0mlen\u001b[0m\u001b[0;34m(\u001b[0m\u001b[0manswerswords2int\u001b[0m\u001b[0;34m.\u001b[0m\u001b[0mitems\u001b[0m\u001b[0;34m(\u001b[0m\u001b[0;34m)\u001b[0m\u001b[0;34m)\u001b[0m\u001b[0;34m,\u001b[0m \u001b[0mlen\u001b[0m\u001b[0;34m(\u001b[0m\u001b[0mquestionswords2int\u001b[0m\u001b[0;34m.\u001b[0m\u001b[0mitems\u001b[0m\u001b[0;34m(\u001b[0m\u001b[0;34m)\u001b[0m\u001b[0;34m)\u001b[0m\u001b[0;34m,\u001b[0m\u001b[0;34m\u001b[0m\u001b[0m\n\u001b[1;32m      4\u001b[0m                                                        \u001b[0mencoding_embedding_size\u001b[0m\u001b[0;34m,\u001b[0m \u001b[0mdecoding_embedding_size\u001b[0m\u001b[0;34m,\u001b[0m \u001b[0mrnn_size\u001b[0m\u001b[0;34m,\u001b[0m\u001b[0;34m\u001b[0m\u001b[0m\n\u001b[0;32m----> 5\u001b[0;31m                                                        num_layers, questionswords2int)\n\u001b[0m\u001b[1;32m      6\u001b[0m \u001b[0;34m\u001b[0m\u001b[0m\n\u001b[1;32m      7\u001b[0m \u001b[0;31m#reverse_sequence(inputs, sequence_length, seq_axis=-1, batch_axis = 0),\u001b[0m\u001b[0;34m\u001b[0m\u001b[0;34m\u001b[0m\u001b[0m\n",
            "\u001b[0;31mTypeError\u001b[0m: 'NoneType' object is not iterable"
          ]
        }
      ]
    },
    {
      "metadata": {
        "id": "Zd-FT3VW31Su",
        "colab_type": "code",
        "colab": {
          "base_uri": "https://localhost:8080/",
          "height": 238
        },
        "outputId": "9445399c-f65e-45a2-abcc-cb19c61302c6"
      },
      "cell_type": "code",
      "source": [
        "with tf.name_scope(\"optimization\"):\n",
        "  loss_error = tf.contrib.seq2seq.sequence_loss(training_predictions,\n",
        "                                               targets,\n",
        "                                               tf.ones([input_shape[0], sequence_length]))\n",
        "  #Adam optimizer object\n",
        "  optimizer = tf.train.AdamOptimizer(learning_rate)\n",
        "  gradients = optimizer.compute_gradients(loss_error)\n",
        "  # clip the gradients\n",
        "  clipped_gradients = [(tf.clip_by_value(grad_tensor, -5., 5.), grad_variable) for grad_tensor, grad_variable in gradients if grad_tensor is not None]\n",
        "  optimizer_gradient_clipping = optimizer.apply_gradients(clipped_gradients)"
      ],
      "execution_count": 0,
      "outputs": [
        {
          "output_type": "error",
          "ename": "NameError",
          "evalue": "ignored",
          "traceback": [
            "\u001b[0;31m---------------------------------------------------------------------------\u001b[0m",
            "\u001b[0;31mNameError\u001b[0m                                 Traceback (most recent call last)",
            "\u001b[0;32m<ipython-input-71-3f324d7454b0>\u001b[0m in \u001b[0;36m<module>\u001b[0;34m()\u001b[0m\n\u001b[1;32m      1\u001b[0m \u001b[0;32mwith\u001b[0m \u001b[0mtf\u001b[0m\u001b[0;34m.\u001b[0m\u001b[0mname_scope\u001b[0m\u001b[0;34m(\u001b[0m\u001b[0;34m\"optimization\"\u001b[0m\u001b[0;34m)\u001b[0m\u001b[0;34m:\u001b[0m\u001b[0;34m\u001b[0m\u001b[0m\n\u001b[0;32m----> 2\u001b[0;31m   loss_error = tf.contrib.seq2seq.sequence_loss(training_predictions,\n\u001b[0m\u001b[1;32m      3\u001b[0m                                                \u001b[0mtargets\u001b[0m\u001b[0;34m,\u001b[0m\u001b[0;34m\u001b[0m\u001b[0m\n\u001b[1;32m      4\u001b[0m                                                tf.ones([input_shape[0], sequence_length]))\n\u001b[1;32m      5\u001b[0m   \u001b[0;31m#Adam optimizer object\u001b[0m\u001b[0;34m\u001b[0m\u001b[0;34m\u001b[0m\u001b[0m\n",
            "\u001b[0;31mNameError\u001b[0m: name 'training_predictions' is not defined"
          ]
        }
      ]
    },
    {
      "metadata": {
        "id": "ckHWyDJgqhdm",
        "colab_type": "code",
        "colab": {}
      },
      "cell_type": "code",
      "source": [
        "# Apply padding to the sequences so the question and answer sequences are the same\n",
        "\n",
        "def apply_padding(batch_of_sequences, word2int):\n",
        "  max_sequence_length = max([len(sequence) for sequence in batch_of_sequences])\n",
        "  return [sequence + [word2int['<PAD>']] * (max_sequence_length - len(sequence)) for sequence in batch_of_sequences]\n",
        "\n",
        "                                            "
      ],
      "execution_count": 0,
      "outputs": []
    },
    {
      "metadata": {
        "id": "sxVs-CJgYLCO",
        "colab_type": "code",
        "colab": {}
      },
      "cell_type": "code",
      "source": [
        "# Generator to split data itno batches for batch gradient descent                                            \n",
        "def split_into_batches(questions, answers, batch_size):\n",
        "  for batch_index in range(0,len(questions) // batch_size):\n",
        "      start_index = batch_index * batch_size\n",
        "                                            \n",
        "      questions_in_batch = questions[start_index : start_index + batch_size]\n",
        "      answers_in_batch = answers[start_index : start_index + batch_size]\n",
        "                                            \n",
        "      padded_questions_in_batch = np.array(apply_padding(questions_in_batch, questionswords2int))\n",
        "      padded_answers_in_batch = np.array(apply_padding(answers_in_batch, answerswords2int))\n",
        "      \n",
        "      yield padded_questions_in_batch, padded_answers_in_batch"
      ],
      "execution_count": 0,
      "outputs": []
    },
    {
      "metadata": {
        "id": "tZhqWF4lZMZm",
        "colab_type": "code",
        "colab": {}
      },
      "cell_type": "code",
      "source": [
        "# Split data into training and validation sets\n",
        "# needs more sophistication later.\n",
        "# scq/sca mean sorted clean questions / answers from the preprocessign step.\n",
        "\n",
        "training_validation_split = int(len(scq) * 0.2)\n",
        "\n",
        "train_Q = scq[training_validation_split:]\n",
        "train_A = sca[training_validation_split:]\n",
        "\n",
        "val_Q = scq[:training_validation_split]\n",
        "val_A = sca[:training_validation_split]\n",
        "\n",
        "\n"
      ],
      "execution_count": 0,
      "outputs": []
    },
    {
      "metadata": {
        "id": "-isTNvugZwNn",
        "colab_type": "code",
        "colab": {}
      },
      "cell_type": "code",
      "source": [
        "#TRAINING STEPS\n",
        "\n",
        "batch_index_check_training_loss = 100\n",
        "batch_index_check_validation_loss = ((len(train_Q)) // batch_size // 2) - 1\n",
        "total_training_loss_error = 0\n",
        "list_validation_loss_error = []\n",
        "early_stopping_check = 0\n",
        "early_stopping_stop = 1000\n",
        "\n",
        "checkpoint = \"./chatbot_weights.ckpt\""
      ],
      "execution_count": 0,
      "outputs": []
    },
    {
      "metadata": {
        "id": "k2tGEeYZaqvj",
        "colab_type": "text"
      },
      "cell_type": "markdown",
      "source": [
        ""
      ]
    },
    {
      "metadata": {
        "id": "qd1F9Y_sa4um",
        "colab_type": "code",
        "colab": {}
      },
      "cell_type": "code",
      "source": [
        "session.run(tf.global_variables_initializer())"
      ],
      "execution_count": 0,
      "outputs": []
    },
    {
      "metadata": {
        "id": "46uXW3lxfzJ5",
        "colab_type": "code",
        "colab": {}
      },
      "cell_type": "code",
      "source": [
        ""
      ],
      "execution_count": 0,
      "outputs": []
    },
    {
      "metadata": {
        "id": "uvVeiEyca5D1",
        "colab_type": "code",
        "colab": {
          "base_uri": "https://localhost:8080/",
          "height": 238
        },
        "outputId": "43999038-04a5-463e-9784-851b18e86375"
      },
      "cell_type": "code",
      "source": [
        "for epoch in range(1, epochs +1):\n",
        "  for batch_index, (padded_questions_in_batch, \n",
        "                    padded_answers_in_batch) in enumerate (split_into_batches(train_Q, \n",
        "                                                                              train_A, batch_size)):\n",
        "    starting_time = time.time()\n",
        "    \n",
        "    # run the current epoch using the parameters thus far\n",
        "    _, batch_training_loss_error = session.run([optimizer_gradient_clipping, loss_error],\n",
        "                                              {inputs: padded_questions_in_batch,\n",
        "                                              targets: padded_answers_in_batch,\n",
        "                                              lr: learning_rate,\n",
        "                                              sequence-length: padded_answers_in_batch.shape[1],\n",
        "                                              keep_prob: keep_probability})\n",
        "    \n",
        "    # add the existing batch loss to the totall loss\n",
        "    total_training_loss_erroor += batch_training_loss_error\n",
        "    \n",
        "    # calculate epoch run time\n",
        "    ending_time = time.time()\n",
        "    batch_time = ending_time - starting_time\n",
        "    \n",
        "    if batch_index % batch_index_check_training_loss == 0:\n",
        "      print('Epoch: {:>3}/{}, Batch: {:>4}/{}, ' + \n",
        "            'Training Loss Error: {:>6.3f}, ' + \n",
        "            'Training Time on 100 Batches: {:d} seconds'.format(epoch, epochs,\n",
        "                                                                batch_index, len(train_Q),\n",
        "                                                                total_training_loss_error / batch_index_check_training_loss,\n",
        "                                                                int(batch_time * batch_index_check_training_loss)))\n",
        "                                                                                                                                 \n",
        "      total_training_loss_error = 0                                                                                                  \n",
        "    \n",
        "    "
      ],
      "execution_count": 0,
      "outputs": [
        {
          "output_type": "error",
          "ename": "NameError",
          "evalue": "ignored",
          "traceback": [
            "\u001b[0;31m---------------------------------------------------------------------------\u001b[0m",
            "\u001b[0;31mNameError\u001b[0m                                 Traceback (most recent call last)",
            "\u001b[0;32m<ipython-input-70-57d6f1b80f04>\u001b[0m in \u001b[0;36m<module>\u001b[0;34m()\u001b[0m\n\u001b[1;32m      6\u001b[0m \u001b[0;34m\u001b[0m\u001b[0m\n\u001b[1;32m      7\u001b[0m     \u001b[0;31m# run the current epoch using the parameters thus far\u001b[0m\u001b[0;34m\u001b[0m\u001b[0;34m\u001b[0m\u001b[0m\n\u001b[0;32m----> 8\u001b[0;31m     _, batch_training_loss_error = session.run([optimizer_gradient_clipping, loss_error],\n\u001b[0m\u001b[1;32m      9\u001b[0m                                               {inputs: padded_questions_in_batch,\n\u001b[1;32m     10\u001b[0m                                               \u001b[0mtargets\u001b[0m\u001b[0;34m:\u001b[0m \u001b[0mpadded_answers_in_batch\u001b[0m\u001b[0;34m,\u001b[0m\u001b[0;34m\u001b[0m\u001b[0m\n",
            "\u001b[0;31mNameError\u001b[0m: name 'optimizer_gradient_clipping' is not defined"
          ]
        }
      ]
    },
    {
      "metadata": {
        "id": "fEb2EC8pbQuF",
        "colab_type": "code",
        "colab": {}
      },
      "cell_type": "code",
      "source": [
        ""
      ],
      "execution_count": 0,
      "outputs": []
    }
  ]
}