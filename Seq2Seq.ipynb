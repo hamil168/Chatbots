{
  "nbformat": 4,
  "nbformat_minor": 0,
  "metadata": {
    "colab": {
      "name": "Seq2Seq.ipynb",
      "version": "0.3.2",
      "provenance": [],
      "collapsed_sections": [],
      "include_colab_link": true
    },
    "kernelspec": {
      "name": "python3",
      "display_name": "Python 3"
    }
  },
  "cells": [
    {
      "cell_type": "markdown",
      "metadata": {
        "id": "view-in-github",
        "colab_type": "text"
      },
      "source": [
        "[View in Colaboratory](https://colab.research.google.com/github/hamil168/Chatbots/blob/master/Seq2Seq.ipynb)"
      ]
    },
    {
      "metadata": {
        "id": "n4oyS5PcJBxu",
        "colab_type": "code",
        "colab": {
          "base_uri": "https://localhost:8080/",
          "height": 34
        },
        "outputId": "a301a81b-b65c-4be0-beb4-244a0be333b2"
      },
      "cell_type": "code",
      "source": [
        "# For a fresh Colab instance, clone fresh:\n",
        "!pip install -q xlrd\n",
        "!git clone https://github.com/hamil168/Chatbots"
      ],
      "execution_count": 0,
      "outputs": [
        {
          "output_type": "stream",
          "text": [
            "fatal: destination path 'Chatbots' already exists and is not an empty directory.\r\n"
          ],
          "name": "stdout"
        }
      ]
    },
    {
      "metadata": {
        "id": "nGvvfIY0JCyk",
        "colab_type": "code",
        "colab": {
          "base_uri": "https://localhost:8080/",
          "height": 34
        },
        "outputId": "00b7a480-2242-4c2e-a462-a422fe64ecb1"
      },
      "cell_type": "code",
      "source": [
        "# Change to Colab directory:\n",
        "cd Chatbots/\n"
      ],
      "execution_count": 1,
      "outputs": [
        {
          "output_type": "stream",
          "text": [
            "/content/Chatbots\n"
          ],
          "name": "stdout"
        }
      ]
    },
    {
      "metadata": {
        "id": "E2hByo1k1U6O",
        "colab_type": "text"
      },
      "cell_type": "markdown",
      "source": [
        ""
      ]
    },
    {
      "metadata": {
        "id": "D7PTpdU00-eR",
        "colab_type": "code",
        "colab": {}
      },
      "cell_type": "code",
      "source": [
        "\n",
        "# For an existing Colab instance, pull from master\n",
        "#!git pull https://github.com/hamil168/Chatbots master"
      ],
      "execution_count": 0,
      "outputs": []
    },
    {
      "metadata": {
        "id": "oWBAHK8kWX26",
        "colab_type": "code",
        "colab": {
          "base_uri": "https://localhost:8080/",
          "height": 70
        },
        "outputId": "b156c422-de06-4100-ff19-355b08133bcc"
      },
      "cell_type": "code",
      "source": [
        "# Files as they appear in the repo clone\n",
        "ls"
      ],
      "execution_count": 3,
      "outputs": [
        {
          "output_type": "stream",
          "text": [
            "Cornell Movie Script Database EDA.ipynb  Preproc.ipynb  Seq2Seq.ipynb\r\n",
            "movie_conversations.txt                  preproc.py\r\n",
            "movie_lines.txt                          README.md\r\n"
          ],
          "name": "stdout"
        }
      ]
    },
    {
      "metadata": {
        "id": "86Muxioq5zlF",
        "colab_type": "code",
        "colab": {}
      },
      "cell_type": "code",
      "source": [
        "\n",
        "import numpy as np\n",
        "import tensorflow as tf\n",
        "import time\n"
      ],
      "execution_count": 0,
      "outputs": []
    },
    {
      "metadata": {
        "id": "y5HCxQAYX3uS",
        "colab_type": "code",
        "colab": {}
      },
      "cell_type": "code",
      "source": [
        "##run preproc"
      ],
      "execution_count": 0,
      "outputs": []
    },
    {
      "metadata": {
        "id": "m-gfxGYIZFAR",
        "colab_type": "code",
        "colab": {}
      },
      "cell_type": "code",
      "source": [
        "# -*- coding: utf-8 -*-\n",
        "\"\"\"\n",
        "\n",
        "Data preprocessing steps for Cornell Movie Script\n",
        "Chatbot \n",
        "\n",
        "using movie_conversations.text and \n",
        "movie_lines.txt from the Cornell Movie Script Database\n",
        "\n",
        "\n",
        "Created on Sat Jul 14 14:16:00 2018\n",
        "\n",
        "@author: Ben Hamilton\n",
        "\n",
        "#########\n",
        "\"\"\"\n",
        "\n",
        "\n",
        "# Importing the libraries\n",
        "import numpy as np\n",
        "import tensorflow as tf\n",
        "import re\n",
        "import time\n",
        "\n",
        "# - DATA PREPROCESSING ##########\n",
        "\n",
        "# Importing the dataset\n",
        "lines = open('movie_lines.txt', encoding = 'utf-8', errors = 'ignore').read().split('\\n')\n",
        "conversations = open('movie_conversations.txt', encoding = 'utf-8', errors = 'ignore').read().split('\\n')\n",
        "\n",
        "\n",
        "def id_to_line(lines):\n",
        "    #create a dictionary mapping ids to lines\n",
        "    # iterate through each line, split into different elements, get key, get value\n",
        "    id2line = {}\n",
        "    \n",
        "    for line in lines:\n",
        "      _line = line.split(' +++$+++ ')\n",
        "      \n",
        "      if len(_line) == 5:\n",
        "        id2line[_line[0]] = _line[4]\n",
        "    \n",
        "    return id2line\n",
        "\n",
        "\n",
        "def get_conversations_ids(conversations):\n",
        " \n",
        "    # create a list of the conversations\n",
        "    conversations_ids = []\n",
        "    \n",
        "    # The last row of data set is empty, so skip it\n",
        "    for conversation in conversations[:-1]:\n",
        "      \n",
        "      # Split and remove brackets\n",
        "      # Remove single quote\n",
        "      # Remove spaces\n",
        "      _conversation = conversation.split(' +++$+++ ')[-1][1:-1].replace(\"'\",\"\").replace(\" \",\"\")\n",
        "      \n",
        "      # Append as list by spliting on commas\n",
        "      conversations_ids.append(_conversation.split(\",\"))\n",
        "      \n",
        "    return conversations_ids\n",
        "  \n",
        "def get_questions_and_answers(conversations_ids,id2line):\n",
        "    # return unclean questions and answers\n",
        "    # using the rule that every line that is responded to is a 'question'\n",
        "    # and every line that is a response is the corresponding 'answer'\n",
        "    # So it is expected that some lines appear on both lists, but not in \n",
        "    # parallel to themselves.\n",
        "    # Getting separately the questions and the answers\n",
        "    questions = []\n",
        "    answers = []\n",
        "    \n",
        "    for conversation in conversations_ids:\n",
        "      \n",
        "      for i in range(len(conversation) - 1):\n",
        "        questions.append(id2line[conversation[i]])\n",
        "        answers.append(id2line[conversation[i+1]])\n",
        "        \n",
        "    return questions, answers\n",
        "    \n",
        "\n",
        "# first cleaning of the texts\n",
        "def clean_text(text):\n",
        "  text = text.lower()\n",
        "  text = re.sub(r\"i'm\", \"i am\", text)\n",
        "  text = re.sub(r\"he's\", \"he is\", text)\n",
        "  text = re.sub(r\"she's\", \"she is\", text)\n",
        "  text = re.sub(r\"that's\", \"that is\", text)\n",
        "  text = re.sub(r\"what's\", \"what is\", text)\n",
        "  text = re.sub(r\"where's\", \"where is\", text)\n",
        "  \n",
        "  text = re.sub(r\"\\'ll\", \" will\", text)\n",
        "  text = re.sub(r\"\\'ve\", \" have\", text)\n",
        "  text = re.sub(r\"\\'d\", \" would\", text)\n",
        "  text = re.sub(r\"won't\", \"will not\", text)\n",
        "  text = re.sub(r\"can't\", \"can not\", text)\n",
        "  text = re.sub(r\"don't\", \"do not\", text)\n",
        "  \n",
        "  text = re.sub(r\"\\'re\", \" are\", text)\n",
        "  \n",
        "  text = re.sub(r\"[-()\\'#/@;:<>{}'\\+\\=\\-\\|.?,\\!]\", \"\", text) \n",
        "\n",
        "  return text\n",
        "\n",
        "# Apply on all \"questions\" and \"answers\"\n",
        "\n",
        "\n",
        "\n",
        "\n",
        "\n",
        "#############################################################\n",
        "\n",
        "\n",
        "def word_to_counts(clean_questions, clean_answers):\n",
        "# Creating a dictionary that maps each word to its number of occurrences\n",
        "    word2count = {}\n",
        "    for question in clean_questions:\n",
        "      for word in question.split():\n",
        "        if word not in word2count:\n",
        "          word2count[word] = 1\n",
        "        else:\n",
        "          word2count[word] += 1\n",
        "      \n",
        "# This double counts some entries... this may be OK. come back to think on it later.\n",
        "    for answer in clean_answers:\n",
        "      for word in answer.split():\n",
        "        if word not in word2count:\n",
        "          word2count[word] = 1\n",
        "        else:\n",
        "          word2count[word] += 1\n",
        "          \n",
        "    return word2count\n",
        "\n",
        "#############################################################\n",
        "\n",
        "\n",
        "# Create 2 dictionaries that map questions words and answer words to integers\n",
        "def map_questions_and_answers_to_integers(word2count):\n",
        "\n",
        "    # set threshold for significance in word count\n",
        "    threshold = 20\n",
        "    \n",
        "    questionswords2int = {}\n",
        "    word_number = 0\n",
        "    \n",
        "    for word, count in word2count.items():\n",
        "        if count >= threshold:\n",
        "          questionswords2int[word] = word_number\n",
        "          word_number += 1\n",
        "    \n",
        "    \n",
        "    answerswords2int = {}\n",
        "    word_number = 0\n",
        "    \n",
        "    for word, count in word2count.items():\n",
        "        if count >= threshold:\n",
        "          answerswords2int[word] = word_number\n",
        "          word_number += 1    \n",
        "\n",
        "    # Adding the last tokens to these two dictionaries\n",
        "    # create entries for tokens for questionswords2int and answerswords2uint\n",
        "    \n",
        "    tokens = ['<PAD>', '<EOS>', '<OUT>', '<SOS>']\n",
        "    for token in tokens:\n",
        "      questionswords2int[token] = len(questionswords2int) + 1\n",
        "      answerswords2int[token] = len(answerswords2int) + 1\n",
        "\n",
        "    return questionswords2int, answerswords2int\n",
        "\n",
        "#############################################################\n",
        "\n",
        "def map_invert_answers_to_ints(answerswords2int):\n",
        "    # Create dictionary that maps integers back to the answers\n",
        "    # invert answersword2int using dict comprehension and .items\n",
        "    \n",
        "    answersints2word = {word_int: word for word, word_int in answerswords2int.items()}\n",
        "\n",
        "#############################################################\n",
        "\n",
        "\n",
        "def preproc_steps(lines, conversations):\n",
        "    \n",
        "    id2line = id_to_line(lines)\n",
        "    \n",
        "    conversations_ids = get_conversations_ids(conversations)\n",
        "    \n",
        "    questions, answers = get_questions_and_answers(conversations_ids,id2line)\n",
        "    \n",
        "    clean_questions = [clean_text(question) for question in questions]\n",
        "    clean_answers = [clean_text(answer) for answer in answers]\n",
        "    \n",
        "    word2count = word_to_counts(clean_questions, clean_answers)\n",
        "    \n",
        "    questionswords2int, answerswords2int = map_questions_and_answers_to_integers(word2count)\n",
        "    \n",
        "    answersints2words = map_invert_answers_to_ints(answerswords2int)\n",
        "\n",
        "    # Conccatenate <EOS> to every cleaned answer\n",
        "    # needed for seq2seq model \n",
        "    \n",
        "    for i in range(len(clean_answers)):\n",
        "      clean_answers[i] += ' <EOS>'\n",
        "    \n",
        "    # Translating cleaned questions into integers using \n",
        "    # replace alal words filtered out by token with <OUT>\n",
        "    \n",
        "    questions_into_int = []\n",
        "    \n",
        "    for question in clean_questions:\n",
        "      ints = []\n",
        "      \n",
        "      # translate question into integers\n",
        "      for word in question.split():\n",
        "        \n",
        "        if word in questionswords2int:\n",
        "          ints.append(questionswords2int[word])\n",
        "        else:\n",
        "          ints.append(questionswords2int['<OUT>'])\n",
        "    \n",
        "      \n",
        "      questions_into_int.append(ints)\n",
        "      \n",
        "    answers_into_int = []\n",
        "    \n",
        "    for answer in clean_answers:\n",
        "      ints = []\n",
        "      \n",
        "      # translate answer into integers\n",
        "      for word in answer.split():\n",
        "        \n",
        "        if word in answerswords2int:\n",
        "          ints.append(answerswords2int[word])\n",
        "        else:\n",
        "          ints.append(answerswords2int['<OUT>'])\n",
        "    \n",
        "      \n",
        "      answers_into_int.append(ints)\n",
        "    \n",
        "    # Sort questions by length of questions to speed up training\n",
        "    # Reduces amount of padding during training\n",
        "    \n",
        "    sorted_clean_questions = []\n",
        "    sorted_clean_answers = []\n",
        "    \n",
        "    # limit input to short sentences\n",
        "    MAX_SENTENCE_LENGTH = 25\n",
        "    \n",
        "    # loop over possible lengths of questions\n",
        "    for length in range(1, MAX_SENTENCE_LENGTH + 1):\n",
        "       \n",
        "      # use enumerate to loop 2 elements: index of question and question as list of ints\n",
        "      for i in enumerate(questions_into_int):\n",
        "      \n",
        "        # if length of current question is equal to length we are checking...\n",
        "        # append it to the sorted list by catching via the enumerated index\n",
        "        if len(i[1]) == length:\n",
        "          sorted_clean_questions.append(questions_into_int[i[0]])\n",
        "          \n",
        "          # keeps answer well aligned:\n",
        "          sorted_clean_answers.append(answers_into_int[i[0]])\n",
        "    \n",
        "    return id2line, conversations_ids, questions, answers, clean_questions, clean_answers, word2count, sorted_clean_questions, sorted_clean_answers"
      ],
      "execution_count": 0,
      "outputs": []
    },
    {
      "metadata": {
        "id": "Ex5WaSTlX1Ij",
        "colab_type": "text"
      },
      "cell_type": "markdown",
      "source": [
        ""
      ]
    },
    {
      "metadata": {
        "id": "Mq2OEcQEZMU3",
        "colab_type": "code",
        "colab": {}
      },
      "cell_type": "code",
      "source": [
        "id2l, cid, q, a, cq, ca, w2c, scq, sqa = preproc_steps(lines,conversations)\n",
        "\n",
        "questionswords2int, answerswords2int = map_questions_and_answers_to_integers(w2c)"
      ],
      "execution_count": 0,
      "outputs": []
    },
    {
      "metadata": {
        "id": "76YSZQggcUGp",
        "colab_type": "code",
        "colab": {
          "base_uri": "https://localhost:8080/",
          "height": 105
        },
        "outputId": "3733677f-8fb7-46e7-d3b7-3b0a2b412b37"
      },
      "cell_type": "code",
      "source": [
        "conversations[0:5]"
      ],
      "execution_count": 7,
      "outputs": [
        {
          "output_type": "execute_result",
          "data": {
            "text/plain": [
              "[\"u0 +++$+++ u2 +++$+++ m0 +++$+++ ['L194', 'L195', 'L196', 'L197']\",\n",
              " \"u0 +++$+++ u2 +++$+++ m0 +++$+++ ['L198', 'L199']\",\n",
              " \"u0 +++$+++ u2 +++$+++ m0 +++$+++ ['L200', 'L201', 'L202', 'L203']\",\n",
              " \"u0 +++$+++ u2 +++$+++ m0 +++$+++ ['L204', 'L205', 'L206']\",\n",
              " \"u0 +++$+++ u2 +++$+++ m0 +++$+++ ['L207', 'L208']\"]"
            ]
          },
          "metadata": {
            "tags": []
          },
          "execution_count": 7
        }
      ]
    },
    {
      "metadata": {
        "id": "wB9CHeplaNlf",
        "colab_type": "code",
        "colab": {
          "base_uri": "https://localhost:8080/",
          "height": 87
        },
        "outputId": "3ac40bed-efd6-419e-d332-826feee726e1"
      },
      "cell_type": "code",
      "source": [
        "get_conversations_ids(conversations[0:5])"
      ],
      "execution_count": 8,
      "outputs": [
        {
          "output_type": "execute_result",
          "data": {
            "text/plain": [
              "[['L194', 'L195', 'L196', 'L197'],\n",
              " ['L198', 'L199'],\n",
              " ['L200', 'L201', 'L202', 'L203'],\n",
              " ['L204', 'L205', 'L206']]"
            ]
          },
          "metadata": {
            "tags": []
          },
          "execution_count": 8
        }
      ]
    },
    {
      "metadata": {
        "id": "28kMPJR05Y8m",
        "colab_type": "code",
        "colab": {}
      },
      "cell_type": "code",
      "source": [
        "\n",
        "# Create placeholder for inputs and the targets\n",
        "# in TF, all variables are tensors\n",
        "# need to go from NP --> TF tensors\n",
        "# need placeholders for every TF variables inputs and targets\n",
        "\n",
        "def model_inputs():\n",
        "  #inputs and targets are 2D matrices\n",
        "  inputs = tf.placeholder(tf.int32, [None, None], name = 'input') \n",
        "  targets = tf.placeholder(tf.int32, [None, None], name = 'target')\n",
        "  \n",
        "  \n",
        "  lr = tf.placeholder(tf.float32, name = 'learning_rate')\n",
        "  keep_prob = tf.placeholder(tf.float32, name = 'keep_prop') #dropout\n",
        "  \n",
        "  return inputs, targets, lr, keep_prob"
      ],
      "execution_count": 0,
      "outputs": []
    },
    {
      "metadata": {
        "id": "HxkuwMXC8D_k",
        "colab_type": "text"
      },
      "cell_type": "markdown",
      "source": [
        ""
      ]
    },
    {
      "metadata": {
        "id": "R3v5y5YB6lHv",
        "colab_type": "code",
        "colab": {}
      },
      "cell_type": "code",
      "source": [
        "# preprocessing the targets\n",
        "# need batches, \n",
        "# need each to start with <SOS> token\n",
        "\n",
        "def preprocess_targets(targets, word2int, batch_size):\n",
        "  left_side = tf.fill([batch_size, 1], word2int['<SOS>'])\n",
        "    \n",
        "  # up to batch size less the last token\n",
        "  # slide of [1,1]\n",
        "  right_side = tf.strided_slice(targets, [0,0], [batch_size, -1], [1,1])\n",
        "  preprocessed_target = tf.concat([left_side,right_side], axis=1)\n",
        "  return preprocessed_target"
      ],
      "execution_count": 0,
      "outputs": []
    },
    {
      "metadata": {
        "id": "vcPkYl7184NK",
        "colab_type": "code",
        "colab": {}
      },
      "cell_type": "code",
      "source": [
        "# Create encoder RNN layer\n",
        "def encoder_rnn(rnn_inputs, rnn_size, num_layers, keep_prob, sequence_length):\n",
        "  # LSTM cell class\n",
        "  \n",
        "  # rnn_size: number of input tensors\n",
        "  # sequence_length: length of each question in the atch\n",
        "  \n",
        "  lstm = tf.contrib.rnn.BasicLSTMCell(rnn_size)\n",
        "  \n",
        "  # dropout wrapper class\n",
        "  lstm_dropout = tf.contrib.rnn.DropoutWrapper(lstm, input_keep_prob = keep_prob)\n",
        "  \n",
        "  #\n",
        "  encoder_cell = tf.contrib.rnn.MultiRNNCell([lstm_dropout] * num_layers)\n",
        "  \n",
        "  # bidirection rnn function (creates dynamic bidirectional network)\n",
        "  # builds independent forward and backward rnn\n",
        "  # need ot make sure the ends match\n",
        "  # (first element is encoder_output)\n",
        "  _, encoder_state = tf.nn.bidirectional_dynamic_rnn(cell_fw = encoder_cell,\n",
        "                                                   cell_bw = encoder_cell,\n",
        "                                                   sequence_length = sequence_length,\n",
        "                                                   inputs = rnn_inputs,\n",
        "                                                   dtype = tf.float32)\n",
        "  return encoder_state\n"
      ],
      "execution_count": 0,
      "outputs": []
    },
    {
      "metadata": {
        "id": "XrO9rYaxfuUc",
        "colab_type": "text"
      },
      "cell_type": "markdown",
      "source": [
        "### Attention\n",
        "- The tutorial is with r1.0, I am using r1.9, so I am going to have to do some updates.\n",
        "- Need to learn more.\n",
        "- https://www.tensorflow.org/api_guides/python/contrib.seq2seq\n",
        "- (warning for later, when I add Beam Search) **NOTE** If you are using the `BeamSearchDecoder` with a cell wrapped in\n",
        "`AttentionWrapper`\n",
        "- will also need to return here with DeviceWrapper for multiple GPUs"
      ]
    },
    {
      "metadata": {
        "id": "Po14wIN5hQLz",
        "colab_type": "code",
        "colab": {}
      },
      "cell_type": "code",
      "source": [
        "def decode_training_set(encoder_state, decoder_cell, \n",
        "                        decoder_embedded_input, \n",
        "                        sequence_length, decoding_scope, output_function,\n",
        "                       keep_prob, batch_size):\n",
        "  \n",
        "  # Get attention states\n",
        "  # shaped [batch_size, memory_max_time, memory_depth]\n",
        "  attention_states = tf.zeros([batch_size, 1, decoder_cell.output_size])\n",
        "\n",
        "  # linear attention\n",
        "  attention_mechanism = tf.contrib.seq2seq.BahdanauAttention(num_units = decoder_cell.output_size, memory = attention_states)\n",
        "  \n",
        "  # 256 look up.\n",
        "  attention_cell = tf.contrib.seq2seq.AttentionWrapper(decoder_cell, attention_mechanism)\n",
        "  \n",
        "  helper = tf.contrib.seq2seq.TrainingHelper(decoder_embedded_input, sequence_length = sequence_length)\n",
        "  \n",
        "  decoder = tf.contrib.seq2seq.BasicDecoder(cell = decoder_cell,\n",
        "                                           helper = helper,\n",
        "                                           initial_state = encoder_state[0])\n",
        "\n",
        "  \n",
        "  # returns (final_outputs, final_state, final_sequence_lengths)\n",
        "  decoder_output, _, _ = tf.contrib.seq2seq.dynamic_decode(decoder = decoder,\n",
        "                                                           maximum_iterations = 20)\n",
        "    \n",
        " \n",
        "  # second arg is decoder_final_state, 3rd is decoder_final_context_state\n",
        "  #decoder_output, _, _ = tf.contrib.seq2seq.dynamic_rnn_decoder(decoder_cell,\n",
        "  #                                                              training_decoder_function,\n",
        "  #                                                              decoder_embedded_input,\n",
        "  #                                                             sequence_length,\n",
        "  ###Where does this go:                                        scope = decoding_scope)\n",
        "  \n",
        "  \n",
        "  decoder_output_dropout = tf.nn.dropout(decoder_output, keep_prob)\n",
        "  \n",
        "  return output_function(decoder_output_dropout)\n",
        "  "
      ],
      "execution_count": 0,
      "outputs": []
    },
    {
      "metadata": {
        "id": "CDEoEQboa0yt",
        "colab_type": "text"
      },
      "cell_type": "markdown",
      "source": [
        ""
      ]
    },
    {
      "metadata": {
        "id": "148YWaasfJv-",
        "colab_type": "code",
        "colab": {}
      },
      "cell_type": "code",
      "source": [
        "# decoding the test/validation set\n",
        "\n",
        "def decode_test_set(encoder_state, decoder_cell, \n",
        "                        decoder_embeddings_matrix,\n",
        "                        sos_id, eos_id, maximum_length, num_words,\n",
        "                        sequence_length, decoding_scope, output_function,\n",
        "                       keep_prob, batch_size):\n",
        "  \n",
        "  # Get attention states\n",
        "  # shaped [batch_size, memory_max_time, memory_depth]\n",
        "  attention_states = tf.zeros([batch_size, 1, decoder_cell.output_size])\n",
        "\n",
        "  # linear attention\n",
        "  attention_mechanism = tf.contrib.seq2seq.BahdanauAttention(num_units = decoder_cell.output_size, memory = attention_states)\n",
        "  \n",
        "  attention_cell = tf.contrib.seq2seq.AttentionWrapper(decoder_cell, attention_mechanism)\n",
        "  \n",
        "  helper = tf.contrib.seq2seq.GreedyEmbeddingHelper(embedding = decoder_embeddings_matrix,\n",
        "                                                    start_tokens = tf.tile(sos_id, batch-size),\n",
        "                                                    end_tokens = eos_id)\n",
        "  \n",
        "  decoder = tf.contrib.seq2seq.BasicDecoder(cell = decoder_cell,\n",
        "                                           helper = helper,\n",
        "                                           initial_state = encoder_state[0])  \n",
        "\n",
        "\n",
        "   \n",
        "  # second arg is decoder_final_state, 3rd is decoder_final_context_state\n",
        "  # returns (final_outputs, final_state, final_sequence_lengths)\n",
        "  decoder_output, _, _ = tf.contrib.seq2seq.dynamic_decode(decoder = decoder,\n",
        "                                                           maximum_iterations = 20)\n",
        "  \n",
        "  # no drop out for Test\n",
        "  return decoder_output\n",
        "  "
      ],
      "execution_count": 0,
      "outputs": []
    },
    {
      "metadata": {
        "id": "abZWRmkcs4ax",
        "colab_type": "code",
        "colab": {}
      },
      "cell_type": "code",
      "source": [
        "def decoder_rnn(decoder_embedded_input, decoder_embeddings_matrix, encoder_state, num_words, sequence_length, rnn_size, num_layers, word2int, keep_prob, batch_size):\n",
        "  with tf.variable_scope('decoding') as decoding_scope:\n",
        "    lstm = tf.contrib.rnn.BasicLSTMCell(rnn_size)\n",
        "    lstm_dropout = tf.contrib.rnn.DropoutWrapper(lstm, input_keep_prob = keep_prob)\n",
        "    decoder_cell = tf.contrib.rnn.MultiRNNCell([lstm_dropout] * num_layers)\n",
        "    \n",
        "    weights = tf.truncated_normal_initializer(stddev = 0.1)\n",
        "    biases = tf.zeros_initializer()\n",
        "    \n",
        "    # create FCL\n",
        "    output_function = lambda x: tf.contrib.layers.fully_connected(x,\n",
        "                                                                 num_words,\n",
        "                                                                 None,\n",
        "                                                                 scope = decoding_scope,\n",
        "                                                                 weights_initializer = weights,\n",
        "                                                                 baises_initializer = biases)\n",
        "    \n",
        "    training_predictions = decode_training_set(encoder_state, decoder_cell,\n",
        "                                              decoder_embedded_input,\n",
        "                                              sequence_length,\n",
        "                                              decoding_scope,\n",
        "                                              output_function,\n",
        "                                              keep_prob,\n",
        "                                              batch_size)\n",
        "    \n",
        "    decoding_scope.reuse_variables()\n",
        "    test_predictions = decode_test_set(encoder_state,\n",
        "                                      decoder_cell,\n",
        "                                      decoder_embeddings_matrix,\n",
        "                                      word2int['<SOS>'],\n",
        "                                      word2int['<EOS>'],\n",
        "                                      sequence_length - 1,  #exclude last token\n",
        "                                      num_words,\n",
        "                                      decoding_scope,\n",
        "                                      output_function,\n",
        "                                      keep_prob,\n",
        "                                      batch_size)\n",
        "    \n",
        "    \n",
        "  return training_predictions, test_predictions    \n",
        "    "
      ],
      "execution_count": 0,
      "outputs": []
    },
    {
      "metadata": {
        "id": "KkSsZuJhwok0",
        "colab_type": "text"
      },
      "cell_type": "markdown",
      "source": [
        ""
      ]
    },
    {
      "metadata": {
        "id": "FCPYhwpPuABI",
        "colab_type": "code",
        "colab": {}
      },
      "cell_type": "code",
      "source": [
        "# Build the Model\n",
        "\n",
        "def seq2seq_model(inputs, targets, keep_prob, batch_size, sequence_length, answers_num_words, questions_num_words,\n",
        "                 encoder_embedding_size, decoder_embedding_size, rnn_size, num_layers, questionswords2int):\n",
        "  \n",
        "  encoder_embedded_input = tf.contrib.layers.embed_sequence(inputs,\n",
        "                                                           answers_num_words + 1,\n",
        "                                                           encoder_embedding_size,\n",
        "                                                           initializer = tf.random_uniform_initializer(0,1))\n",
        "  \n",
        "  encoder_state = encoder_rnn(encoder_embedded_input, rnn_size, num_layers, keep_prob, sequence_length)\n",
        "  \n",
        "  preprocessed_targets = preprocess_targets(targets, questionswords2int, batch_size)\n",
        "  \n",
        "  decoder_embeddings_matrix = tf.Variable(tf.random_uniform([questions_num_words + 1, decoder_embedding_size], 0, 1))\n",
        "  \n",
        "  decoder_embedded_input = tf.nn.embedding_lookup(decoder_embeddings_matrix, preprocessed_targets)\n",
        "  \n",
        "  training_predictions, test_predictions = decoder_rnn(decoder_embedded_input,\n",
        "                                                      decoder_embeddings_matrix,\n",
        "                                                      encoder_state,\n",
        "                                                      questions_num_words,\n",
        "                                                      sequence_length,\n",
        "                                                      rnn_size,\n",
        "                                                      num_layers,\n",
        "                                                      questionswords2int,\n",
        "                                                      keep_prob,\n",
        "                                                      batch_size)"
      ],
      "execution_count": 0,
      "outputs": []
    },
    {
      "metadata": {
        "id": "C3adoQBBzf9V",
        "colab_type": "code",
        "colab": {}
      },
      "cell_type": "code",
      "source": [
        "# Next up: hyper parameters\n",
        "epochs = 100\n",
        "batch_size = 64  # make bigger to make faster\n",
        "rnn_size = 512 \n",
        "num_layers = 3\n",
        "encoding_embedding_size = 512  # 512 col in embedding matrix\n",
        "decoding_embedding_size = 512\n",
        "learning_rate = 0.01\n",
        "learning_rate_decay = 0.9\n",
        "min_learning_rate = 0.0001\n",
        "keep_probability = 0.5  # based on hinton paper '14'\n"
      ],
      "execution_count": 0,
      "outputs": []
    },
    {
      "metadata": {
        "id": "Bz-fpTJ93AGQ",
        "colab_type": "code",
        "colab": {
          "base_uri": "https://localhost:8080/",
          "height": 1272
        },
        "outputId": "68a9e286-b1cb-4212-c757-0f449f8ccab8"
      },
      "cell_type": "code",
      "source": [
        "# define a TF session\n",
        "\n",
        "# reset graphs\n",
        "tf.reset_default_graph()\n",
        "session = tf.InteractiveSession()\n",
        "\n",
        "# load model inputs\n",
        "\n",
        "inputs, targets, lr, keep_prob = model_inputs()\n",
        "\n",
        "# sequence length\n",
        "sequence_length = tf.placeholder(tf.int32, shape=(batch_size,), name = 'sequence_length')\n",
        "#sequence_length = tf.placeholder_with_default(25, (20,1), name = 'sequence_length')\n",
        "print(tf.shape(sequence_length))  # error sayings sequence_length is supposed to be a vector.\n",
        "\n",
        "# get shape of input tensor\n",
        "input_shape = tf.shape(inputs)\n",
        "print(input_shape)\n",
        "\n",
        "keep_prob = tf.Variable(0.5)\n",
        "\n",
        "# Getting training and test predictions\n",
        "training_predictions, test_predictions = seq2seq_model(tf.reverse(inputs, [-1]), \n",
        "                                                       targets, \n",
        "                                                       keep_prob, \n",
        "                                                       batch_size, \n",
        "                                                       sequence_length,\n",
        "                                                       len(answerswords2int),\n",
        "                                                       len(questionswords2int),\n",
        "                                                       encoding_embedding_size,\n",
        "                                                       decoding_embedding_size,\n",
        "                                                       rnn_size,\n",
        "                                                       num_layers,\n",
        "                                                       questionswords2int)\n",
        "                                                    "
      ],
      "execution_count": 89,
      "outputs": [
        {
          "output_type": "stream",
          "text": [
            "/usr/local/lib/python3.6/dist-packages/tensorflow/python/client/session.py:1714: UserWarning: An interactive session is already active. This can cause out-of-memory errors in some cases. You must explicitly call `InteractiveSession.close()` to release resources held by the other session(s).\n",
            "  warnings.warn('An interactive session is already active. This can '\n"
          ],
          "name": "stderr"
        },
        {
          "output_type": "stream",
          "text": [
            "Tensor(\"Shape:0\", shape=(1,), dtype=int32)\n",
            "Tensor(\"Shape_1:0\", shape=(2,), dtype=int32)\n"
          ],
          "name": "stdout"
        },
        {
          "output_type": "error",
          "ename": "TypeError",
          "evalue": "ignored",
          "traceback": [
            "\u001b[0;31m---------------------------------------------------------------------------\u001b[0m",
            "\u001b[0;31mTypeError\u001b[0m                                 Traceback (most recent call last)",
            "\u001b[0;32m<ipython-input-89-d97d41e4561e>\u001b[0m in \u001b[0;36m<module>\u001b[0;34m()\u001b[0m\n\u001b[1;32m     29\u001b[0m                                                        \u001b[0mrnn_size\u001b[0m\u001b[0;34m,\u001b[0m\u001b[0;34m\u001b[0m\u001b[0m\n\u001b[1;32m     30\u001b[0m                                                        \u001b[0mnum_layers\u001b[0m\u001b[0;34m,\u001b[0m\u001b[0;34m\u001b[0m\u001b[0m\n\u001b[0;32m---> 31\u001b[0;31m                                                        questionswords2int)\n\u001b[0m\u001b[1;32m     32\u001b[0m \u001b[0;34m\u001b[0m\u001b[0m\n",
            "\u001b[0;32m<ipython-input-87-d0ec38680c88>\u001b[0m in \u001b[0;36mseq2seq_model\u001b[0;34m(inputs, targets, keep_prob, batch_size, sequence_length, answers_num_words, questions_num_words, encoder_embedding_size, decoder_embedding_size, rnn_size, num_layers, questionswords2int)\u001b[0m\n\u001b[1;32m     25\u001b[0m                                                       \u001b[0mquestionswords2int\u001b[0m\u001b[0;34m,\u001b[0m\u001b[0;34m\u001b[0m\u001b[0m\n\u001b[1;32m     26\u001b[0m                                                       \u001b[0mkeep_prob\u001b[0m\u001b[0;34m,\u001b[0m\u001b[0;34m\u001b[0m\u001b[0m\n\u001b[0;32m---> 27\u001b[0;31m                                                       batch_size)\n\u001b[0m",
            "\u001b[0;32m<ipython-input-86-041fefbc792b>\u001b[0m in \u001b[0;36mdecoder_rnn\u001b[0;34m(decoder_embedded_input, decoder_embeddings_matrix, encoder_state, num_words, sequence_length, rnn_size, num_layers, word2int, keep_prob, batch_size)\u001b[0m\n\u001b[1;32m     22\u001b[0m                                               \u001b[0moutput_function\u001b[0m\u001b[0;34m,\u001b[0m\u001b[0;34m\u001b[0m\u001b[0m\n\u001b[1;32m     23\u001b[0m                                               \u001b[0mkeep_prob\u001b[0m\u001b[0;34m,\u001b[0m\u001b[0;34m\u001b[0m\u001b[0m\n\u001b[0;32m---> 24\u001b[0;31m                                               batch_size)\n\u001b[0m\u001b[1;32m     25\u001b[0m \u001b[0;34m\u001b[0m\u001b[0m\n\u001b[1;32m     26\u001b[0m     \u001b[0mdecoding_scope\u001b[0m\u001b[0;34m.\u001b[0m\u001b[0mreuse_variables\u001b[0m\u001b[0;34m(\u001b[0m\u001b[0;34m)\u001b[0m\u001b[0;34m\u001b[0m\u001b[0m\n",
            "\u001b[0;32m<ipython-input-84-b2f8c64f01ce>\u001b[0m in \u001b[0;36mdecode_training_set\u001b[0;34m(encoder_state, decoder_cell, decoder_embedded_input, sequence_length, decoding_scope, output_function, keep_prob, batch_size)\u001b[0m\n\u001b[1;32m     34\u001b[0m \u001b[0;34m\u001b[0m\u001b[0m\n\u001b[1;32m     35\u001b[0m \u001b[0;34m\u001b[0m\u001b[0m\n\u001b[0;32m---> 36\u001b[0;31m   \u001b[0mdecoder_output_dropout\u001b[0m \u001b[0;34m=\u001b[0m \u001b[0mtf\u001b[0m\u001b[0;34m.\u001b[0m\u001b[0mnn\u001b[0m\u001b[0;34m.\u001b[0m\u001b[0mdropout\u001b[0m\u001b[0;34m(\u001b[0m\u001b[0mtf\u001b[0m\u001b[0;34m.\u001b[0m\u001b[0mcast\u001b[0m\u001b[0;34m(\u001b[0m\u001b[0mdecoder_output\u001b[0m\u001b[0;34m,\u001b[0m \u001b[0mtf\u001b[0m\u001b[0;34m.\u001b[0m\u001b[0mfloat32\u001b[0m\u001b[0;34m)\u001b[0m\u001b[0;34m,\u001b[0m \u001b[0mkeep_prob\u001b[0m\u001b[0;34m)\u001b[0m\u001b[0;34m\u001b[0m\u001b[0m\n\u001b[0m\u001b[1;32m     37\u001b[0m \u001b[0;34m\u001b[0m\u001b[0m\n\u001b[1;32m     38\u001b[0m   \u001b[0;32mreturn\u001b[0m \u001b[0moutput_function\u001b[0m\u001b[0;34m(\u001b[0m\u001b[0mdecoder_output_dropout\u001b[0m\u001b[0;34m)\u001b[0m\u001b[0;34m\u001b[0m\u001b[0m\n",
            "\u001b[0;32m/usr/local/lib/python3.6/dist-packages/tensorflow/python/ops/math_ops.py\u001b[0m in \u001b[0;36mcast\u001b[0;34m(x, dtype, name)\u001b[0m\n\u001b[1;32m    661\u001b[0m       \u001b[0;31m# allows some conversions that cast() can't do, e.g. casting numbers to\u001b[0m\u001b[0;34m\u001b[0m\u001b[0;34m\u001b[0m\u001b[0m\n\u001b[1;32m    662\u001b[0m       \u001b[0;31m# strings.\u001b[0m\u001b[0;34m\u001b[0m\u001b[0;34m\u001b[0m\u001b[0m\n\u001b[0;32m--> 663\u001b[0;31m       \u001b[0mx\u001b[0m \u001b[0;34m=\u001b[0m \u001b[0mops\u001b[0m\u001b[0;34m.\u001b[0m\u001b[0mconvert_to_tensor\u001b[0m\u001b[0;34m(\u001b[0m\u001b[0mx\u001b[0m\u001b[0;34m,\u001b[0m \u001b[0mname\u001b[0m\u001b[0;34m=\u001b[0m\u001b[0;34m\"x\"\u001b[0m\u001b[0;34m)\u001b[0m\u001b[0;34m\u001b[0m\u001b[0m\n\u001b[0m\u001b[1;32m    664\u001b[0m       \u001b[0;32mif\u001b[0m \u001b[0mx\u001b[0m\u001b[0;34m.\u001b[0m\u001b[0mdtype\u001b[0m\u001b[0;34m.\u001b[0m\u001b[0mbase_dtype\u001b[0m \u001b[0;34m!=\u001b[0m \u001b[0mbase_type\u001b[0m\u001b[0;34m:\u001b[0m\u001b[0;34m\u001b[0m\u001b[0m\n\u001b[1;32m    665\u001b[0m         \u001b[0mx\u001b[0m \u001b[0;34m=\u001b[0m \u001b[0mgen_math_ops\u001b[0m\u001b[0;34m.\u001b[0m\u001b[0mcast\u001b[0m\u001b[0;34m(\u001b[0m\u001b[0mx\u001b[0m\u001b[0;34m,\u001b[0m \u001b[0mbase_type\u001b[0m\u001b[0;34m,\u001b[0m \u001b[0mname\u001b[0m\u001b[0;34m=\u001b[0m\u001b[0mname\u001b[0m\u001b[0;34m)\u001b[0m\u001b[0;34m\u001b[0m\u001b[0m\n",
            "\u001b[0;32m/usr/local/lib/python3.6/dist-packages/tensorflow/python/framework/ops.py\u001b[0m in \u001b[0;36mconvert_to_tensor\u001b[0;34m(value, dtype, name, preferred_dtype)\u001b[0m\n\u001b[1;32m   1009\u001b[0m       \u001b[0mname\u001b[0m\u001b[0;34m=\u001b[0m\u001b[0mname\u001b[0m\u001b[0;34m,\u001b[0m\u001b[0;34m\u001b[0m\u001b[0m\n\u001b[1;32m   1010\u001b[0m       \u001b[0mpreferred_dtype\u001b[0m\u001b[0;34m=\u001b[0m\u001b[0mpreferred_dtype\u001b[0m\u001b[0;34m,\u001b[0m\u001b[0;34m\u001b[0m\u001b[0m\n\u001b[0;32m-> 1011\u001b[0;31m       as_ref=False)\n\u001b[0m\u001b[1;32m   1012\u001b[0m \u001b[0;34m\u001b[0m\u001b[0m\n\u001b[1;32m   1013\u001b[0m \u001b[0;34m\u001b[0m\u001b[0m\n",
            "\u001b[0;32m/usr/local/lib/python3.6/dist-packages/tensorflow/python/framework/ops.py\u001b[0m in \u001b[0;36minternal_convert_to_tensor\u001b[0;34m(value, dtype, name, as_ref, preferred_dtype, ctx)\u001b[0m\n\u001b[1;32m   1105\u001b[0m \u001b[0;34m\u001b[0m\u001b[0m\n\u001b[1;32m   1106\u001b[0m     \u001b[0;32mif\u001b[0m \u001b[0mret\u001b[0m \u001b[0;32mis\u001b[0m \u001b[0;32mNone\u001b[0m\u001b[0;34m:\u001b[0m\u001b[0;34m\u001b[0m\u001b[0m\n\u001b[0;32m-> 1107\u001b[0;31m       \u001b[0mret\u001b[0m \u001b[0;34m=\u001b[0m \u001b[0mconversion_func\u001b[0m\u001b[0;34m(\u001b[0m\u001b[0mvalue\u001b[0m\u001b[0;34m,\u001b[0m \u001b[0mdtype\u001b[0m\u001b[0;34m=\u001b[0m\u001b[0mdtype\u001b[0m\u001b[0;34m,\u001b[0m \u001b[0mname\u001b[0m\u001b[0;34m=\u001b[0m\u001b[0mname\u001b[0m\u001b[0;34m,\u001b[0m \u001b[0mas_ref\u001b[0m\u001b[0;34m=\u001b[0m\u001b[0mas_ref\u001b[0m\u001b[0;34m)\u001b[0m\u001b[0;34m\u001b[0m\u001b[0m\n\u001b[0m\u001b[1;32m   1108\u001b[0m \u001b[0;34m\u001b[0m\u001b[0m\n\u001b[1;32m   1109\u001b[0m     \u001b[0;32mif\u001b[0m \u001b[0mret\u001b[0m \u001b[0;32mis\u001b[0m \u001b[0mNotImplemented\u001b[0m\u001b[0;34m:\u001b[0m\u001b[0;34m\u001b[0m\u001b[0m\n",
            "\u001b[0;32m/usr/local/lib/python3.6/dist-packages/tensorflow/python/ops/array_ops.py\u001b[0m in \u001b[0;36m_autopacking_conversion_function\u001b[0;34m(v, dtype, name, as_ref)\u001b[0m\n\u001b[1;32m    958\u001b[0m   \u001b[0;32mif\u001b[0m \u001b[0mdtype\u001b[0m \u001b[0;32mis\u001b[0m \u001b[0;32mnot\u001b[0m \u001b[0;32mNone\u001b[0m \u001b[0;32mand\u001b[0m \u001b[0mdtype\u001b[0m \u001b[0;34m!=\u001b[0m \u001b[0minferred_dtype\u001b[0m\u001b[0;34m:\u001b[0m\u001b[0;34m\u001b[0m\u001b[0m\n\u001b[1;32m    959\u001b[0m     \u001b[0;32mreturn\u001b[0m \u001b[0mNotImplemented\u001b[0m\u001b[0;34m\u001b[0m\u001b[0m\n\u001b[0;32m--> 960\u001b[0;31m   \u001b[0;32mreturn\u001b[0m \u001b[0m_autopacking_helper\u001b[0m\u001b[0;34m(\u001b[0m\u001b[0mv\u001b[0m\u001b[0;34m,\u001b[0m \u001b[0minferred_dtype\u001b[0m\u001b[0;34m,\u001b[0m \u001b[0mname\u001b[0m \u001b[0;32mor\u001b[0m \u001b[0;34m\"packed\"\u001b[0m\u001b[0;34m)\u001b[0m\u001b[0;34m\u001b[0m\u001b[0m\n\u001b[0m\u001b[1;32m    961\u001b[0m \u001b[0;34m\u001b[0m\u001b[0m\n\u001b[1;32m    962\u001b[0m \u001b[0;34m\u001b[0m\u001b[0m\n",
            "\u001b[0;32m/usr/local/lib/python3.6/dist-packages/tensorflow/python/ops/array_ops.py\u001b[0m in \u001b[0;36m_autopacking_helper\u001b[0;34m(list_or_tuple, dtype, name)\u001b[0m\n\u001b[1;32m    900\u001b[0m           raise TypeError(\"Cannot convert a list containing a tensor of dtype \"\n\u001b[1;32m    901\u001b[0m                           \"%s to %s (Tensor is: %r)\" % (elem.dtype, dtype,\n\u001b[0;32m--> 902\u001b[0;31m                                                         elem))\n\u001b[0m\u001b[1;32m    903\u001b[0m         \u001b[0mconverted_elems\u001b[0m\u001b[0;34m.\u001b[0m\u001b[0mappend\u001b[0m\u001b[0;34m(\u001b[0m\u001b[0melem\u001b[0m\u001b[0;34m)\u001b[0m\u001b[0;34m\u001b[0m\u001b[0m\n\u001b[1;32m    904\u001b[0m         \u001b[0mmust_pack\u001b[0m \u001b[0;34m=\u001b[0m \u001b[0;32mTrue\u001b[0m\u001b[0;34m\u001b[0m\u001b[0m\n",
            "\u001b[0;31mTypeError\u001b[0m: Cannot convert a list containing a tensor of dtype <dtype: 'int32'> to <dtype: 'float32'> (Tensor is: <tf.Tensor 'decoding/decoder/transpose_1:0' shape=(64, ?) dtype=int32>)"
          ]
        }
      ]
    },
    {
      "metadata": {
        "id": "Zd-FT3VW31Su",
        "colab_type": "code",
        "colab": {
          "base_uri": "https://localhost:8080/",
          "height": 238
        },
        "outputId": "47ad2ac5-96d6-4ef8-d707-5b146240bcb8"
      },
      "cell_type": "code",
      "source": [
        "with tf.name_scope(\"optimization\"):\n",
        "  loss_error = tf.contrib.seq2seq.sequence_loss(training_predictions,\n",
        "                                               targets,\n",
        "                                               tf.ones([input_shape[0], sequence_length]))\n",
        "  #Adam optimizer object\n",
        "  optimizer = tf.train.AdamOptimizer(learning_rate)\n",
        "  gradients = optimizer.compute_gradients(loss_error)\n",
        "  # clip the gradients\n",
        "  clipped_gradients = [(tf.clip_by_value(grad_tensor, -5., 5.), grad_variable) for grad_tensor, grad_variable in gradients if grad_tensor is not None]\n",
        "  optimizer_gradient_clipping = optimizer.apply_gradients(clipped_gradients)"
      ],
      "execution_count": 68,
      "outputs": [
        {
          "output_type": "error",
          "ename": "NameError",
          "evalue": "ignored",
          "traceback": [
            "\u001b[0;31m---------------------------------------------------------------------------\u001b[0m",
            "\u001b[0;31mNameError\u001b[0m                                 Traceback (most recent call last)",
            "\u001b[0;32m<ipython-input-68-3f324d7454b0>\u001b[0m in \u001b[0;36m<module>\u001b[0;34m()\u001b[0m\n\u001b[1;32m      1\u001b[0m \u001b[0;32mwith\u001b[0m \u001b[0mtf\u001b[0m\u001b[0;34m.\u001b[0m\u001b[0mname_scope\u001b[0m\u001b[0;34m(\u001b[0m\u001b[0;34m\"optimization\"\u001b[0m\u001b[0;34m)\u001b[0m\u001b[0;34m:\u001b[0m\u001b[0;34m\u001b[0m\u001b[0m\n\u001b[0;32m----> 2\u001b[0;31m   loss_error = tf.contrib.seq2seq.sequence_loss(training_predictions,\n\u001b[0m\u001b[1;32m      3\u001b[0m                                                \u001b[0mtargets\u001b[0m\u001b[0;34m,\u001b[0m\u001b[0;34m\u001b[0m\u001b[0m\n\u001b[1;32m      4\u001b[0m                                                tf.ones([input_shape[0], sequence_length]))\n\u001b[1;32m      5\u001b[0m   \u001b[0;31m#Adam optimizer object\u001b[0m\u001b[0;34m\u001b[0m\u001b[0;34m\u001b[0m\u001b[0m\n",
            "\u001b[0;31mNameError\u001b[0m: name 'training_predictions' is not defined"
          ]
        }
      ]
    },
    {
      "metadata": {
        "id": "ckHWyDJgqhdm",
        "colab_type": "code",
        "colab": {}
      },
      "cell_type": "code",
      "source": [
        "# Apply padding to the sequences so the question and answer sequences are the same\n",
        "\n",
        "def apply_padding(batch_of_sequences, word2int):\n",
        "  "
      ],
      "execution_count": 0,
      "outputs": []
    }
  ]
}