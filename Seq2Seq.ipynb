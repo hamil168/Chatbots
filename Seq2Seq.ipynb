{
  "nbformat": 4,
  "nbformat_minor": 0,
  "metadata": {
    "colab": {
      "name": "Seq2Seq.ipynb",
      "version": "0.3.2",
      "provenance": [],
      "collapsed_sections": [],
      "include_colab_link": true
    },
    "kernelspec": {
      "name": "python3",
      "display_name": "Python 3"
    }
  },
  "cells": [
    {
      "cell_type": "markdown",
      "metadata": {
        "id": "view-in-github",
        "colab_type": "text"
      },
      "source": [
        "[View in Colaboratory](https://colab.research.google.com/github/hamil168/Chatbots/blob/master/Seq2Seq.ipynb)"
      ]
    },
    {
      "metadata": {
        "id": "n4oyS5PcJBxu",
        "colab_type": "code",
        "colab": {
          "base_uri": "https://localhost:8080/",
          "height": 105
        },
        "outputId": "8e5e7bc9-78f6-4767-e4ce-2d03b8ad1aeb"
      },
      "cell_type": "code",
      "source": [
        "# For a fresh Colab instance, clone fresh:\n",
        "!pip install -q xlrd\n",
        "!git clone https://github.com/hamil168/Chatbots"
      ],
      "execution_count": 1,
      "outputs": [
        {
          "output_type": "stream",
          "text": [
            "Cloning into 'Chatbots'...\n",
            "remote: Counting objects: 69, done.\u001b[K\n",
            "remote: Compressing objects: 100% (60/60), done.\u001b[K\n",
            "remote: Total 69 (delta 35), reused 26 (delta 8), pack-reused 0\u001b[K\n",
            "Unpacking objects: 100% (69/69), done.\n"
          ],
          "name": "stdout"
        }
      ]
    },
    {
      "metadata": {
        "id": "nGvvfIY0JCyk",
        "colab_type": "code",
        "colab": {
          "base_uri": "https://localhost:8080/",
          "height": 34
        },
        "outputId": "928486a9-ab7b-4078-92db-a965a237e6e6"
      },
      "cell_type": "code",
      "source": [
        "# Change to Colab directory:\n",
        "cd Chatbots/\n"
      ],
      "execution_count": 2,
      "outputs": [
        {
          "output_type": "stream",
          "text": [
            "/content/Chatbots\n"
          ],
          "name": "stdout"
        }
      ]
    },
    {
      "metadata": {
        "id": "E2hByo1k1U6O",
        "colab_type": "text"
      },
      "cell_type": "markdown",
      "source": [
        ""
      ]
    },
    {
      "metadata": {
        "id": "D7PTpdU00-eR",
        "colab_type": "code",
        "colab": {}
      },
      "cell_type": "code",
      "source": [
        "\n",
        "# For an existing Colab instance, pull from master\n",
        "#!git pull https://github.com/hamil168/Chatbots master"
      ],
      "execution_count": 0,
      "outputs": []
    },
    {
      "metadata": {
        "id": "oWBAHK8kWX26",
        "colab_type": "code",
        "colab": {
          "base_uri": "https://localhost:8080/",
          "height": 70
        },
        "outputId": "0fa54125-73ad-4faf-8162-cfb7fa6b7028"
      },
      "cell_type": "code",
      "source": [
        "# Files as they appear in the repo clone\n",
        "ls"
      ],
      "execution_count": 3,
      "outputs": [
        {
          "output_type": "stream",
          "text": [
            "Cornell Movie Script Database EDA.ipynb  Preproc.ipynb  Seq2Seq.ipynb\r\n",
            "movie_conversations.txt                  preproc.py\r\n",
            "movie_lines.txt                          README.md\r\n"
          ],
          "name": "stdout"
        }
      ]
    },
    {
      "metadata": {
        "id": "86Muxioq5zlF",
        "colab_type": "code",
        "colab": {}
      },
      "cell_type": "code",
      "source": [
        "\n",
        "import numpy as np\n",
        "import tensorflow as tf\n",
        "import time\n"
      ],
      "execution_count": 0,
      "outputs": []
    },
    {
      "metadata": {
        "id": "y5HCxQAYX3uS",
        "colab_type": "code",
        "colab": {}
      },
      "cell_type": "code",
      "source": [
        "##run preproc"
      ],
      "execution_count": 0,
      "outputs": []
    },
    {
      "metadata": {
        "id": "m-gfxGYIZFAR",
        "colab_type": "code",
        "colab": {}
      },
      "cell_type": "code",
      "source": [
        "# -*- coding: utf-8 -*-\n",
        "\"\"\"\n",
        "\n",
        "Data preprocessing steps for Cornell Movie Script\n",
        "Chatbot \n",
        "\n",
        "using movie_conversations.text and \n",
        "movie_lines.txt from the Cornell Movie Script Database\n",
        "\n",
        "\n",
        "Created on Sat Jul 14 14:16:00 2018\n",
        "\n",
        "@author: Ben Hamilton\n",
        "\n",
        "#########\n",
        "\"\"\"\n",
        "\n",
        "\n",
        "# Importing the libraries\n",
        "import numpy as np\n",
        "import tensorflow as tf\n",
        "import re\n",
        "import time\n",
        "\n",
        "# - DATA PREPROCESSING ##########\n",
        "\n",
        "# Importing the dataset\n",
        "lines = open('movie_lines.txt', encoding = 'utf-8', errors = 'ignore').read().split('\\n')\n",
        "conversations = open('movie_conversations.txt', encoding = 'utf-8', errors = 'ignore').read().split('\\n')\n",
        "\n",
        "\n",
        "def id_to_line(lines):\n",
        "    #create a dictionary mapping ids to lines\n",
        "    # iterate through each line, split into different elements, get key, get value\n",
        "    id2line = {}\n",
        "    \n",
        "    for line in lines:\n",
        "      _line = line.split(' +++$+++ ')\n",
        "      \n",
        "      if len(_line) == 5:\n",
        "        id2line[_line[0]] = _line[4]\n",
        "    \n",
        "    return id2line\n",
        "\n",
        "\n",
        "def get_conversations_ids(conversations):\n",
        " \n",
        "    # create a list of the conversations\n",
        "    conversations_ids = []\n",
        "    \n",
        "    # The last row of data set is empty, so skip it\n",
        "    for conversation in conversations[:-1]:\n",
        "      \n",
        "      # Split and remove brackets\n",
        "      # Remove single quote\n",
        "      # Remove spaces\n",
        "      _conversation = conversation.split(' +++$+++ ')[-1][1:-1].replace(\"'\",\"\").replace(\" \",\"\")\n",
        "      \n",
        "      # Append as list by spliting on commas\n",
        "      conversations_ids.append(_conversation.split(\",\"))\n",
        "      \n",
        "    return conversations_ids\n",
        "  \n",
        "def get_questions_and_answers(conversations_ids,id2line):\n",
        "    # return unclean questions and answers\n",
        "    # using the rule that every line that is responded to is a 'question'\n",
        "    # and every line that is a response is the corresponding 'answer'\n",
        "    # So it is expected that some lines appear on both lists, but not in \n",
        "    # parallel to themselves.\n",
        "    # Getting separately the questions and the answers\n",
        "    questions = []\n",
        "    answers = []\n",
        "    \n",
        "    for conversation in conversations_ids:\n",
        "      \n",
        "      for i in range(len(conversation) - 1):\n",
        "        questions.append(id2line[conversation[i]])\n",
        "        answers.append(id2line[conversation[i+1]])\n",
        "        \n",
        "    return questions, answers\n",
        "    \n",
        "\n",
        "# first cleaning of the texts\n",
        "def clean_text(text):\n",
        "  text = text.lower()\n",
        "  text = re.sub(r\"i'm\", \"i am\", text)\n",
        "  text = re.sub(r\"he's\", \"he is\", text)\n",
        "  text = re.sub(r\"she's\", \"she is\", text)\n",
        "  text = re.sub(r\"that's\", \"that is\", text)\n",
        "  text = re.sub(r\"what's\", \"what is\", text)\n",
        "  text = re.sub(r\"where's\", \"where is\", text)\n",
        "  \n",
        "  text = re.sub(r\"\\'ll\", \" will\", text)\n",
        "  text = re.sub(r\"\\'ve\", \" have\", text)\n",
        "  text = re.sub(r\"\\'d\", \" would\", text)\n",
        "  text = re.sub(r\"won't\", \"will not\", text)\n",
        "  text = re.sub(r\"can't\", \"can not\", text)\n",
        "  text = re.sub(r\"don't\", \"do not\", text)\n",
        "  \n",
        "  text = re.sub(r\"\\'re\", \" are\", text)\n",
        "  \n",
        "  text = re.sub(r\"[-()\\'#/@;:<>{}'\\+\\=\\-\\|.?,\\!]\", \"\", text) \n",
        "\n",
        "  return text\n",
        "\n",
        "# Apply on all \"questions\" and \"answers\"\n",
        "\n",
        "\n",
        "\n",
        "\n",
        "\n",
        "#############################################################\n",
        "\n",
        "\n",
        "def word_to_counts(clean_questions, clean_answers):\n",
        "# Creating a dictionary that maps each word to its number of occurrences\n",
        "    word2count = {}\n",
        "    for question in clean_questions:\n",
        "      for word in question.split():\n",
        "        if word not in word2count:\n",
        "          word2count[word] = 1\n",
        "        else:\n",
        "          word2count[word] += 1\n",
        "      \n",
        "# This double counts some entries... this may be OK. come back to think on it later.\n",
        "    for answer in clean_answers:\n",
        "      for word in answer.split():\n",
        "        if word not in word2count:\n",
        "          word2count[word] = 1\n",
        "        else:\n",
        "          word2count[word] += 1\n",
        "          \n",
        "    return word2count\n",
        "\n",
        "#############################################################\n",
        "\n",
        "\n",
        "# Create 2 dictionaries that map questions words and answer words to integers\n",
        "def map_questions_and_answers_to_integers(word2count):\n",
        "\n",
        "    # set threshold for significance in word count\n",
        "    threshold = 20\n",
        "    \n",
        "    questionswords2int = {}\n",
        "    word_number = 0\n",
        "    \n",
        "    for word, count in word2count.items():\n",
        "        if count >= threshold:\n",
        "          questionswords2int[word] = word_number\n",
        "          word_number += 1\n",
        "    \n",
        "    \n",
        "    answerswords2int = {}\n",
        "    word_number = 0\n",
        "    \n",
        "    for word, count in word2count.items():\n",
        "        if count >= threshold:\n",
        "          answerswords2int[word] = word_number\n",
        "          word_number += 1    \n",
        "\n",
        "    # Adding the last tokens to these two dictionaries\n",
        "    # create entries for tokens for questionswords2int and answerswords2uint\n",
        "    \n",
        "    tokens = ['<PAD>', '<EOS>', '<OUT>', '<SOS>']\n",
        "    for token in tokens:\n",
        "      questionswords2int[token] = len(questionswords2int) + 1\n",
        "      answerswords2int[token] = len(answerswords2int) + 1\n",
        "\n",
        "    return questionswords2int, answerswords2int\n",
        "\n",
        "#############################################################\n",
        "\n",
        "def map_invert_answers_to_ints(answerswords2int):\n",
        "    # Create dictionary that maps integers back to the answers\n",
        "    # invert answersword2int using dict comprehension and .items\n",
        "    \n",
        "    answersints2word = {word_int: word for word, word_int in answerswords2int.items()}\n",
        "\n",
        "#############################################################\n",
        "\n",
        "\n",
        "def preproc_steps(lines, conversations):\n",
        "    \n",
        "    id2line = id_to_line(lines)\n",
        "    \n",
        "    conversations_ids = get_conversations_ids(conversations)\n",
        "    \n",
        "    questions, answers = get_questions_and_answers(conversations_ids,id2line)\n",
        "    \n",
        "    clean_questions = [clean_text(question) for question in questions]\n",
        "    clean_answers = [clean_text(answer) for answer in answers]\n",
        "    \n",
        "    word2count = word_to_counts(clean_questions, clean_answers)\n",
        "    \n",
        "    questionswords2int, answerswords2int = map_questions_and_answers_to_integers(word2count)\n",
        "    \n",
        "    answersints2words = map_invert_answers_to_ints(answerswords2int)\n",
        "\n",
        "    # Conccatenate <EOS> to every cleaned answer\n",
        "    # needed for seq2seq model \n",
        "    \n",
        "    for i in range(len(clean_answers)):\n",
        "      clean_answers[i] += ' <EOS>'\n",
        "    \n",
        "    # Translating cleaned questions into integers using \n",
        "    # replace alal words filtered out by token with <OUT>\n",
        "    \n",
        "    questions_into_int = []\n",
        "    \n",
        "    for question in clean_questions:\n",
        "      ints = []\n",
        "      \n",
        "      # translate question into integers\n",
        "      for word in question.split():\n",
        "        \n",
        "        if word in questionswords2int:\n",
        "          ints.append(questionswords2int[word])\n",
        "        else:\n",
        "          ints.append(questionswords2int['<OUT>'])\n",
        "    \n",
        "      \n",
        "      questions_into_int.append(ints)\n",
        "      \n",
        "    answers_into_int = []\n",
        "    \n",
        "    for answer in clean_answers:\n",
        "      ints = []\n",
        "      \n",
        "      # translate answer into integers\n",
        "      for word in answer.split():\n",
        "        \n",
        "        if word in answerswords2int:\n",
        "          ints.append(answerswords2int[word])\n",
        "        else:\n",
        "          ints.append(answerswords2int['<OUT>'])\n",
        "    \n",
        "      \n",
        "      answers_into_int.append(ints)\n",
        "    \n",
        "    # Sort questions by length of questions to speed up training\n",
        "    # Reduces amount of padding during training\n",
        "    \n",
        "    sorted_clean_questions = []\n",
        "    sorted_clean_answers = []\n",
        "    \n",
        "    # limit input to short sentences\n",
        "    MAX_SENTENCE_LENGTH = 25\n",
        "    \n",
        "    # loop over possible lengths of questions\n",
        "    for length in range(1, MAX_SENTENCE_LENGTH + 1):\n",
        "       \n",
        "      # use enumerate to loop 2 elements: index of question and question as list of ints\n",
        "      for i in enumerate(questions_into_int):\n",
        "      \n",
        "        # if length of current question is equal to length we are checking...\n",
        "        # append it to the sorted list by catching via the enumerated index\n",
        "        if len(i[1]) == length:\n",
        "          sorted_clean_questions.append(questions_into_int[i[0]])\n",
        "          \n",
        "          # keeps answer well aligned:\n",
        "          sorted_clean_answers.append(answers_into_int[i[0]])\n",
        "    \n",
        "    return id2line, conversations_ids, questions, answers, clean_questions, clean_answers, word2count, sorted_clean_questions, sorted_clean_answers"
      ],
      "execution_count": 0,
      "outputs": []
    },
    {
      "metadata": {
        "id": "Ex5WaSTlX1Ij",
        "colab_type": "text"
      },
      "cell_type": "markdown",
      "source": [
        ""
      ]
    },
    {
      "metadata": {
        "id": "Mq2OEcQEZMU3",
        "colab_type": "code",
        "colab": {}
      },
      "cell_type": "code",
      "source": [
        "id2l, cid, q, a, cq, ca, w2c, scq, sca = preproc_steps(lines,conversations)\n",
        "\n",
        "questionswords2int, answerswords2int = map_questions_and_answers_to_integers(w2c)"
      ],
      "execution_count": 0,
      "outputs": []
    },
    {
      "metadata": {
        "id": "76YSZQggcUGp",
        "colab_type": "code",
        "colab": {
          "base_uri": "https://localhost:8080/",
          "height": 105
        },
        "outputId": "7ab5dae9-4ee8-4d9d-ea74-787558f66e54"
      },
      "cell_type": "code",
      "source": [
        "conversations[0:5]"
      ],
      "execution_count": 8,
      "outputs": [
        {
          "output_type": "execute_result",
          "data": {
            "text/plain": [
              "[\"u0 +++$+++ u2 +++$+++ m0 +++$+++ ['L194', 'L195', 'L196', 'L197']\",\n",
              " \"u0 +++$+++ u2 +++$+++ m0 +++$+++ ['L198', 'L199']\",\n",
              " \"u0 +++$+++ u2 +++$+++ m0 +++$+++ ['L200', 'L201', 'L202', 'L203']\",\n",
              " \"u0 +++$+++ u2 +++$+++ m0 +++$+++ ['L204', 'L205', 'L206']\",\n",
              " \"u0 +++$+++ u2 +++$+++ m0 +++$+++ ['L207', 'L208']\"]"
            ]
          },
          "metadata": {
            "tags": []
          },
          "execution_count": 8
        }
      ]
    },
    {
      "metadata": {
        "id": "wB9CHeplaNlf",
        "colab_type": "code",
        "colab": {
          "base_uri": "https://localhost:8080/",
          "height": 87
        },
        "outputId": "948bcb0b-68b5-4042-db56-7af9b2370054"
      },
      "cell_type": "code",
      "source": [
        "get_conversations_ids(conversations[0:5])"
      ],
      "execution_count": 9,
      "outputs": [
        {
          "output_type": "execute_result",
          "data": {
            "text/plain": [
              "[['L194', 'L195', 'L196', 'L197'],\n",
              " ['L198', 'L199'],\n",
              " ['L200', 'L201', 'L202', 'L203'],\n",
              " ['L204', 'L205', 'L206']]"
            ]
          },
          "metadata": {
            "tags": []
          },
          "execution_count": 9
        }
      ]
    },
    {
      "metadata": {
        "id": "28kMPJR05Y8m",
        "colab_type": "code",
        "colab": {}
      },
      "cell_type": "code",
      "source": [
        "\n",
        "# Create placeholder for inputs and the targets\n",
        "# in TF, all variables are tensors\n",
        "# need to go from NP --> TF tensors\n",
        "# need placeholders for every TF variables inputs and targets\n",
        "\n",
        "def model_inputs():\n",
        "  #inputs and targets are 2D matrices\n",
        "  inputs = tf.placeholder(tf.int32, [None, None], name = 'input') \n",
        "  targets = tf.placeholder(tf.int32, [None, None], name = 'target')\n",
        "  \n",
        "  \n",
        "  lr = tf.placeholder(tf.float32, name = 'learning_rate')\n",
        "  keep_prob = tf.placeholder(tf.float32, name = 'keep_prop') #dropout\n",
        "  \n",
        "  return inputs, targets, lr, keep_prob"
      ],
      "execution_count": 0,
      "outputs": []
    },
    {
      "metadata": {
        "id": "HxkuwMXC8D_k",
        "colab_type": "text"
      },
      "cell_type": "markdown",
      "source": [
        ""
      ]
    },
    {
      "metadata": {
        "id": "R3v5y5YB6lHv",
        "colab_type": "code",
        "colab": {}
      },
      "cell_type": "code",
      "source": [
        "# preprocessing the targets\n",
        "# need batches, \n",
        "# need each to start with <SOS> token\n",
        "\n",
        "def preprocess_targets(targets, word2int, batch_size):\n",
        "  left_side = tf.fill([batch_size, 1], word2int['<SOS>'])\n",
        "    \n",
        "  # up to batch size less the last token\n",
        "  # slide of [1,1]\n",
        "  right_side = tf.strided_slice(targets, [0,0], [batch_size, -1], [1,1])\n",
        "  preprocessed_target = tf.concat([left_side,right_side], axis=1)\n",
        "  return preprocessed_target"
      ],
      "execution_count": 0,
      "outputs": []
    },
    {
      "metadata": {
        "id": "vcPkYl7184NK",
        "colab_type": "code",
        "colab": {}
      },
      "cell_type": "code",
      "source": [
        "# Create encoder RNN layer\n",
        "def encoder_rnn(rnn_inputs, rnn_size, num_layers, keep_prob, sequence_length):\n",
        "  # LSTM cell class\n",
        "  \n",
        "  # rnn_size: number of input tensors\n",
        "  # sequence_length: length of each question in the atch\n",
        "  \n",
        "  lstm = tf.contrib.rnn.BasicLSTMCell(rnn_size)\n",
        "  \n",
        "  # dropout wrapper class\n",
        "  lstm_dropout = tf.contrib.rnn.DropoutWrapper(lstm, input_keep_prob = keep_prob)\n",
        "  \n",
        "  #\n",
        "  encoder_cell = tf.contrib.rnn.MultiRNNCell([lstm_dropout] * num_layers)\n",
        "  \n",
        "  # bidirection rnn function (creates dynamic bidirectional network)\n",
        "  # builds independent forward and backward rnn\n",
        "  # need ot make sure the ends match\n",
        "  # (first element is encoder_output)\n",
        "  _, encoder_state = tf.nn.bidirectional_dynamic_rnn(cell_fw = encoder_cell,\n",
        "                                                   cell_bw = encoder_cell,\n",
        "                                                   sequence_length = sequence_length,\n",
        "                                                   inputs = rnn_inputs,\n",
        "                                                   dtype = tf.float32)\n",
        "  return encoder_state\n"
      ],
      "execution_count": 0,
      "outputs": []
    },
    {
      "metadata": {
        "id": "XrO9rYaxfuUc",
        "colab_type": "text"
      },
      "cell_type": "markdown",
      "source": [
        "### Attention\n",
        "- The tutorial is with r1.0, I am using r1.9, so I am going to have to do some updates.\n",
        "- Need to learn more.\n",
        "- https://www.tensorflow.org/api_guides/python/contrib.seq2seq\n",
        "- (warning for later, when I add Beam Search) **NOTE** If you are using the `BeamSearchDecoder` with a cell wrapped in\n",
        "`AttentionWrapper`\n",
        "- will also need to return here with DeviceWrapper for multiple GPUs"
      ]
    },
    {
      "metadata": {
        "id": "Po14wIN5hQLz",
        "colab_type": "code",
        "colab": {}
      },
      "cell_type": "code",
      "source": [
        "def decode_training_set(encoder_state, decoder_cell, \n",
        "                        decoder_embedded_input, \n",
        "                        sequence_length, decoding_scope, output_function,\n",
        "                       keep_prob, batch_size):\n",
        "  \n",
        "  # Get attention states\n",
        "  # shaped [batch_size, memory_max_time, memory_depth]\n",
        "  attention_states = tf.zeros([batch_size, 1, decoder_cell.output_size])\n",
        "\n",
        "  # linear attention\n",
        "  attention_mechanism = tf.contrib.seq2seq.BahdanauAttention(num_units = decoder_cell.output_size, \n",
        "                                                             memory = attention_states)\n",
        "  \n",
        "  # 256 look up.\n",
        "  attention_cell = tf.contrib.seq2seq.AttentionWrapper(decoder_cell, attention_mechanism)\n",
        "  \n",
        "  helper = tf.contrib.seq2seq.TrainingHelper(decoder_embedded_input, sequence_length = sequence_length)\n",
        "  \n",
        "  decoder = tf.contrib.seq2seq.BasicDecoder(cell = decoder_cell,\n",
        "                                           helper = helper,\n",
        "                                           initial_state = encoder_state[0])\n",
        "\n",
        "  \n",
        "  # returns (final_outputs, final_state, final_sequence_lengths)\n",
        "  decoder_output, _, _ = tf.contrib.seq2seq.dynamic_decode(decoder = decoder,\n",
        "                                                           output_time_major = False,\n",
        "                                                           impute_finished = True,\n",
        "                                                           maximum_iterations = 20)\n",
        "    \n",
        " \n",
        "  # second arg is decoder_final_state, 3rd is decoder_final_context_state\n",
        "  #decoder_output, _, _ = tf.contrib.seq2seq.dynamic_rnn_decoder(decoder_cell,\n",
        "  #                                                              training_decoder_function,\n",
        "  #                                                              decoder_embedded_input,\n",
        "  #                                                             sequence_length,\n",
        "  ###Where does this go:                                        scope = decoding_scope)\n",
        "  \n",
        "  \n",
        "  #decoder_output_dropout = tf.nn.dropout(decoder_output, keep_prob)\n",
        "  \n",
        "  return decoder_output #output_function(decoder_output)#_dropout)\n",
        "  "
      ],
      "execution_count": 0,
      "outputs": []
    },
    {
      "metadata": {
        "id": "CDEoEQboa0yt",
        "colab_type": "text"
      },
      "cell_type": "markdown",
      "source": [
        ""
      ]
    },
    {
      "metadata": {
        "id": "kWdlTLlMXK6w",
        "colab_type": "text"
      },
      "cell_type": "markdown",
      "source": [
        ""
      ]
    },
    {
      "metadata": {
        "id": "148YWaasfJv-",
        "colab_type": "code",
        "colab": {}
      },
      "cell_type": "code",
      "source": [
        "# decoding the test/validation set\n",
        "\n",
        "def decode_test_set(encoder_state, decoder_cell, \n",
        "                        decoder_embeddings_matrix,\n",
        "                        sos_id, eos_id, maximum_length, num_words,\n",
        "                        sequence_length, decoding_scope, output_function,\n",
        "                       keep_prob, batch_size):\n",
        "  \n",
        "  # Get attention states\n",
        "  # shaped [batch_size, memory_max_time, memory_depth]\n",
        "  attention_states = tf.zeros([batch_size, 1, decoder_cell.output_size])\n",
        "\n",
        "  # linear attention\n",
        "  attention_mechanism = tf.contrib.seq2seq.BahdanauAttention(num_units = decoder_cell.output_size, \n",
        "                                                              memory = attention_states)\n",
        "  \n",
        "  attention_cell = tf.contrib.seq2seq.AttentionWrapper(decoder_cell, attention_mechanism)\n",
        "  \n",
        "  helper = tf.contrib.seq2seq.GreedyEmbeddingHelper(embedding = decoder_embeddings_matrix,\n",
        "                                                    start_tokens = tf.tile(sos_id, batch-size),\n",
        "                                                    end_tokens = eos_id)\n",
        "  \n",
        "  decoder = tf.contrib.seq2seq.BasicDecoder(cell = decoder_cell,\n",
        "                                           helper = helper,\n",
        "                                           initial_state = encoder_state[0])  \n",
        "\n",
        "\n",
        "   \n",
        "  # second arg is decoder_final_state, 3rd is decoder_final_context_state\n",
        "  # returns (final_outputs, final_state, final_sequence_lengths)\n",
        "  decoder_output, _, _ = tf.contrib.seq2seq.dynamic_decode(decoder = decoder,\n",
        "                                                           maximum_iterations = 20)\n",
        "  \n",
        "  # no drop out for Test\n",
        "  return decoder_output\n",
        "  "
      ],
      "execution_count": 0,
      "outputs": []
    },
    {
      "metadata": {
        "id": "abZWRmkcs4ax",
        "colab_type": "code",
        "colab": {}
      },
      "cell_type": "code",
      "source": [
        "def decoder_rnn(decoder_embedded_input, decoder_embeddings_matrix, encoder_state, num_words, sequence_length, rnn_size, num_layers, word2int, keep_prob, batch_size):\n",
        "  with tf.variable_scope('decoding') as decoding_scope:\n",
        "    lstm = tf.contrib.rnn.BasicLSTMCell(rnn_size)\n",
        "    lstm_dropout = tf.contrib.rnn.DropoutWrapper(lstm, input_keep_prob = keep_prob)\n",
        "    decoder_cell = tf.contrib.rnn.MultiRNNCell([lstm_dropout] * num_layers)\n",
        "    \n",
        "    weights = tf.truncated_normal_initializer(stddev = 0.1)\n",
        "    biases = tf.zeros_initializer()\n",
        "    \n",
        "    # create FCL\n",
        "    output_function = lambda x: tf.contrib.layers.fully_connected(x,\n",
        "                                                                 num_words,\n",
        "                                                                 None,\n",
        "                                                                 scope = decoding_scope,\n",
        "                                                                 weights_initializer = weights,\n",
        "                                                                 baises_initializer = biases)\n",
        "    \n",
        "    training_predictions = decode_training_set(encoder_state, decoder_cell,\n",
        "                                              decoder_embedded_input,\n",
        "                                              sequence_length,\n",
        "                                              decoding_scope,\n",
        "                                              output_function,\n",
        "                                              keep_prob,\n",
        "                                              batch_size)\n",
        "    \n",
        "    decoding_scope.reuse_variables()\n",
        "    test_predictions = decode_test_set(encoder_state,\n",
        "                                      decoder_cell,\n",
        "                                      decoder_embeddings_matrix,\n",
        "                                      word2int['<SOS>'],\n",
        "                                      word2int['<EOS>'],\n",
        "                                      sequence_length - 1,  #exclude last token\n",
        "                                      num_words,\n",
        "                                      decoding_scope,\n",
        "                                      sequence_length,\n",
        "                                      output_function,\n",
        "                                      keep_prob,\n",
        "                                      batch_size)\n",
        "    \n",
        "    \n",
        "  return training_predictions, test_predictions    \n",
        "    "
      ],
      "execution_count": 0,
      "outputs": []
    },
    {
      "metadata": {
        "id": "KkSsZuJhwok0",
        "colab_type": "text"
      },
      "cell_type": "markdown",
      "source": [
        ""
      ]
    },
    {
      "metadata": {
        "id": "XPL9LB2sVJul",
        "colab_type": "code",
        "colab": {}
      },
      "cell_type": "code",
      "source": [
        ""
      ],
      "execution_count": 0,
      "outputs": []
    },
    {
      "metadata": {
        "id": "FCPYhwpPuABI",
        "colab_type": "code",
        "colab": {}
      },
      "cell_type": "code",
      "source": [
        "# Build the Model\n",
        "\n",
        "def seq2seq_model(inputs, targets, keep_prob, batch_size, sequence_length, answers_num_words, questions_num_words,\n",
        "                 encoder_embedding_size, decoder_embedding_size, rnn_size, num_layers, questionswords2int):\n",
        "  \n",
        "  encoder_embedded_input = tf.contrib.layers.embed_sequence(inputs,\n",
        "                                                           answers_num_words + 1,\n",
        "                                                           encoder_embedding_size,\n",
        "                                                           initializer = tf.random_uniform_initializer(0,1))\n",
        "  \n",
        "  encoder_state = encoder_rnn(encoder_embedded_input, rnn_size, num_layers, keep_prob, sequence_length)\n",
        "  \n",
        "  preprocessed_targets = preprocess_targets(targets, questionswords2int, batch_size)\n",
        "  \n",
        "  decoder_embeddings_matrix = tf.Variable(tf.random_uniform([questions_num_words + 1, decoder_embedding_size], 0, 1))\n",
        "  \n",
        "  decoder_embedded_input = tf.nn.embedding_lookup(decoder_embeddings_matrix, preprocessed_targets)\n",
        "  \n",
        "  training_predictions, test_predictions = decoder_rnn(decoder_embedded_input,\n",
        "                                                      decoder_embeddings_matrix,\n",
        "                                                      encoder_state,\n",
        "                                                      questions_num_words,\n",
        "                                                      sequence_length,\n",
        "                                                      rnn_size,\n",
        "                                                      num_layers,\n",
        "                                                      questionswords2int,\n",
        "                                                      keep_prob,\n",
        "                                                      batch_size)"
      ],
      "execution_count": 0,
      "outputs": []
    },
    {
      "metadata": {
        "id": "C3adoQBBzf9V",
        "colab_type": "code",
        "colab": {}
      },
      "cell_type": "code",
      "source": [
        "# Next up: hyper parameters\n",
        "epochs = 100\n",
        "batch_size = 64  # make bigger to make faster\n",
        "rnn_size = 512 \n",
        "num_layers = 3\n",
        "encoding_embedding_size = 512  # 512 col in embedding matrix\n",
        "decoding_embedding_size = 512\n",
        "learning_rate = 0.01\n",
        "learning_rate_decay = 0.9\n",
        "min_learning_rate = 0.0001\n",
        "keep_probability = 0.5  # based on hinton paper '14'\n"
      ],
      "execution_count": 0,
      "outputs": []
    },
    {
      "metadata": {
        "id": "Bz-fpTJ93AGQ",
        "colab_type": "code",
        "colab": {
          "base_uri": "https://localhost:8080/",
          "height": 2392
        },
        "outputId": "92f579fd-bfae-4ea7-8f20-bef561a77fce"
      },
      "cell_type": "code",
      "source": [
        "# define a TF session\n",
        "\n",
        "# reset graphs\n",
        "tf.reset_default_graph()\n",
        "session = tf.InteractiveSession()\n",
        "\n",
        "# load model inputs\n",
        "\n",
        "inputs, targets, lr, keep_prob = model_inputs()\n",
        "\n",
        "# sequence length\n",
        "sequence_length = tf.placeholder(tf.int32, shape=(batch_size,), name = 'sequence_length')\n",
        "#sequence_length = tf.placeholder_with_default(25, (20,1), name = 'sequence_length')\n",
        "print(tf.shape(sequence_length))  # error sayings sequence_length is supposed to be a vector.\n",
        "\n",
        "# get shape of input tensor\n",
        "input_shape = tf.shape(inputs)\n",
        "print(input_shape)\n",
        "\n",
        "keep_prob = tf.Variable(0.5)\n",
        "\n",
        "# Getting training and test predictions\n",
        "training_predictions, test_predictions = seq2seq_model(tf.reverse(inputs, [-1]), \n",
        "                                                       targets, \n",
        "                                                       keep_prob, \n",
        "                                                       batch_size, \n",
        "                                                       sequence_length,\n",
        "                                                       len(answerswords2int),\n",
        "                                                       len(questionswords2int),\n",
        "                                                       encoding_embedding_size,\n",
        "                                                       decoding_embedding_size,\n",
        "                                                       rnn_size,\n",
        "                                                       num_layers,\n",
        "                                                       questionswords2int)\n",
        "                                                    "
      ],
      "execution_count": 40,
      "outputs": [
        {
          "output_type": "stream",
          "text": [
            "/usr/local/lib/python3.6/dist-packages/tensorflow/python/client/session.py:1714: UserWarning: An interactive session is already active. This can cause out-of-memory errors in some cases. You must explicitly call `InteractiveSession.close()` to release resources held by the other session(s).\n",
            "  warnings.warn('An interactive session is already active. This can '\n"
          ],
          "name": "stderr"
        },
        {
          "output_type": "stream",
          "text": [
            "Tensor(\"Shape:0\", shape=(1,), dtype=int32)\n",
            "Tensor(\"Shape_1:0\", shape=(2,), dtype=int32)\n"
          ],
          "name": "stdout"
        },
        {
          "output_type": "error",
          "ename": "ValueError",
          "evalue": "ignored",
          "traceback": [
            "\u001b[0;31m---------------------------------------------------------------------------\u001b[0m",
            "\u001b[0;31mValueError\u001b[0m                                Traceback (most recent call last)",
            "\u001b[0;32m<ipython-input-40-d97d41e4561e>\u001b[0m in \u001b[0;36m<module>\u001b[0;34m()\u001b[0m\n\u001b[1;32m     29\u001b[0m                                                        \u001b[0mrnn_size\u001b[0m\u001b[0;34m,\u001b[0m\u001b[0;34m\u001b[0m\u001b[0m\n\u001b[1;32m     30\u001b[0m                                                        \u001b[0mnum_layers\u001b[0m\u001b[0;34m,\u001b[0m\u001b[0;34m\u001b[0m\u001b[0m\n\u001b[0;32m---> 31\u001b[0;31m                                                        questionswords2int)\n\u001b[0m\u001b[1;32m     32\u001b[0m \u001b[0;34m\u001b[0m\u001b[0m\n",
            "\u001b[0;32m<ipython-input-38-d0ec38680c88>\u001b[0m in \u001b[0;36mseq2seq_model\u001b[0;34m(inputs, targets, keep_prob, batch_size, sequence_length, answers_num_words, questions_num_words, encoder_embedding_size, decoder_embedding_size, rnn_size, num_layers, questionswords2int)\u001b[0m\n\u001b[1;32m     25\u001b[0m                                                       \u001b[0mquestionswords2int\u001b[0m\u001b[0;34m,\u001b[0m\u001b[0;34m\u001b[0m\u001b[0m\n\u001b[1;32m     26\u001b[0m                                                       \u001b[0mkeep_prob\u001b[0m\u001b[0;34m,\u001b[0m\u001b[0;34m\u001b[0m\u001b[0m\n\u001b[0;32m---> 27\u001b[0;31m                                                       batch_size)\n\u001b[0m",
            "\u001b[0;32m<ipython-input-37-b6dba406e7c6>\u001b[0m in \u001b[0;36mdecoder_rnn\u001b[0;34m(decoder_embedded_input, decoder_embeddings_matrix, encoder_state, num_words, sequence_length, rnn_size, num_layers, word2int, keep_prob, batch_size)\u001b[0m\n\u001b[1;32m     36\u001b[0m                                       \u001b[0moutput_function\u001b[0m\u001b[0;34m,\u001b[0m\u001b[0;34m\u001b[0m\u001b[0m\n\u001b[1;32m     37\u001b[0m                                       \u001b[0mkeep_prob\u001b[0m\u001b[0;34m,\u001b[0m\u001b[0;34m\u001b[0m\u001b[0m\n\u001b[0;32m---> 38\u001b[0;31m                                       batch_size)\n\u001b[0m\u001b[1;32m     39\u001b[0m \u001b[0;34m\u001b[0m\u001b[0m\n\u001b[1;32m     40\u001b[0m \u001b[0;34m\u001b[0m\u001b[0m\n",
            "\u001b[0;32m<ipython-input-32-8542bf9389d0>\u001b[0m in \u001b[0;36mdecode_test_set\u001b[0;34m(encoder_state, decoder_cell, decoder_embeddings_matrix, sos_id, eos_id, maximum_length, num_words, sequence_length, decoding_scope, output_function, keep_prob, batch_size)\u001b[0m\n\u001b[1;32m     11\u001b[0m \u001b[0;34m\u001b[0m\u001b[0m\n\u001b[1;32m     12\u001b[0m   \u001b[0;31m# linear attention\u001b[0m\u001b[0;34m\u001b[0m\u001b[0;34m\u001b[0m\u001b[0m\n\u001b[0;32m---> 13\u001b[0;31m   \u001b[0mattention_mechanism\u001b[0m \u001b[0;34m=\u001b[0m \u001b[0mtf\u001b[0m\u001b[0;34m.\u001b[0m\u001b[0mcontrib\u001b[0m\u001b[0;34m.\u001b[0m\u001b[0mseq2seq\u001b[0m\u001b[0;34m.\u001b[0m\u001b[0mBahdanauAttention\u001b[0m\u001b[0;34m(\u001b[0m\u001b[0mnum_units\u001b[0m \u001b[0;34m=\u001b[0m \u001b[0mdecoder_cell\u001b[0m\u001b[0;34m.\u001b[0m\u001b[0moutput_size\u001b[0m\u001b[0;34m,\u001b[0m \u001b[0mmemory\u001b[0m \u001b[0;34m=\u001b[0m \u001b[0mattention_states\u001b[0m\u001b[0;34m)\u001b[0m\u001b[0;34m\u001b[0m\u001b[0m\n\u001b[0m\u001b[1;32m     14\u001b[0m \u001b[0;34m\u001b[0m\u001b[0m\n\u001b[1;32m     15\u001b[0m   \u001b[0mattention_cell\u001b[0m \u001b[0;34m=\u001b[0m \u001b[0mtf\u001b[0m\u001b[0;34m.\u001b[0m\u001b[0mcontrib\u001b[0m\u001b[0;34m.\u001b[0m\u001b[0mseq2seq\u001b[0m\u001b[0;34m.\u001b[0m\u001b[0mAttentionWrapper\u001b[0m\u001b[0;34m(\u001b[0m\u001b[0mdecoder_cell\u001b[0m\u001b[0;34m,\u001b[0m \u001b[0mattention_mechanism\u001b[0m\u001b[0;34m)\u001b[0m\u001b[0;34m\u001b[0m\u001b[0m\n",
            "\u001b[0;32m/usr/local/lib/python3.6/dist-packages/tensorflow/contrib/seq2seq/python/ops/attention_wrapper.py\u001b[0m in \u001b[0;36m__init__\u001b[0;34m(self, num_units, memory, memory_sequence_length, normalize, probability_fn, score_mask_value, dtype, name)\u001b[0m\n\u001b[1;32m    554\u001b[0m         \u001b[0mmemory_sequence_length\u001b[0m\u001b[0;34m=\u001b[0m\u001b[0mmemory_sequence_length\u001b[0m\u001b[0;34m,\u001b[0m\u001b[0;34m\u001b[0m\u001b[0m\n\u001b[1;32m    555\u001b[0m         \u001b[0mscore_mask_value\u001b[0m\u001b[0;34m=\u001b[0m\u001b[0mscore_mask_value\u001b[0m\u001b[0;34m,\u001b[0m\u001b[0;34m\u001b[0m\u001b[0m\n\u001b[0;32m--> 556\u001b[0;31m         name=name)\n\u001b[0m\u001b[1;32m    557\u001b[0m     \u001b[0mself\u001b[0m\u001b[0;34m.\u001b[0m\u001b[0m_num_units\u001b[0m \u001b[0;34m=\u001b[0m \u001b[0mnum_units\u001b[0m\u001b[0;34m\u001b[0m\u001b[0m\n\u001b[1;32m    558\u001b[0m     \u001b[0mself\u001b[0m\u001b[0;34m.\u001b[0m\u001b[0m_normalize\u001b[0m \u001b[0;34m=\u001b[0m \u001b[0mnormalize\u001b[0m\u001b[0;34m\u001b[0m\u001b[0m\n",
            "\u001b[0;32m/usr/local/lib/python3.6/dist-packages/tensorflow/contrib/seq2seq/python/ops/attention_wrapper.py\u001b[0m in \u001b[0;36m__init__\u001b[0;34m(self, query_layer, memory, probability_fn, memory_sequence_length, memory_layer, check_inner_dims_defined, score_mask_value, name)\u001b[0m\n\u001b[1;32m    213\u001b[0m           check_inner_dims_defined=check_inner_dims_defined)\n\u001b[1;32m    214\u001b[0m       self._keys = (\n\u001b[0;32m--> 215\u001b[0;31m           \u001b[0mself\u001b[0m\u001b[0;34m.\u001b[0m\u001b[0mmemory_layer\u001b[0m\u001b[0;34m(\u001b[0m\u001b[0mself\u001b[0m\u001b[0;34m.\u001b[0m\u001b[0m_values\u001b[0m\u001b[0;34m)\u001b[0m \u001b[0;32mif\u001b[0m \u001b[0mself\u001b[0m\u001b[0;34m.\u001b[0m\u001b[0mmemory_layer\u001b[0m  \u001b[0;31m# pylint: disable=not-callable\u001b[0m\u001b[0;34m\u001b[0m\u001b[0m\n\u001b[0m\u001b[1;32m    216\u001b[0m           else self._values)\n\u001b[1;32m    217\u001b[0m       self._batch_size = (\n",
            "\u001b[0;32m/usr/local/lib/python3.6/dist-packages/tensorflow/python/layers/base.py\u001b[0m in \u001b[0;36m__call__\u001b[0;34m(self, inputs, *args, **kwargs)\u001b[0m\n\u001b[1;32m    327\u001b[0m \u001b[0;34m\u001b[0m\u001b[0m\n\u001b[1;32m    328\u001b[0m       \u001b[0;31m# Actually call layer\u001b[0m\u001b[0;34m\u001b[0m\u001b[0;34m\u001b[0m\u001b[0m\n\u001b[0;32m--> 329\u001b[0;31m       \u001b[0moutputs\u001b[0m \u001b[0;34m=\u001b[0m \u001b[0msuper\u001b[0m\u001b[0;34m(\u001b[0m\u001b[0mLayer\u001b[0m\u001b[0;34m,\u001b[0m \u001b[0mself\u001b[0m\u001b[0;34m)\u001b[0m\u001b[0;34m.\u001b[0m\u001b[0m__call__\u001b[0m\u001b[0;34m(\u001b[0m\u001b[0minputs\u001b[0m\u001b[0;34m,\u001b[0m \u001b[0;34m*\u001b[0m\u001b[0margs\u001b[0m\u001b[0;34m,\u001b[0m \u001b[0;34m**\u001b[0m\u001b[0mkwargs\u001b[0m\u001b[0;34m)\u001b[0m\u001b[0;34m\u001b[0m\u001b[0m\n\u001b[0m\u001b[1;32m    330\u001b[0m \u001b[0;34m\u001b[0m\u001b[0m\n\u001b[1;32m    331\u001b[0m     \u001b[0;32mif\u001b[0m \u001b[0;32mnot\u001b[0m \u001b[0mcontext\u001b[0m\u001b[0;34m.\u001b[0m\u001b[0mexecuting_eagerly\u001b[0m\u001b[0;34m(\u001b[0m\u001b[0;34m)\u001b[0m\u001b[0;34m:\u001b[0m\u001b[0;34m\u001b[0m\u001b[0m\n",
            "\u001b[0;32m/usr/local/lib/python3.6/dist-packages/tensorflow/python/keras/engine/base_layer.py\u001b[0m in \u001b[0;36m__call__\u001b[0;34m(self, inputs, *args, **kwargs)\u001b[0m\n\u001b[1;32m    694\u001b[0m         \u001b[0;32mif\u001b[0m \u001b[0mall\u001b[0m\u001b[0;34m(\u001b[0m\u001b[0mhasattr\u001b[0m\u001b[0;34m(\u001b[0m\u001b[0mx\u001b[0m\u001b[0;34m,\u001b[0m \u001b[0;34m'get_shape'\u001b[0m\u001b[0;34m)\u001b[0m \u001b[0;32mfor\u001b[0m \u001b[0mx\u001b[0m \u001b[0;32min\u001b[0m \u001b[0minput_list\u001b[0m\u001b[0;34m)\u001b[0m\u001b[0;34m:\u001b[0m\u001b[0;34m\u001b[0m\u001b[0m\n\u001b[1;32m    695\u001b[0m           \u001b[0minput_shapes\u001b[0m \u001b[0;34m=\u001b[0m \u001b[0mnest\u001b[0m\u001b[0;34m.\u001b[0m\u001b[0mmap_structure\u001b[0m\u001b[0;34m(\u001b[0m\u001b[0;32mlambda\u001b[0m \u001b[0mx\u001b[0m\u001b[0;34m:\u001b[0m \u001b[0mx\u001b[0m\u001b[0;34m.\u001b[0m\u001b[0mget_shape\u001b[0m\u001b[0;34m(\u001b[0m\u001b[0;34m)\u001b[0m\u001b[0;34m,\u001b[0m \u001b[0minputs\u001b[0m\u001b[0;34m)\u001b[0m\u001b[0;34m\u001b[0m\u001b[0m\n\u001b[0;32m--> 696\u001b[0;31m         \u001b[0mself\u001b[0m\u001b[0;34m.\u001b[0m\u001b[0mbuild\u001b[0m\u001b[0;34m(\u001b[0m\u001b[0minput_shapes\u001b[0m\u001b[0;34m)\u001b[0m\u001b[0;34m\u001b[0m\u001b[0m\n\u001b[0m\u001b[1;32m    697\u001b[0m \u001b[0;34m\u001b[0m\u001b[0m\n\u001b[1;32m    698\u001b[0m       \u001b[0;31m# Check input assumptions set after layer building, e.g. input shape.\u001b[0m\u001b[0;34m\u001b[0m\u001b[0;34m\u001b[0m\u001b[0m\n",
            "\u001b[0;32m/usr/local/lib/python3.6/dist-packages/tensorflow/python/keras/layers/core.py\u001b[0m in \u001b[0;36mbuild\u001b[0;34m(self, input_shape)\u001b[0m\n\u001b[1;32m    889\u001b[0m                                     \u001b[0mconstraint\u001b[0m\u001b[0;34m=\u001b[0m\u001b[0mself\u001b[0m\u001b[0;34m.\u001b[0m\u001b[0mkernel_constraint\u001b[0m\u001b[0;34m,\u001b[0m\u001b[0;34m\u001b[0m\u001b[0m\n\u001b[1;32m    890\u001b[0m                                     \u001b[0mdtype\u001b[0m\u001b[0;34m=\u001b[0m\u001b[0mself\u001b[0m\u001b[0;34m.\u001b[0m\u001b[0mdtype\u001b[0m\u001b[0;34m,\u001b[0m\u001b[0;34m\u001b[0m\u001b[0m\n\u001b[0;32m--> 891\u001b[0;31m                                     trainable=True)\n\u001b[0m\u001b[1;32m    892\u001b[0m     \u001b[0;32mif\u001b[0m \u001b[0mself\u001b[0m\u001b[0;34m.\u001b[0m\u001b[0muse_bias\u001b[0m\u001b[0;34m:\u001b[0m\u001b[0;34m\u001b[0m\u001b[0m\n\u001b[1;32m    893\u001b[0m       self.bias = self.add_variable('bias',\n",
            "\u001b[0;32m/usr/local/lib/python3.6/dist-packages/tensorflow/python/keras/engine/base_layer.py\u001b[0m in \u001b[0;36madd_variable\u001b[0;34m(self, *args, **kwargs)\u001b[0m\n\u001b[1;32m    458\u001b[0m   \u001b[0;32mdef\u001b[0m \u001b[0madd_variable\u001b[0m\u001b[0;34m(\u001b[0m\u001b[0mself\u001b[0m\u001b[0;34m,\u001b[0m \u001b[0;34m*\u001b[0m\u001b[0margs\u001b[0m\u001b[0;34m,\u001b[0m \u001b[0;34m**\u001b[0m\u001b[0mkwargs\u001b[0m\u001b[0;34m)\u001b[0m\u001b[0;34m:\u001b[0m\u001b[0;34m\u001b[0m\u001b[0m\n\u001b[1;32m    459\u001b[0m     \u001b[0;34m\"\"\"Alias for `add_weight`.\"\"\"\u001b[0m\u001b[0;34m\u001b[0m\u001b[0m\n\u001b[0;32m--> 460\u001b[0;31m     \u001b[0;32mreturn\u001b[0m \u001b[0mself\u001b[0m\u001b[0;34m.\u001b[0m\u001b[0madd_weight\u001b[0m\u001b[0;34m(\u001b[0m\u001b[0;34m*\u001b[0m\u001b[0margs\u001b[0m\u001b[0;34m,\u001b[0m \u001b[0;34m**\u001b[0m\u001b[0mkwargs\u001b[0m\u001b[0;34m)\u001b[0m\u001b[0;34m\u001b[0m\u001b[0m\n\u001b[0m\u001b[1;32m    461\u001b[0m \u001b[0;34m\u001b[0m\u001b[0m\n\u001b[1;32m    462\u001b[0m   def add_weight(self, name, shape,\n",
            "\u001b[0;32m/usr/local/lib/python3.6/dist-packages/tensorflow/python/layers/base.py\u001b[0m in \u001b[0;36madd_weight\u001b[0;34m(self, name, shape, dtype, initializer, regularizer, trainable, constraint, use_resource, partitioner)\u001b[0m\n\u001b[1;32m    241\u001b[0m             \u001b[0mpartitioner\u001b[0m\u001b[0;34m=\u001b[0m\u001b[0mpartitioner\u001b[0m\u001b[0;34m,\u001b[0m\u001b[0;34m\u001b[0m\u001b[0m\n\u001b[1;32m    242\u001b[0m             \u001b[0muse_resource\u001b[0m\u001b[0;34m=\u001b[0m\u001b[0muse_resource\u001b[0m\u001b[0;34m,\u001b[0m\u001b[0;34m\u001b[0m\u001b[0m\n\u001b[0;32m--> 243\u001b[0;31m             getter=vs.get_variable)\n\u001b[0m\u001b[1;32m    244\u001b[0m \u001b[0;34m\u001b[0m\u001b[0m\n\u001b[1;32m    245\u001b[0m         \u001b[0;32mif\u001b[0m \u001b[0mregularizer\u001b[0m\u001b[0;34m:\u001b[0m\u001b[0;34m\u001b[0m\u001b[0m\n",
            "\u001b[0;32m/usr/local/lib/python3.6/dist-packages/tensorflow/python/keras/engine/base_layer.py\u001b[0m in \u001b[0;36madd_weight\u001b[0;34m(self, name, shape, dtype, initializer, regularizer, trainable, constraint, partitioner, use_resource, getter)\u001b[0m\n\u001b[1;32m    532\u001b[0m         \u001b[0mtrainable\u001b[0m\u001b[0;34m=\u001b[0m\u001b[0mtrainable\u001b[0m \u001b[0;32mand\u001b[0m \u001b[0mself\u001b[0m\u001b[0;34m.\u001b[0m\u001b[0mtrainable\u001b[0m\u001b[0;34m,\u001b[0m\u001b[0;34m\u001b[0m\u001b[0m\n\u001b[1;32m    533\u001b[0m         \u001b[0mpartitioner\u001b[0m\u001b[0;34m=\u001b[0m\u001b[0mpartitioner\u001b[0m\u001b[0;34m,\u001b[0m\u001b[0;34m\u001b[0m\u001b[0m\n\u001b[0;32m--> 534\u001b[0;31m         use_resource=use_resource)\n\u001b[0m\u001b[1;32m    535\u001b[0m \u001b[0;34m\u001b[0m\u001b[0m\n\u001b[1;32m    536\u001b[0m     \u001b[0;32mif\u001b[0m \u001b[0mregularizer\u001b[0m \u001b[0;32mis\u001b[0m \u001b[0;32mnot\u001b[0m \u001b[0;32mNone\u001b[0m\u001b[0;34m:\u001b[0m\u001b[0;34m\u001b[0m\u001b[0m\n",
            "\u001b[0;32m/usr/local/lib/python3.6/dist-packages/tensorflow/python/training/checkpointable/base.py\u001b[0m in \u001b[0;36m_add_variable_with_custom_getter\u001b[0;34m(self, name, shape, dtype, initializer, getter, overwrite, **kwargs_for_getter)\u001b[0m\n\u001b[1;32m    495\u001b[0m     new_variable = getter(\n\u001b[1;32m    496\u001b[0m         \u001b[0mname\u001b[0m\u001b[0;34m=\u001b[0m\u001b[0mname\u001b[0m\u001b[0;34m,\u001b[0m \u001b[0mshape\u001b[0m\u001b[0;34m=\u001b[0m\u001b[0mshape\u001b[0m\u001b[0;34m,\u001b[0m \u001b[0mdtype\u001b[0m\u001b[0;34m=\u001b[0m\u001b[0mdtype\u001b[0m\u001b[0;34m,\u001b[0m \u001b[0minitializer\u001b[0m\u001b[0;34m=\u001b[0m\u001b[0minitializer\u001b[0m\u001b[0;34m,\u001b[0m\u001b[0;34m\u001b[0m\u001b[0m\n\u001b[0;32m--> 497\u001b[0;31m         **kwargs_for_getter)\n\u001b[0m\u001b[1;32m    498\u001b[0m \u001b[0;34m\u001b[0m\u001b[0m\n\u001b[1;32m    499\u001b[0m     \u001b[0;31m# If we set an initializer and the variable processed it, tracking will not\u001b[0m\u001b[0;34m\u001b[0m\u001b[0;34m\u001b[0m\u001b[0m\n",
            "\u001b[0;32m/usr/local/lib/python3.6/dist-packages/tensorflow/python/ops/variable_scope.py\u001b[0m in \u001b[0;36mget_variable\u001b[0;34m(name, shape, dtype, initializer, regularizer, trainable, collections, caching_device, partitioner, validate_shape, use_resource, custom_getter, constraint)\u001b[0m\n\u001b[1;32m   1326\u001b[0m       \u001b[0mpartitioner\u001b[0m\u001b[0;34m=\u001b[0m\u001b[0mpartitioner\u001b[0m\u001b[0;34m,\u001b[0m \u001b[0mvalidate_shape\u001b[0m\u001b[0;34m=\u001b[0m\u001b[0mvalidate_shape\u001b[0m\u001b[0;34m,\u001b[0m\u001b[0;34m\u001b[0m\u001b[0m\n\u001b[1;32m   1327\u001b[0m       \u001b[0muse_resource\u001b[0m\u001b[0;34m=\u001b[0m\u001b[0muse_resource\u001b[0m\u001b[0;34m,\u001b[0m \u001b[0mcustom_getter\u001b[0m\u001b[0;34m=\u001b[0m\u001b[0mcustom_getter\u001b[0m\u001b[0;34m,\u001b[0m\u001b[0;34m\u001b[0m\u001b[0m\n\u001b[0;32m-> 1328\u001b[0;31m       constraint=constraint)\n\u001b[0m\u001b[1;32m   1329\u001b[0m get_variable_or_local_docstring = (\n\u001b[1;32m   1330\u001b[0m     \"\"\"%s\n",
            "\u001b[0;32m/usr/local/lib/python3.6/dist-packages/tensorflow/python/ops/variable_scope.py\u001b[0m in \u001b[0;36mget_variable\u001b[0;34m(self, var_store, name, shape, dtype, initializer, regularizer, reuse, trainable, collections, caching_device, partitioner, validate_shape, use_resource, custom_getter, constraint)\u001b[0m\n\u001b[1;32m   1088\u001b[0m           \u001b[0mpartitioner\u001b[0m\u001b[0;34m=\u001b[0m\u001b[0mpartitioner\u001b[0m\u001b[0;34m,\u001b[0m \u001b[0mvalidate_shape\u001b[0m\u001b[0;34m=\u001b[0m\u001b[0mvalidate_shape\u001b[0m\u001b[0;34m,\u001b[0m\u001b[0;34m\u001b[0m\u001b[0m\n\u001b[1;32m   1089\u001b[0m           \u001b[0muse_resource\u001b[0m\u001b[0;34m=\u001b[0m\u001b[0muse_resource\u001b[0m\u001b[0;34m,\u001b[0m \u001b[0mcustom_getter\u001b[0m\u001b[0;34m=\u001b[0m\u001b[0mcustom_getter\u001b[0m\u001b[0;34m,\u001b[0m\u001b[0;34m\u001b[0m\u001b[0m\n\u001b[0;32m-> 1090\u001b[0;31m           constraint=constraint)\n\u001b[0m\u001b[1;32m   1091\u001b[0m \u001b[0;34m\u001b[0m\u001b[0m\n\u001b[1;32m   1092\u001b[0m   def _get_partitioned_variable(self,\n",
            "\u001b[0;32m/usr/local/lib/python3.6/dist-packages/tensorflow/python/ops/variable_scope.py\u001b[0m in \u001b[0;36mget_variable\u001b[0;34m(self, name, shape, dtype, initializer, regularizer, reuse, trainable, collections, caching_device, partitioner, validate_shape, use_resource, custom_getter, constraint)\u001b[0m\n\u001b[1;32m    433\u001b[0m           \u001b[0mcaching_device\u001b[0m\u001b[0;34m=\u001b[0m\u001b[0mcaching_device\u001b[0m\u001b[0;34m,\u001b[0m \u001b[0mpartitioner\u001b[0m\u001b[0;34m=\u001b[0m\u001b[0mpartitioner\u001b[0m\u001b[0;34m,\u001b[0m\u001b[0;34m\u001b[0m\u001b[0m\n\u001b[1;32m    434\u001b[0m           \u001b[0mvalidate_shape\u001b[0m\u001b[0;34m=\u001b[0m\u001b[0mvalidate_shape\u001b[0m\u001b[0;34m,\u001b[0m \u001b[0muse_resource\u001b[0m\u001b[0;34m=\u001b[0m\u001b[0muse_resource\u001b[0m\u001b[0;34m,\u001b[0m\u001b[0;34m\u001b[0m\u001b[0m\n\u001b[0;32m--> 435\u001b[0;31m           constraint=constraint)\n\u001b[0m\u001b[1;32m    436\u001b[0m \u001b[0;34m\u001b[0m\u001b[0m\n\u001b[1;32m    437\u001b[0m   def _get_partitioned_variable(\n",
            "\u001b[0;32m/usr/local/lib/python3.6/dist-packages/tensorflow/python/ops/variable_scope.py\u001b[0m in \u001b[0;36m_true_getter\u001b[0;34m(name, shape, dtype, initializer, regularizer, reuse, trainable, collections, caching_device, partitioner, validate_shape, use_resource, constraint)\u001b[0m\n\u001b[1;32m    402\u001b[0m           \u001b[0mtrainable\u001b[0m\u001b[0;34m=\u001b[0m\u001b[0mtrainable\u001b[0m\u001b[0;34m,\u001b[0m \u001b[0mcollections\u001b[0m\u001b[0;34m=\u001b[0m\u001b[0mcollections\u001b[0m\u001b[0;34m,\u001b[0m\u001b[0;34m\u001b[0m\u001b[0m\n\u001b[1;32m    403\u001b[0m           \u001b[0mcaching_device\u001b[0m\u001b[0;34m=\u001b[0m\u001b[0mcaching_device\u001b[0m\u001b[0;34m,\u001b[0m \u001b[0mvalidate_shape\u001b[0m\u001b[0;34m=\u001b[0m\u001b[0mvalidate_shape\u001b[0m\u001b[0;34m,\u001b[0m\u001b[0;34m\u001b[0m\u001b[0m\n\u001b[0;32m--> 404\u001b[0;31m           use_resource=use_resource, constraint=constraint)\n\u001b[0m\u001b[1;32m    405\u001b[0m \u001b[0;34m\u001b[0m\u001b[0m\n\u001b[1;32m    406\u001b[0m     \u001b[0;32mif\u001b[0m \u001b[0mcustom_getter\u001b[0m \u001b[0;32mis\u001b[0m \u001b[0;32mnot\u001b[0m \u001b[0;32mNone\u001b[0m\u001b[0;34m:\u001b[0m\u001b[0;34m\u001b[0m\u001b[0m\n",
            "\u001b[0;32m/usr/local/lib/python3.6/dist-packages/tensorflow/python/ops/variable_scope.py\u001b[0m in \u001b[0;36m_get_single_variable\u001b[0;34m(self, name, shape, dtype, initializer, regularizer, partition_info, reuse, trainable, collections, caching_device, validate_shape, use_resource, constraint)\u001b[0m\n\u001b[1;32m    759\u001b[0m       raise ValueError(\"Variable %s does not exist, or was not created with \"\n\u001b[1;32m    760\u001b[0m                        \u001b[0;34m\"tf.get_variable(). Did you mean to set \"\u001b[0m\u001b[0;34m\u001b[0m\u001b[0m\n\u001b[0;32m--> 761\u001b[0;31m                        \"reuse=tf.AUTO_REUSE in VarScope?\" % name)\n\u001b[0m\u001b[1;32m    762\u001b[0m     \u001b[0;32mif\u001b[0m \u001b[0;32mnot\u001b[0m \u001b[0mshape\u001b[0m\u001b[0;34m.\u001b[0m\u001b[0mis_fully_defined\u001b[0m\u001b[0;34m(\u001b[0m\u001b[0;34m)\u001b[0m \u001b[0;32mand\u001b[0m \u001b[0;32mnot\u001b[0m \u001b[0minitializing_from_value\u001b[0m\u001b[0;34m:\u001b[0m\u001b[0;34m\u001b[0m\u001b[0m\n\u001b[1;32m    763\u001b[0m       raise ValueError(\"Shape of a new variable (%s) must be fully defined, \"\n",
            "\u001b[0;31mValueError\u001b[0m: Variable decoding/memory_layer_1/kernel does not exist, or was not created with tf.get_variable(). Did you mean to set reuse=tf.AUTO_REUSE in VarScope?"
          ]
        }
      ]
    },
    {
      "metadata": {
        "id": "uTMTb_-PWbmy",
        "colab_type": "text"
      },
      "cell_type": "markdown",
      "source": [
        ""
      ]
    },
    {
      "metadata": {
        "id": "Zd-FT3VW31Su",
        "colab_type": "code",
        "colab": {
          "base_uri": "https://localhost:8080/",
          "height": 238
        },
        "outputId": "9445399c-f65e-45a2-abcc-cb19c61302c6"
      },
      "cell_type": "code",
      "source": [
        "with tf.name_scope(\"optimization\"):\n",
        "  loss_error = tf.contrib.seq2seq.sequence_loss(training_predictions,\n",
        "                                               targets,\n",
        "                                               tf.ones([input_shape[0], sequence_length]))\n",
        "  #Adam optimizer object\n",
        "  optimizer = tf.train.AdamOptimizer(learning_rate)\n",
        "  gradients = optimizer.compute_gradients(loss_error)\n",
        "  # clip the gradients\n",
        "  clipped_gradients = [(tf.clip_by_value(grad_tensor, -5., 5.), grad_variable) for grad_tensor, grad_variable in gradients if grad_tensor is not None]\n",
        "  optimizer_gradient_clipping = optimizer.apply_gradients(clipped_gradients)"
      ],
      "execution_count": 71,
      "outputs": [
        {
          "output_type": "error",
          "ename": "NameError",
          "evalue": "ignored",
          "traceback": [
            "\u001b[0;31m---------------------------------------------------------------------------\u001b[0m",
            "\u001b[0;31mNameError\u001b[0m                                 Traceback (most recent call last)",
            "\u001b[0;32m<ipython-input-71-3f324d7454b0>\u001b[0m in \u001b[0;36m<module>\u001b[0;34m()\u001b[0m\n\u001b[1;32m      1\u001b[0m \u001b[0;32mwith\u001b[0m \u001b[0mtf\u001b[0m\u001b[0;34m.\u001b[0m\u001b[0mname_scope\u001b[0m\u001b[0;34m(\u001b[0m\u001b[0;34m\"optimization\"\u001b[0m\u001b[0;34m)\u001b[0m\u001b[0;34m:\u001b[0m\u001b[0;34m\u001b[0m\u001b[0m\n\u001b[0;32m----> 2\u001b[0;31m   loss_error = tf.contrib.seq2seq.sequence_loss(training_predictions,\n\u001b[0m\u001b[1;32m      3\u001b[0m                                                \u001b[0mtargets\u001b[0m\u001b[0;34m,\u001b[0m\u001b[0;34m\u001b[0m\u001b[0m\n\u001b[1;32m      4\u001b[0m                                                tf.ones([input_shape[0], sequence_length]))\n\u001b[1;32m      5\u001b[0m   \u001b[0;31m#Adam optimizer object\u001b[0m\u001b[0;34m\u001b[0m\u001b[0;34m\u001b[0m\u001b[0m\n",
            "\u001b[0;31mNameError\u001b[0m: name 'training_predictions' is not defined"
          ]
        }
      ]
    },
    {
      "metadata": {
        "id": "ckHWyDJgqhdm",
        "colab_type": "code",
        "colab": {}
      },
      "cell_type": "code",
      "source": [
        "# Apply padding to the sequences so the question and answer sequences are the same\n",
        "\n",
        "def apply_padding(batch_of_sequences, word2int):\n",
        "  max_sequence_length = max([len(sequence) for sequence in batch_of_sequences])\n",
        "  return [sequence + [word2int['<PAD>']] * (max_sequence_length - len(sequence)) for sequence in batch_of_sequences]\n",
        "\n",
        "                                            "
      ],
      "execution_count": 0,
      "outputs": []
    },
    {
      "metadata": {
        "id": "sxVs-CJgYLCO",
        "colab_type": "code",
        "colab": {}
      },
      "cell_type": "code",
      "source": [
        "# Generator to split data itno batches for batch gradient descent                                            \n",
        "def split_into_batches(questions, answers, batch_size):\n",
        "  for batch_index in range(0,len(questions) // batch_size):\n",
        "      start_index = batch_index * batch_size\n",
        "                                            \n",
        "      questions_in_batch = questions[start_index : start_index + batch_size]\n",
        "      answers_in_batch = answers[start_index : start_index + batch_size]\n",
        "                                            \n",
        "      padded_questions_in_batch = np.array(apply_padding(questions_in_batch, questionswords2int))\n",
        "      padded_answers_in_batch = np.array(apply_padding(answers_in_batch, answerswords2int))\n",
        "      \n",
        "      yield padded_questions_in_batch, padded_answers_in_batch"
      ],
      "execution_count": 0,
      "outputs": []
    },
    {
      "metadata": {
        "id": "tZhqWF4lZMZm",
        "colab_type": "code",
        "colab": {}
      },
      "cell_type": "code",
      "source": [
        "# Split data into training and validation sets\n",
        "# needs more sophistication later.\n",
        "# scq/sca mean sorted clean questions / answers from the preprocessign step.\n",
        "\n",
        "training_validation_split = int(len(scq) * 0.2)\n",
        "\n",
        "train_Q = scq[training_validation_split:]\n",
        "train_A = sca[training_validation_split:]\n",
        "\n",
        "val_Q = scq[:training_validation_split]\n",
        "val_A = sca[:training_validation_split]\n",
        "\n",
        "\n"
      ],
      "execution_count": 0,
      "outputs": []
    },
    {
      "metadata": {
        "id": "-isTNvugZwNn",
        "colab_type": "code",
        "colab": {}
      },
      "cell_type": "code",
      "source": [
        "#TRAINING STEPS\n",
        "\n",
        "batch_index_check_training_loss = 100\n",
        "batch_index_check_validation_loss = ((len(train_Q)) // batch_size // 2) - 1\n",
        "total_training_loss_error = 0\n",
        "list_validation_loss_error = []\n",
        "early_stopping_check = 0\n",
        "early_stopping_stop = 1000\n",
        "\n",
        "checkpoint = \"./chatbot_weights.ckpt\""
      ],
      "execution_count": 0,
      "outputs": []
    },
    {
      "metadata": {
        "id": "k2tGEeYZaqvj",
        "colab_type": "text"
      },
      "cell_type": "markdown",
      "source": [
        ""
      ]
    },
    {
      "metadata": {
        "id": "qd1F9Y_sa4um",
        "colab_type": "code",
        "colab": {}
      },
      "cell_type": "code",
      "source": [
        "session.run(tf.global_variables_initializer())"
      ],
      "execution_count": 0,
      "outputs": []
    },
    {
      "metadata": {
        "id": "46uXW3lxfzJ5",
        "colab_type": "code",
        "colab": {}
      },
      "cell_type": "code",
      "source": [
        ""
      ],
      "execution_count": 0,
      "outputs": []
    },
    {
      "metadata": {
        "id": "uvVeiEyca5D1",
        "colab_type": "code",
        "colab": {
          "base_uri": "https://localhost:8080/",
          "height": 238
        },
        "outputId": "43999038-04a5-463e-9784-851b18e86375"
      },
      "cell_type": "code",
      "source": [
        "for epoch in range(1, epochs +1):\n",
        "  for batch_index, (padded_questions_in_batch, \n",
        "                    padded_answers_in_batch) in enumerate (split_into_batches(train_Q, \n",
        "                                                                              train_A, batch_size)):\n",
        "    starting_time = time.time()\n",
        "    \n",
        "    # run the current epoch using the parameters thus far\n",
        "    _, batch_training_loss_error = session.run([optimizer_gradient_clipping, loss_error],\n",
        "                                              {inputs: padded_questions_in_batch,\n",
        "                                              targets: padded_answers_in_batch,\n",
        "                                              lr: learning_rate,\n",
        "                                              sequence-length: padded_answers_in_batch.shape[1],\n",
        "                                              keep_prob: keep_probability})\n",
        "    \n",
        "    # add the existing batch loss to the totall loss\n",
        "    total_training_loss_erroor += batch_training_loss_error\n",
        "    \n",
        "    # calculate epoch run time\n",
        "    ending_time = time.time()\n",
        "    batch_time = ending_time - starting_time\n",
        "    \n",
        "    if batch_index % batch_index_check_training_loss == 0:\n",
        "      print('Epoch: {:>3}/{}, Batch: {:>4}/{}, ' + \n",
        "            'Training Loss Error: {:>6.3f}, ' + \n",
        "            'Training Time on 100 Batches: {:d} seconds'.format(epoch, epochs,\n",
        "                                                                batch_index, len(train_Q),\n",
        "                                                                total_training_loss_error / batch_index_check_training_loss,\n",
        "                                                                int(batch_time * batch_index_check_training_loss)))\n",
        "                                                                                                                                 \n",
        "      total_training_loss_error = 0                                                                                                  \n",
        "    \n",
        "    "
      ],
      "execution_count": 70,
      "outputs": [
        {
          "output_type": "error",
          "ename": "NameError",
          "evalue": "ignored",
          "traceback": [
            "\u001b[0;31m---------------------------------------------------------------------------\u001b[0m",
            "\u001b[0;31mNameError\u001b[0m                                 Traceback (most recent call last)",
            "\u001b[0;32m<ipython-input-70-57d6f1b80f04>\u001b[0m in \u001b[0;36m<module>\u001b[0;34m()\u001b[0m\n\u001b[1;32m      6\u001b[0m \u001b[0;34m\u001b[0m\u001b[0m\n\u001b[1;32m      7\u001b[0m     \u001b[0;31m# run the current epoch using the parameters thus far\u001b[0m\u001b[0;34m\u001b[0m\u001b[0;34m\u001b[0m\u001b[0m\n\u001b[0;32m----> 8\u001b[0;31m     _, batch_training_loss_error = session.run([optimizer_gradient_clipping, loss_error],\n\u001b[0m\u001b[1;32m      9\u001b[0m                                               {inputs: padded_questions_in_batch,\n\u001b[1;32m     10\u001b[0m                                               \u001b[0mtargets\u001b[0m\u001b[0;34m:\u001b[0m \u001b[0mpadded_answers_in_batch\u001b[0m\u001b[0;34m,\u001b[0m\u001b[0;34m\u001b[0m\u001b[0m\n",
            "\u001b[0;31mNameError\u001b[0m: name 'optimizer_gradient_clipping' is not defined"
          ]
        }
      ]
    },
    {
      "metadata": {
        "id": "fEb2EC8pbQuF",
        "colab_type": "code",
        "colab": {}
      },
      "cell_type": "code",
      "source": [
        ""
      ],
      "execution_count": 0,
      "outputs": []
    }
  ]
}