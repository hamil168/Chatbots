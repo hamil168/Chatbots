{
  "nbformat": 4,
  "nbformat_minor": 0,
  "metadata": {
    "colab": {
      "name": "Seq2Seq.ipynb",
      "version": "0.3.2",
      "provenance": [],
      "collapsed_sections": [],
      "include_colab_link": true
    },
    "kernelspec": {
      "name": "python3",
      "display_name": "Python 3"
    },
    "accelerator": "GPU"
  },
  "cells": [
    {
      "cell_type": "markdown",
      "metadata": {
        "id": "view-in-github",
        "colab_type": "text"
      },
      "source": [
        "[View in Colaboratory](https://colab.research.google.com/github/hamil168/Chatbots/blob/master/Seq2Seq.ipynb)"
      ]
    },
    {
      "metadata": {
        "id": "n4oyS5PcJBxu",
        "colab_type": "code",
        "colab": {
          "base_uri": "https://localhost:8080/",
          "height": 119
        },
        "outputId": "97073f56-e050-470f-f78f-d6b1a3b19d71"
      },
      "cell_type": "code",
      "source": [
        "# For a fresh Colab instance, clone fresh:\n",
        "!pip install -q xlrd\n",
        "!git clone https://github.com/hamil168/Chatbots"
      ],
      "execution_count": 0,
      "outputs": [
        {
          "output_type": "stream",
          "text": [
            "Cloning into 'Chatbots'...\n",
            "remote: Counting objects: 114, done.\u001b[K\n",
            "remote: Compressing objects: 100% (101/101), done.\u001b[K\n",
            "remote: Total 114 (delta 62), reused 35 (delta 12), pack-reused 0\u001b[K\n",
            "Receiving objects: 100% (114/114), 9.53 MiB | 13.35 MiB/s, done.\n",
            "Resolving deltas: 100% (62/62), done.\n"
          ],
          "name": "stdout"
        }
      ]
    },
    {
      "metadata": {
        "id": "Jw1qRtMF32Ke",
        "colab_type": "text"
      },
      "cell_type": "markdown",
      "source": [
        ""
      ]
    },
    {
      "metadata": {
        "id": "nGvvfIY0JCyk",
        "colab_type": "code",
        "colab": {
          "base_uri": "https://localhost:8080/",
          "height": 34
        },
        "outputId": "de2bf71b-fe0b-4827-9365-296a902ecd55"
      },
      "cell_type": "code",
      "source": [
        "# Change to Colab directory:\n",
        "cd Chatbots/"
      ],
      "execution_count": 1,
      "outputs": [
        {
          "output_type": "stream",
          "text": [
            "/content/Chatbots\n"
          ],
          "name": "stdout"
        }
      ]
    },
    {
      "metadata": {
        "id": "D7PTpdU00-eR",
        "colab_type": "code",
        "colab": {
          "base_uri": "https://localhost:8080/",
          "height": 68
        },
        "outputId": "4e83616c-0b52-46de-bc56-1ef7effd234a"
      },
      "cell_type": "code",
      "source": [
        "# For an existing Colab instance, pull from master, uncomment this:\n",
        "\n",
        "!git pull https://github.com/hamil168/Chatbots master"
      ],
      "execution_count": 2,
      "outputs": [
        {
          "output_type": "stream",
          "text": [
            "From https://github.com/hamil168/Chatbots\r\n",
            " * branch            master     -> FETCH_HEAD\n",
            "Already up-to-date.\n"
          ],
          "name": "stdout"
        }
      ]
    },
    {
      "metadata": {
        "id": "oWBAHK8kWX26",
        "colab_type": "code",
        "colab": {
          "base_uri": "https://localhost:8080/",
          "height": 68
        },
        "outputId": "fa9a90c7-5b0e-4748-abc5-f9a03a387a3c"
      },
      "cell_type": "code",
      "source": [
        "# Files as they appear in the repo clone\n",
        "ls\n"
      ],
      "execution_count": 3,
      "outputs": [
        {
          "output_type": "stream",
          "text": [
            "Cornell Movie Script Database EDA.ipynb  Preproc.ipynb  README.md\r\n",
            "movie_conversations.txt                  preproc.py     Seq2Seq.ipynb\r\n",
            "movie_lines.txt                          \u001b[0m\u001b[01;34m__pycache__\u001b[0m/\r\n"
          ],
          "name": "stdout"
        }
      ]
    },
    {
      "metadata": {
        "id": "IFaioRdhLyFI",
        "colab_type": "code",
        "colab": {
          "base_uri": "https://localhost:8080/",
          "height": 34
        },
        "outputId": "84a0d033-97d4-4290-980a-cc78dfe63b9e"
      },
      "cell_type": "code",
      "source": [
        "!pip install tqdm"
      ],
      "execution_count": 4,
      "outputs": [
        {
          "output_type": "stream",
          "text": [
            "Requirement already satisfied: tqdm in /usr/local/lib/python3.6/dist-packages (4.24.0)\r\n"
          ],
          "name": "stdout"
        }
      ]
    },
    {
      "metadata": {
        "id": "86Muxioq5zlF",
        "colab_type": "code",
        "colab": {}
      },
      "cell_type": "code",
      "source": [
        "import numpy as np\n",
        "import tensorflow as tf\n",
        "import time\n",
        "import re\n",
        "from tensorflow.python.layers.core import Dense\n",
        "from tqdm import tqdm\n",
        "\n",
        "global graph1, model\n",
        "\n",
        "graph1 = tf.get_default_graph()"
      ],
      "execution_count": 0,
      "outputs": []
    },
    {
      "metadata": {
        "id": "nvAgspuguXRa",
        "colab_type": "code",
        "colab": {}
      },
      "cell_type": "code",
      "source": [
        "#!python preproc.py\n",
        "from preproc import *"
      ],
      "execution_count": 0,
      "outputs": []
    },
    {
      "metadata": {
        "id": "i3IZHUqE1hXD",
        "colab_type": "code",
        "colab": {}
      },
      "cell_type": "code",
      "source": [
        "lines = open('movie_lines.txt', encoding = 'utf-8', errors = 'ignore').read().split('\\n')\n",
        "conversations = open('movie_conversations.txt', encoding = 'utf-8', errors = 'ignore').read().split('\\n')"
      ],
      "execution_count": 0,
      "outputs": []
    },
    {
      "metadata": {
        "id": "Mq2OEcQEZMU3",
        "colab_type": "code",
        "colab": {}
      },
      "cell_type": "code",
      "source": [
        "id2l, cid, questions, answers, clean_questions, clean_answers, word2count, sorted_clean_questions, sorted_clean_answers = preproc_steps(lines,conversations)\n",
        "\n",
        "questionswords2int, answerswords2int = map_questions_and_answers_to_integers(word2count)"
      ],
      "execution_count": 0,
      "outputs": []
    },
    {
      "metadata": {
        "id": "76YSZQggcUGp",
        "colab_type": "code",
        "colab": {
          "base_uri": "https://localhost:8080/",
          "height": 102
        },
        "outputId": "1fa07d6e-57a5-4230-ead7-6469029b8301"
      },
      "cell_type": "code",
      "source": [
        "conversations[0:5]"
      ],
      "execution_count": 33,
      "outputs": [
        {
          "output_type": "execute_result",
          "data": {
            "text/plain": [
              "[\"u0 +++$+++ u2 +++$+++ m0 +++$+++ ['L194', 'L195', 'L196', 'L197']\",\n",
              " \"u0 +++$+++ u2 +++$+++ m0 +++$+++ ['L198', 'L199']\",\n",
              " \"u0 +++$+++ u2 +++$+++ m0 +++$+++ ['L200', 'L201', 'L202', 'L203']\",\n",
              " \"u0 +++$+++ u2 +++$+++ m0 +++$+++ ['L204', 'L205', 'L206']\",\n",
              " \"u0 +++$+++ u2 +++$+++ m0 +++$+++ ['L207', 'L208']\"]"
            ]
          },
          "metadata": {
            "tags": []
          },
          "execution_count": 33
        }
      ]
    },
    {
      "metadata": {
        "id": "wB9CHeplaNlf",
        "colab_type": "code",
        "colab": {
          "base_uri": "https://localhost:8080/",
          "height": 85
        },
        "outputId": "767ede4b-ee97-4b5e-ed32-ca7b078c82cc"
      },
      "cell_type": "code",
      "source": [
        "get_conversations_ids(conversations[0:5])"
      ],
      "execution_count": 10,
      "outputs": [
        {
          "output_type": "execute_result",
          "data": {
            "text/plain": [
              "[['L194', 'L195', 'L196', 'L197'],\n",
              " ['L198', 'L199'],\n",
              " ['L200', 'L201', 'L202', 'L203'],\n",
              " ['L204', 'L205', 'L206']]"
            ]
          },
          "metadata": {
            "tags": []
          },
          "execution_count": 10
        }
      ]
    },
    {
      "metadata": {
        "id": "JHKO_vKW7sCL",
        "colab_type": "code",
        "colab": {
          "base_uri": "https://localhost:8080/",
          "height": 88
        },
        "outputId": "e6878b16-f425-4f30-e14b-2f5e48107a5d"
      },
      "cell_type": "code",
      "source": [
        "print(questions[0:3])\n",
        "print(clean_questions[0:3])\n",
        "print(sorted_clean_questions[0:3])"
      ],
      "execution_count": 11,
      "outputs": [
        {
          "output_type": "stream",
          "text": [
            "['Can we make this quick?  Roxanne Korrine and Andrew Barrett are having an incredibly horrendous public break- up on the quad.  Again.', \"Well, I thought we'd start with pronunciation, if that's okay with you.\", 'Not the hacking and gagging and spitting part.  Please.']\n",
            "['can we make this quick  roxanne korrine and andrew barrett are having an incredibly horrendous public break up on the quad  again', 'well i thought we would start with pronunciation if that is okay with you', 'not the hacking and gagging and spitting part  please']\n",
            "[[48], [63], [124]]\n"
          ],
          "name": "stdout"
        }
      ]
    },
    {
      "metadata": {
        "id": "28kMPJR05Y8m",
        "colab_type": "code",
        "colab": {}
      },
      "cell_type": "code",
      "source": [
        "# Create placeholder for inputs and the targets\n",
        "# in TF, all variables are tensors\n",
        "# need to go from NP --> TF tensors\n",
        "# need placeholders for every TF variables inputs and targets\n",
        "\n",
        "def model_inputs():\n",
        "  #inputs and targets are 2D matrices\n",
        "  inputs = tf.placeholder(tf.int32, [None, None], name = 'inputs') \n",
        "  targets = tf.placeholder(tf.int32, [None, None], name = 'targets')\n",
        "  keep_prob = tf.placeholder(tf.float32, name = 'dropout_rate') #dropout\n",
        "  \n",
        "  #lr = tf.placeholder(tf.float32, name = 'learning_rate')\n",
        "  \n",
        "  encoder_sequence_length = tf.placeholder(tf.int32, (None, ), name='encoder_sequence_length')\n",
        "  decoder_sequence_length = tf.placeholder(tf.int32, (None, ), name='decoder_sequence_length')\n",
        "  max_sequence_length = tf.reduce_max(decoder_sequence_length, name='max_sequence_length')\n",
        "  \n",
        "  return inputs, targets, keep_prob, encoder_sequence_length, decoder_sequence_length, max_sequence_length"
      ],
      "execution_count": 0,
      "outputs": []
    },
    {
      "metadata": {
        "id": "vcPkYl7184NK",
        "colab_type": "code",
        "colab": {}
      },
      "cell_type": "code",
      "source": [
        "# Create encoder RNN layer\n",
        "def encoder_rnn(rnn_inputs, rnn_size, num_layers, \n",
        "                encoder_sequence_length, keep_prob, encoder_embedding_size, encoder_word_count):\n",
        "  \n",
        "  \n",
        "  # LSTM cell class\n",
        "  # rnn_size: number of input tensors\n",
        "  # sequence_length: length of each question in the atch\n",
        "  \n",
        "  \n",
        "  def cell(units, rate):\n",
        "    layer = tf.contrib.rnn.BasicLSTMCell(units)\n",
        "    return tf.contrib.rnn.DropoutWrapper(layer, rate)\n",
        "\n",
        "  encoder_cell_fw = tf.contrib.rnn.MultiRNNCell([cell(rnn_size, keep_prob) for _ in range(num_layers)])\n",
        "  #encoder_cell_bw = tf.contrib.rnn.MultiRNNCell([cell(rnn_size, keep_prob) for _ in range(num_layers)])\n",
        "\n",
        "  encoder_embeddings = tf.contrib.layers.embed_sequence(rnn_inputs, encoder_word_count, encoder_embedding_size)\n",
        "  \n",
        "  # bidirection rnn function (creates dynamic bidirectional network)\n",
        "  # builds independent forward and backward rnn\n",
        "  # need ot make sure the ends match\n",
        "  # (first element is encoder_output)\n",
        "  #encoder_outputs, encoder_states = tf.nn.bidirectional_dynamic_rnn(encoder_cell_fw,\n",
        "  encoder_outputs, encoder_states = tf.nn.dynamic_rnn(encoder_cell_fw,                                                                    \n",
        "                                                   #cell_bw = encoder_cell_bw,\n",
        "                                                   inputs = encoder_embeddings,\n",
        "                                                   sequence_length = encoder_sequence_length,\n",
        "                                                   dtype = tf.float32)\n",
        "  \n",
        "  return encoder_outputs, encoder_states\n"
      ],
      "execution_count": 0,
      "outputs": []
    },
    {
      "metadata": {
        "id": "R3v5y5YB6lHv",
        "colab_type": "code",
        "colab": {}
      },
      "cell_type": "code",
      "source": [
        "# preprocessing the targets\n",
        "# need batches, \n",
        "# need each to start with <SOS> token\n",
        "\n",
        "def preprocess_decoder_inputs(targets, word2int_dict, batch_size):\n",
        "  \"\"\"\n",
        "\n",
        "  Prepares the decoder inputs (i.e. the 'targets') for use\n",
        "     \n",
        "     Inputs: \n",
        "        targets: the input for the decoder for training.\n",
        "        word2int_dict: one of the dictionaries used to map a word to its integer\n",
        "        batch_size: size of each batch for model training\n",
        "        \n",
        "     Outputs:\n",
        "        preprocessed_targets: the processed version of the decoder inputs\n",
        "  \n",
        "  \"\"\"\n",
        "  \n",
        "  # Using <SOS> for \"start of string\", create a tensor with one per batch element\n",
        "  left_side = tf.fill([batch_size, 1], word2int_dict['<SOS>'])\n",
        "    \n",
        "  # Take the targets and remove the last member of each sample (it is blank)\n",
        "  right_side = tf.strided_slice(targets, [0,0], [batch_size, -1], [1,1])\n",
        "  \n",
        "  # Add the <SOS> to the left side of every target phrase\n",
        "  return tf.concat([left_side, right_side], 1)"
      ],
      "execution_count": 0,
      "outputs": []
    },
    {
      "metadata": {
        "id": "XrO9rYaxfuUc",
        "colab_type": "text"
      },
      "cell_type": "markdown",
      "source": [
        "### Attention\n",
        "- (warning for later, when I add Beam Search) **NOTE** If you are using the `BeamSearchDecoder` with a cell wrapped in\n",
        "`AttentionWrapper`\n",
        "- will also need to return here with DeviceWrapper for multiple GPUs"
      ]
    },
    {
      "metadata": {
        "id": "Po14wIN5hQLz",
        "colab_type": "code",
        "colab": {}
      },
      "cell_type": "code",
      "source": [
        "def decoder(decoder_inputs, encoder_state, decoder_cell, decoder_embedding_size,\n",
        "            vocabulary_size, decoder_sequence_length, max_sequence_length,\n",
        "            word2id_dict, batch_size):\n",
        "  \n",
        "  \n",
        "  embedding_layer = tf.Variable(tf.random_uniform([vocabulary_size, decoder_embedding_size]))\n",
        "  embeddings = tf.nn.embedding_lookup(embedding_layer, decoder_inputs)\n",
        "  \n",
        "  output_layer = Dense(vocabulary_size, kernel_initializer=tf.truncated_normal_initializer(0.0, 0.1))\n",
        "    \n",
        "  with tf.variable_scope('decoder'):\n",
        "  \n",
        "    train_helper = tf.contrib.seq2seq.TrainingHelper(embeddings, sequence_length = decoder_sequence_length)\n",
        "\n",
        "    train_decoder = tf.contrib.seq2seq.BasicDecoder(cell = decoder_cell,\n",
        "                                             helper = train_helper,\n",
        "                                             initial_state = encoder_state, \n",
        "                                                    output_layer = output_layer)\n",
        "\n",
        "\n",
        "    # returns (final_outputs, final_state, final_sequence_lengths)\n",
        "    train_decoder_output, _, _ = tf.contrib.seq2seq.dynamic_decode(decoder = train_decoder,\n",
        "                                                             impute_finished = True,\n",
        "                                                             maximum_iterations = max_sequence_length)\n",
        "    ###########################\n",
        "    #decoder_output_dropout is handled in a attention wrapper function outside of this functinon                                                                \n",
        "                                                   \n",
        "  with tf.variable_scope('decoder', reuse=True):\n",
        "  \n",
        "    starting_id_vector = tf.tile(tf.constant([word2id_dict['<SOS>']], dtype=tf.int32), [batch_size], name = 'starting_id_vector')                                               \n",
        "                                                   \n",
        "    infer_helper = tf.contrib.seq2seq.GreedyEmbeddingHelper(embedding_layer, \n",
        "                                                            starting_id_vector,\n",
        "                                                           word2id_dict['<EOS>'])                                                   \n",
        "\n",
        "    infer_decoder = tf.contrib.seq2seq.BasicDecoder(decoder_cell,\n",
        "                                                    helper = infer_helper,\n",
        "                                                    initial_state = encoder_state,\n",
        "                                                    output_layer=output_layer)\n",
        "\n",
        "\n",
        "    # returns (final_outputs, final_state, final_sequence_lengths)\n",
        "    infer_decoder_output, _, _ = tf.contrib.seq2seq.dynamic_decode(infer_decoder,\n",
        "                                                             impute_finished = True,\n",
        "                                                             maximum_iterations = max_sequence_length)\n",
        "    \n",
        "                                                   \n",
        "  return train_decoder_output, infer_decoder_output\n",
        "                                                   \n",
        "                                                   \n",
        "                                              \n",
        "  "
      ],
      "execution_count": 0,
      "outputs": []
    },
    {
      "metadata": {
        "id": "kZs76eWQcGGl",
        "colab_type": "code",
        "colab": {}
      },
      "cell_type": "code",
      "source": [
        "\n",
        "def attention_mechanism(rnn_size, keep_prob, encoder_outputs, encoder_states, encoder_sequence_length, batch_size):\n",
        "  \n",
        "  \n",
        "  def cell(units, probs):\n",
        "    layer = tf.contrib.rnn.BasicLSTMCell(units)\n",
        "    return tf.contrib.rnn.DropoutWrapper(layer, probs)\n",
        "  \n",
        "  decoder_cell = cell(rnn_size, keep_prob)\n",
        "  \n",
        "  attention_mechanism = tf.contrib.seq2seq.BahdanauAttention(rnn_size, \n",
        "                                                            encoder_outputs,\n",
        "                                                            encoder_sequence_length)\n",
        "  \n",
        "  decoder_cell_wrapped = tf.contrib.seq2seq.AttentionWrapper(decoder_cell,\n",
        "                                                            attention_mechanism,\n",
        "                                                            rnn_size / 2)\n",
        "  \n",
        "  attention_ought = decoder_cell_wrapped.zero_state(batch_size = batch_size, dtype = tf.float32)\n",
        "  \n",
        "  encoder_state_new = attention_ought.clone(cell_state = encoder_states[-1])\n",
        "  \n",
        "  return decoder_cell_wrapped, encoder_state_new\n",
        "  \n"
      ],
      "execution_count": 0,
      "outputs": []
    },
    {
      "metadata": {
        "id": "43aLI3wXIBwc",
        "colab_type": "code",
        "colab": {}
      },
      "cell_type": "code",
      "source": [
        "def optimizer_loss(outputs, targets, decoder_sequence_length, max_sequence_length, learning_rate, clip_rate):\n",
        "    '''\n",
        "\t\n",
        "\t\tFunction used to define optimizer and loss function\n",
        "\t\tInputs:\n",
        "\t\t\toutputs - outputs got from decoder part of the network\n",
        "\t\t\ttargets - expected outputs/ labels\n",
        "\t\t\tdec_seq_len -\n",
        "\t\t\tmax_seq_len - \n",
        "\t\t\tlearning_rate - small nubmer used to decrease value of gradients used to update our network\n",
        "\t\t\tclip_rate - tolerance boundries for clipping gradients\n",
        "\t\tOutputs:\n",
        "\t\t\tloss -\n",
        "\t\t\ttrained_opt - optimizer with clipped gradients\n",
        "    '''\n",
        "    logits = tf.identity(outputs.rnn_output)\n",
        "    \n",
        "    mask_weights = tf.sequence_mask(decoder_sequence_length, max_sequence_length, dtype=tf.float32)\n",
        "    \n",
        "    with tf.variable_scope('opt_loss'):\n",
        "        #using sequence_loss to optimize the seq2seq model\n",
        "        loss = tf.contrib.seq2seq.sequence_loss(logits, \n",
        "                                                targets, \n",
        "                                                mask_weights)\n",
        "        \n",
        "        #Define optimizer\n",
        "        optimizer = tf.train.AdamOptimizer(learning_rate)\n",
        "\n",
        "        #Next 3 lines used to clip gradients {Prevent gradient explosion problem}\n",
        "        gradients = tf.gradients(loss, tf.trainable_variables())\n",
        "        clipped_grads, _ = tf.clip_by_global_norm(gradients, clip_rate)\n",
        "        trained_opt = optimizer.apply_gradients(zip(clipped_grads, tf.trainable_variables()))\n",
        "        \n",
        "    return loss, trained_opt\n"
      ],
      "execution_count": 0,
      "outputs": []
    },
    {
      "metadata": {
        "id": "adeYZW4j_7-V",
        "colab_type": "code",
        "colab": {}
      },
      "cell_type": "code",
      "source": [
        "class Seq2Seq_Model(object):\n",
        "    \n",
        "    def __init__(self, learning_rate, batch_size, encoder_embedded_size, decoder_embedded_size, rnn_size, \n",
        "                 number_of_layers, vocab_size, word2id_dict, clip_rate):\n",
        "        \n",
        "        #tf.reset_default_graph()\n",
        "        \n",
        "        self.inputs, self.targets, self.keep_prob, self.encoder_sequence_length, self.decoder_sequence_length, max_sequence_length = model_inputs()\n",
        "        \n",
        "        \n",
        "        enc_outputs, enc_states = encoder_rnn(self.inputs, \n",
        "                                          rnn_size,\n",
        "                                          number_of_layers, \n",
        "                                          self.encoder_sequence_length, \n",
        "                                          self.keep_prob, \n",
        "                                          encoder_embedded_size, \n",
        "                                          vocab_size)\n",
        "        \n",
        "        dec_inputs = preprocess_decoder_inputs(self.targets, \n",
        "                                                  word2id_dict, \n",
        "                                                  batch_size)\n",
        "        \n",
        "        \n",
        "        decoder_cell, encoder_states_new = attention_mechanism(rnn_size, \n",
        "                                                          self.keep_prob, \n",
        "                                                          enc_outputs, \n",
        "                                                          enc_states, \n",
        "                                                          self.encoder_sequence_length, \n",
        "                                                          batch_size)\n",
        "        \n",
        "        train_outputs, inference_output = decoder(dec_inputs, \n",
        "                                                  encoder_states_new, \n",
        "                                                  decoder_cell,\n",
        "                                                  decoder_embedded_size, \n",
        "                                                  vocab_size, \n",
        "                                                  self.decoder_sequence_length, \n",
        "                                                  max_sequence_length, \n",
        "                                                  word2id_dict, \n",
        "                                                  batch_size)\n",
        "        \n",
        "        self.predictions  = tf.identity(inference_output.sample_id, name='preds')\n",
        "        \n",
        "        self.loss, self.opt = optimizer_loss(train_outputs, \n",
        "                                       self.targets, \n",
        "                                       self.decoder_sequence_length, \n",
        "                                       max_sequence_length, \n",
        "                                       learning_rate, \n",
        "                                       clip_rate)"
      ],
      "execution_count": 0,
      "outputs": []
    },
    {
      "metadata": {
        "id": "C3adoQBBzf9V",
        "colab_type": "code",
        "colab": {}
      },
      "cell_type": "code",
      "source": [
        "# Next up: hyper parameters\n",
        "epochs = 5 #100\n",
        "batch_size = 10  #64 make bigger to make faster\n",
        "rnn_size = 64 # 512\n",
        "num_layers = 2  #3\n",
        "encoding_embedding_size = 64 #512  # 512 col in embedding matrix\n",
        "decoding_embedding_size = 64 #512\n",
        "learning_rate = 0.1 # 0.01\n",
        "learning_rate_decay = 0.9\n",
        "min_learning_rate = 0.01 #0.0001\n",
        "keep_prob = 0.5\n",
        "keep_probability = 0.5  # based on hinton paper '14'\n",
        "clip= 5"
      ],
      "execution_count": 0,
      "outputs": []
    },
    {
      "metadata": {
        "id": "vTvlebyhA0YC",
        "colab_type": "code",
        "colab": {}
      },
      "cell_type": "code",
      "source": [
        "tf.reset_default_graph()\n",
        "graph1 = tf.get_default_graph()\n",
        "\n",
        "with graph1.as_default():\n",
        "  \n",
        "  model = Seq2Seq_Model(learning_rate, batch_size, encoding_embedding_size, decoding_embedding_size,\n",
        "                       rnn_size, num_layers, len(word2count), questionswords2int, clip)"
      ],
      "execution_count": 0,
      "outputs": []
    },
    {
      "metadata": {
        "id": "VYJQjyNlwbE0",
        "colab_type": "code",
        "colab": {}
      },
      "cell_type": "code",
      "source": [
        "session.close()"
      ],
      "execution_count": 0,
      "outputs": []
    },
    {
      "metadata": {
        "id": "-91sT3evJ-k5",
        "colab_type": "code",
        "colab": {}
      },
      "cell_type": "code",
      "source": [
        "def get_accuracy(target, logits):\n",
        "    \"\"\"\n",
        "    Calculate accuracy\n",
        "    \"\"\"\n",
        "    max_seq = max(target.shape[1], logits.shape[1])\n",
        "    if max_seq - target.shape[1]:\n",
        "        target = np.pad(\n",
        "            target,\n",
        "            [(0,0),(0,max_seq - target.shape[1])],\n",
        "            'constant')\n",
        "    if max_seq - logits.shape[1]:\n",
        "        logits = np.pad(\n",
        "            logits,\n",
        "            [(0,0),(0,max_seq - logits.shape[1])],\n",
        "            'constant')\n",
        "\n",
        "    return np.mean(np.equal(target, logits))"
      ],
      "execution_count": 0,
      "outputs": []
    },
    {
      "metadata": {
        "id": "ckHWyDJgqhdm",
        "colab_type": "code",
        "colab": {}
      },
      "cell_type": "code",
      "source": [
        "# Apply padding to the sequences so the question and answer sequences are the same\n",
        "\n",
        "def apply_padding(batch_of_sequences, word2int):\n",
        "  max_sequence_length = max([len(sequence) for sequence in batch_of_sequences])\n",
        "  return [sequence + [word2int['<PAD>']] * (max_sequence_length - len(sequence)) for sequence in batch_of_sequences]\n",
        "\n",
        "                                            "
      ],
      "execution_count": 0,
      "outputs": []
    },
    {
      "metadata": {
        "id": "sxVs-CJgYLCO",
        "colab_type": "code",
        "colab": {}
      },
      "cell_type": "code",
      "source": [
        "# Fxn to split data itno batches for batch gradient descent                                            \n",
        "def split_into_batches(questions, answers, batch_size):\n",
        "  padded_questions_in_batch = []\n",
        "  padded_answers_in_batch = []\n",
        "  final_question_batches = []\n",
        "  final_answer_batches = []\n",
        "  \n",
        "  for batch_index in range(0,len(questions) // batch_size):\n",
        "      start_index = batch_index * batch_size\n",
        "                                            \n",
        "      questions_in_batch = questions[start_index : start_index + batch_size]\n",
        "      answers_in_batch = answers[start_index : start_index + batch_size]\n",
        "      \n",
        "                         \n",
        "      final_question_batches.append(questions_in_batch)\n",
        "      final_answer_batches.append(answers_in_batch)\n",
        "       \n",
        "  return final_question_batches, final_answer_batches\n",
        "   "
      ],
      "execution_count": 0,
      "outputs": []
    },
    {
      "metadata": {
        "id": "tZhqWF4lZMZm",
        "colab_type": "code",
        "colab": {}
      },
      "cell_type": "code",
      "source": [
        "# Split data into training and validation sets\n",
        "# needs more sophistication later.\n",
        "# scq/sca mean sorted clean questions / answers from the preprocessign step.\n",
        "\n",
        "training_validation_split = int(len(sorted_clean_questions) * 0.2)\n",
        "\n",
        "train_Q = sorted_clean_questions[training_validation_split:]\n",
        "train_A = sorted_clean_answers[training_validation_split:]\n",
        "\n",
        "#val_Q = apply_padding(sorted_clean_questions[:training_validation_split],questionswords2int)\n",
        "#val_A = apply_padding(sorted_clean_answers[:training_validation_split],questionswords2int)"
      ],
      "execution_count": 0,
      "outputs": []
    },
    {
      "metadata": {
        "id": "gz6OMMiirm-O",
        "colab_type": "code",
        "colab": {}
      },
      "cell_type": "code",
      "source": [
        "#PQIB, PAIB = split_into_batches(train_Q, train_A, batch_size) #apply_padding(train_Q,questionswords2int),apply_padding(train_A,questionswords2int), batch_size)\n",
        "\n",
        "PQIB, PAIB = split_into_batches(apply_padding(train_Q,questionswords2int),apply_padding(train_A,questionswords2int), batch_size)\n"
      ],
      "execution_count": 0,
      "outputs": []
    },
    {
      "metadata": {
        "id": "YoddAR_lpdl3",
        "colab_type": "code",
        "colab": {}
      },
      "cell_type": "code",
      "source": [
        "session.close()"
      ],
      "execution_count": 0,
      "outputs": []
    },
    {
      "metadata": {
        "id": "ltov7S7IsRIy",
        "colab_type": "code",
        "colab": {}
      },
      "cell_type": "code",
      "source": [
        "#tf.reset_default_graph()\n",
        "#graph = tf.get_default_graph()"
      ],
      "execution_count": 0,
      "outputs": []
    },
    {
      "metadata": {
        "id": "EYqcbiKI8sTK",
        "colab_type": "code",
        "colab": {}
      },
      "cell_type": "code",
      "source": [
        "session = tf.Session(graph = graph1)\n",
        "#session.run(tf.global_variables_initializer())"
      ],
      "execution_count": 0,
      "outputs": []
    },
    {
      "metadata": {
        "id": "c3dGVvipCPV9",
        "colab_type": "code",
        "colab": {
          "base_uri": "https://localhost:8080/",
          "height": 861
        },
        "outputId": "77106c63-a8e5-4c64-9843-4c585734b5a2"
      },
      "cell_type": "code",
      "source": [
        "session.run(tf.global_variables_initializer())\n",
        "PRINT_ERROR = True\n",
        "\n",
        "epochs = 3\n",
        "\n",
        "epoch_accuracy = []\n",
        "epoch_loss = []\n",
        "\n",
        "for i in range(epochs):\n",
        "  \n",
        "  bucket_accuracy = []\n",
        "  bucket_loss = []\n",
        "  \n",
        "  # for bucket index \n",
        "  for b_idx in tqdm(range(3)):#len(PQIB))):\n",
        "  \n",
        "    X_batch = np.asarray(PQIB[b_idx])\n",
        "    y_batch = np.asarray(PAIB[b_idx])\n",
        "\n",
        "    feed_dict = {model.inputs:X_batch, \n",
        "         model.targets:y_batch, \n",
        "         model.keep_prob:keep_prob, \n",
        "         model.decoder_sequence_length:[len(y_batch[0])]*batch_size,\n",
        "         model.encoder_sequence_length:[len(X_batch[0])]*batch_size}\n",
        "    \n",
        "    cost, _, preds = session.run([model.loss, model.opt, model.predictions], feed_dict=feed_dict)\n",
        "\n",
        "    bucket_loss.append(cost)\n",
        "    bucket_accuracy.append(get_accuracy(y_batch, preds))\n",
        "\n",
        "    if(PRINT_ERROR == True and b_idx%100 == 0):    \n",
        "      print(\" Bucket {}:\".format(b_idx+1), \n",
        "          \" | Loss: {}\".format(np.mean(bucket_loss)), \n",
        "          \" | Accuracy: {}\".format(np.mean(bucket_accuracy)))\n",
        "\n",
        "      \n",
        "  epoch_loss.append(np.mean(bucket_loss))\n",
        "  epoch_accuracy.append(np.mean(bucket_accuracy))\n",
        "      \n",
        "  if(PRINT_ERROR == True and i%100 == 0):\n",
        "      print(\"EPOCH: {}/{}\".format(i, epochs), \n",
        "          \" | Epoch loss: {}\".format(np.mean(epoch_loss)), \n",
        "          \" | Epoch accuracy: {}\".format(np.mean(epoch_accuracy)))\n",
        "\n",
        "    \n",
        "session.close()\n",
        "    "
      ],
      "execution_count": 84,
      "outputs": [
        {
          "output_type": "stream",
          "text": [
            "\n",
            "\n",
            "\n",
            "  0%|          | 0/3 [00:00<?, ?it/s]\u001b[A\u001b[A\u001b[A\n",
            "\n",
            "\n",
            " 33%|███▎      | 1/3 [00:16<00:32, 16.30s/it]\u001b[A\u001b[A\u001b[A"
          ],
          "name": "stderr"
        },
        {
          "output_type": "stream",
          "text": [
            " Bucket 1:  | Loss: 11.147171974182129  | Accuracy: 0.5942492012779552\n"
          ],
          "name": "stdout"
        },
        {
          "output_type": "stream",
          "text": [
            "\n",
            "\n",
            "\n",
            " 67%|██████▋   | 2/3 [00:31<00:15, 15.59s/it]\u001b[A\u001b[A\u001b[A\n",
            "\n",
            "\n",
            "100%|██████████| 3/3 [00:46<00:00, 15.36s/it]\u001b[A\u001b[A\u001b[A\n",
            "\n",
            "\n",
            "\u001b[A\u001b[A\u001b[A\n",
            "\n",
            "\n",
            "  0%|          | 0/3 [00:00<?, ?it/s]\u001b[A\u001b[A\u001b[A"
          ],
          "name": "stderr"
        },
        {
          "output_type": "stream",
          "text": [
            "EPOCH: 0/3  | Epoch loss: 5.577220439910889  | Epoch accuracy: 0.8315228966986156\n"
          ],
          "name": "stdout"
        },
        {
          "output_type": "stream",
          "text": [
            "\n",
            "\n",
            "\n",
            " 33%|███▎      | 1/3 [00:14<00:29, 14.86s/it]\u001b[A\u001b[A\u001b[A"
          ],
          "name": "stderr"
        },
        {
          "output_type": "stream",
          "text": [
            " Bucket 1:  | Loss: 0.6047214865684509  | Accuracy: 0.37731629392971244\n"
          ],
          "name": "stdout"
        },
        {
          "output_type": "stream",
          "text": [
            "\n",
            "\n",
            "\n",
            " 67%|██████▋   | 2/3 [00:22<00:11, 11.38s/it]\u001b[A\u001b[A\u001b[A\n",
            "\n",
            "\n",
            "100%|██████████| 3/3 [00:26<00:00,  8.95s/it]\u001b[A\u001b[A\u001b[A\n",
            "\n",
            "\n",
            "\u001b[A\u001b[A\u001b[A\n",
            "\n",
            "\n",
            "  0%|          | 0/3 [00:00<?, ?it/s]\u001b[A\u001b[A\u001b[A\n",
            "\n",
            "\n",
            " 33%|███▎      | 1/3 [00:14<00:29, 14.91s/it]\u001b[A\u001b[A\u001b[A"
          ],
          "name": "stderr"
        },
        {
          "output_type": "stream",
          "text": [
            " Bucket 1:  | Loss: 1.017672061920166  | Accuracy: 0.9313099041533547\n"
          ],
          "name": "stdout"
        },
        {
          "output_type": "stream",
          "text": [
            "\n",
            "\n",
            "\n",
            " 67%|██████▋   | 2/3 [00:29<00:14, 14.90s/it]\u001b[A\u001b[A\u001b[A\n",
            "\n",
            "\n",
            "100%|██████████| 3/3 [00:44<00:00, 14.90s/it]\u001b[A\u001b[A\u001b[A\n",
            "\n",
            "\n",
            "\u001b[A\u001b[A\u001b[A"
          ],
          "name": "stderr"
        }
      ]
    },
    {
      "metadata": {
        "id": "xUc4E81zEmQQ",
        "colab_type": "text"
      },
      "cell_type": "markdown",
      "source": [
        "epochs = 1\n",
        "\n",
        "for i in range(epochs):\n",
        "\n",
        "    epoch_accuracy = []\n",
        "    epoch_loss = []\n",
        "\n",
        "    for b in range(len(sorted_clean_questions)):   # count each bucket once\n",
        "        questions_bucket = []\n",
        "        answers_bucket = []    \n",
        "        bucket_accuracy = []\n",
        "        bucket_loss = []\n",
        "        \n",
        "        for questions_bucket, answers_bucket in split_into_batches(sorted_clean_questions, sorted_clean_answers, batch_size):\n",
        "  \n",
        "\n",
        "        #for k in range(len(questions_bucket)):\n",
        "        #    questions_bucket.append(np.array(sorted_clean_questions[k]))\n",
        "        #    answers_bucket.append(np.array(sorted_clean_answers[k]))\n",
        "            \n",
        "          # tqdm is a progress bar\n",
        "          # \n",
        "          for ii in tqdm(range(len(questions_bucket) //  batch_size)):\n",
        "\n",
        "              starting_id = ii * batch_size\n",
        "\n",
        "              X_batch = questions_bucket[starting_id:starting_id+batch_size]\n",
        "              y_batch = answers_bucket[starting_id:starting_id+batch_size]\n",
        "\n",
        "              feed_dict = {model.inputs:X_batch, \n",
        "                           model.targets:y_batch, \n",
        "                           model.keep_prob:keep_prob, \n",
        "                           model.decoder_sequence_length:[len(y_batch[0])]*batch_size,\n",
        "                           model.encoder_sequence_length:[len(X_batch[0])]*batch_size}\n",
        "\n",
        "              cost, _, preds = session.run([model.loss, model.opt, model.predictions], feed_dict=feed_dict)\n",
        "\n",
        "              epoch_accuracy.append(get_accuracy(np.array(y_batch), np.array(preds)))\n",
        "              bucket_accuracy.append(get_accuracy(np.array(y_batch), np.array(preds)))\n",
        "\n",
        "              bucket_loss.append(cost)\n",
        "              epoch_loss.append(cost)\n",
        "        if(b%100 == 0):    \n",
        "          print(\"Bucket {}:\".format(b+1), \n",
        "                \" | Loss: {}\".format(np.mean(bucket_loss)), \n",
        "                \" | Accuracy: {}\".format(np.mean(bucket_accuracy)))\n",
        "    if(i%100 == 0):\n",
        "      print(\"EPOCH: {}/{}\".format(i, epochs), \n",
        "            \" | Epoch loss: {}\".format(np.mean(epoch_loss)), \n",
        "            \" | Epoch accuracy: {}\".format(np.mean(epoch_accuracy)))\n",
        "    \n",
        "    saver.save(session, \"checkpoint/chatbot_{}.ckpt\".format(i))"
      ]
    },
    {
      "metadata": {
        "id": "-isTNvugZwNn",
        "colab_type": "code",
        "colab": {
          "base_uri": "https://localhost:8080/",
          "height": 232
        },
        "outputId": "879ae12a-253d-4bf1-f7f3-20c18aafba46"
      },
      "cell_type": "code",
      "source": [
        "#TRAINING STEPS\n",
        "\n",
        "batch_index_check_training_loss = 100\n",
        "batch_index_check_validation_loss = ((len(train_Q)) // batch_size // 2) - 1\n",
        "total_training_loss_error = 0\n",
        "list_validation_loss_error = []\n",
        "early_stopping_check = 0\n",
        "early_stopping_stop = 1000\n",
        "\n",
        "checkpoint = \"./chatbot_weights.ckpt\""
      ],
      "execution_count": 0,
      "outputs": [
        {
          "output_type": "error",
          "ename": "NameError",
          "evalue": "ignored",
          "traceback": [
            "\u001b[0;31m---------------------------------------------------------------------------\u001b[0m",
            "\u001b[0;31mNameError\u001b[0m                                 Traceback (most recent call last)",
            "\u001b[0;32m<ipython-input-3-9d772ed5cb9f>\u001b[0m in \u001b[0;36m<module>\u001b[0;34m()\u001b[0m\n\u001b[1;32m      1\u001b[0m \u001b[0;34m\u001b[0m\u001b[0m\n\u001b[1;32m      2\u001b[0m \u001b[0mbatch_index_check_training_loss\u001b[0m \u001b[0;34m=\u001b[0m \u001b[0;36m100\u001b[0m\u001b[0;34m\u001b[0m\u001b[0m\n\u001b[0;32m----> 3\u001b[0;31m \u001b[0mbatch_index_check_validation_loss\u001b[0m \u001b[0;34m=\u001b[0m \u001b[0;34m(\u001b[0m\u001b[0;34m(\u001b[0m\u001b[0mlen\u001b[0m\u001b[0;34m(\u001b[0m\u001b[0mtrain_Q\u001b[0m\u001b[0;34m)\u001b[0m\u001b[0;34m)\u001b[0m \u001b[0;34m//\u001b[0m \u001b[0mbatch_size\u001b[0m \u001b[0;34m//\u001b[0m \u001b[0;36m2\u001b[0m\u001b[0;34m)\u001b[0m \u001b[0;34m-\u001b[0m \u001b[0;36m1\u001b[0m\u001b[0;34m\u001b[0m\u001b[0m\n\u001b[0m\u001b[1;32m      4\u001b[0m \u001b[0mtotal_training_loss_error\u001b[0m \u001b[0;34m=\u001b[0m \u001b[0;36m0\u001b[0m\u001b[0;34m\u001b[0m\u001b[0m\n\u001b[1;32m      5\u001b[0m \u001b[0mlist_validation_loss_error\u001b[0m \u001b[0;34m=\u001b[0m \u001b[0;34m[\u001b[0m\u001b[0;34m]\u001b[0m\u001b[0;34m\u001b[0m\u001b[0m\n",
            "\u001b[0;31mNameError\u001b[0m: name 'train_Q' is not defined"
          ]
        }
      ]
    },
    {
      "metadata": {
        "id": "k2tGEeYZaqvj",
        "colab_type": "text"
      },
      "cell_type": "markdown",
      "source": [
        ""
      ]
    },
    {
      "metadata": {
        "id": "qd1F9Y_sa4um",
        "colab_type": "code",
        "colab": {}
      },
      "cell_type": "code",
      "source": [
        "session.run(tf.global_variables_initializer())"
      ],
      "execution_count": 0,
      "outputs": []
    }
  ]
}