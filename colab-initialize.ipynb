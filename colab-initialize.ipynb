{
  "nbformat": 4,
  "nbformat_minor": 0,
  "metadata": {
    "colab": {
      "name": "Untitled2.ipynb",
      "version": "0.3.2",
      "provenance": [],
      "include_colab_link": true
    },
    "kernelspec": {
      "name": "python3",
      "display_name": "Python 3"
    }
  },
  "cells": [
    {
      "cell_type": "markdown",
      "metadata": {
        "id": "view-in-github",
        "colab_type": "text"
      },
      "source": [
        "[View in Colaboratory](https://colab.research.google.com/github/hamil168/Chatbots/blob/master/colab-initialize.ipynb)"
      ]
    },
    {
      "metadata": {
        "id": "lxj1pGRpOKpE",
        "colab_type": "code",
        "colab": {}
      },
      "cell_type": "code",
      "source": [
        "# For a fresh Colab instance, clone fresh:\n",
        "!pip install -q xlrd\n",
        "!git clone https://github.com/hamil168/Chatbots"
      ],
      "execution_count": 0,
      "outputs": []
    },
    {
      "metadata": {
        "id": "ExFDY4i2OPhS",
        "colab_type": "code",
        "colab": {}
      },
      "cell_type": "code",
      "source": [
        "# Change to Colab directory:\n",
        "cd Chatbots/"
      ],
      "execution_count": 0,
      "outputs": []
    },
    {
      "metadata": {
        "id": "ICFgKYjfOUSi",
        "colab_type": "code",
        "colab": {}
      },
      "cell_type": "code",
      "source": [
        "# For an existing Colab instance, pull from master, uncomment this:\n",
        "\n",
        "!git pull https://github.com/hamil168/Chatbots master"
      ],
      "execution_count": 0,
      "outputs": []
    },
    {
      "metadata": {
        "id": "gqh5WWwMOaiO",
        "colab_type": "code",
        "colab": {}
      },
      "cell_type": "code",
      "source": [
        "# Files as they appear in the repo clone\n",
        "ls"
      ],
      "execution_count": 0,
      "outputs": []
    }
  ]
}